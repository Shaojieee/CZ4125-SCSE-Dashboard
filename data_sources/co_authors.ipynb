{
 "cells": [
  {
   "cell_type": "code",
   "execution_count": 1,
   "metadata": {},
   "outputs": [],
   "source": [
    "import sys\n",
    "sys.path.append('../')\n",
    "import os, json, time, random\n",
    "from google_scholar import scrape_google_scholar_profile, save_google_scholar_profile, scrape_affiliates\n",
    "from utils import create_driver\n",
    "from tqdm import tqdm"
   ]
  },
  {
   "cell_type": "code",
   "execution_count": 7,
   "metadata": {},
   "outputs": [
    {
     "name": "stdout",
     "output_type": "stream",
     "text": [
      "0. ./raw_data/google_scholar_arvind_easwaran.json\n"
     ]
    },
    {
     "name": "stderr",
     "output_type": "stream",
     "text": [
      "0it [00:00, ?it/s]\n"
     ]
    },
    {
     "name": "stdout",
     "output_type": "stream",
     "text": [
      "1. ./raw_data/google_scholar_zhang_jie.json\n"
     ]
    },
    {
     "name": "stderr",
     "output_type": "stream",
     "text": [
      " 85%|████████▌ | 68/80 [39:06<07:17, 36.43s/it]"
     ]
    },
    {
     "name": "stdout",
     "output_type": "stream",
     "text": [
      "Error getting citation statistics at https://scholar.google.com/citations?hl=en&user=NDXZhwcAAAAJ\n",
      "Message: no such element: Unable to locate element: {\"method\":\"css selector\",\"selector\":\"[id=\"gsc_rsb_st\"]\"}\n",
      "  (Session info: headless chrome=118.0.5993.96); For documentation on this error, please visit: https://www.selenium.dev/documentation/webdriver/troubleshooting/errors#no-such-element-exception\n",
      "Stacktrace:\n",
      "0   chromedriver                        0x0000000103008510 chromedriver + 4310288\n",
      "1   chromedriver                        0x00000001030004bc chromedriver + 4277436\n",
      "2   chromedriver                        0x0000000102c33b6c chromedriver + 293740\n",
      "3   chromedriver                        0x0000000102c79040 chromedriver + 577600\n",
      "4   chromedriver                        0x0000000102cb3e60 chromedriver + 818784\n",
      "5   chromedriver                        0x0000000102c6cfd0 chromedriver + 528336\n",
      "6   chromedriver                        0x0000000102c6de7c chromedriver + 532092\n",
      "7   chromedriver                        0x0000000102fce834 chromedriver + 4073524\n",
      "8   chromedriver                        0x0000000102fd27fc chromedriver + 4089852\n",
      "9   chromedriver                        0x0000000102fd2c58 chromedriver + 4090968\n",
      "10  chromedriver                        0x0000000102fd88f8 chromedriver + 4114680\n",
      "11  chromedriver                        0x0000000102fd3234 chromedriver + 4092468\n",
      "12  chromedriver                        0x0000000102fad604 chromedriver + 3937796\n",
      "13  chromedriver                        0x0000000102fefee8 chromedriver + 4210408\n",
      "14  chromedriver                        0x0000000102ff0064 chromedriver + 4210788\n",
      "15  chromedriver                        0x0000000103000134 chromedriver + 4276532\n",
      "16  libsystem_pthread.dylib             0x0000000181b0b034 _pthread_start + 136\n",
      "17  libsystem_pthread.dylib             0x0000000181b05e3c thread_start + 8\n",
      "\n",
      "Error in scraping publications at https://scholar.google.com/citations?hl=en&user=NDXZhwcAAAAJ\n",
      "Message: no such element: Unable to locate element: {\"method\":\"css selector\",\"selector\":\"[id=\"gsc_bpf_more\"]\"}\n",
      "  (Session info: headless chrome=118.0.5993.96); For documentation on this error, please visit: https://www.selenium.dev/documentation/webdriver/troubleshooting/errors#no-such-element-exception\n",
      "Stacktrace:\n",
      "0   chromedriver                        0x0000000103008510 chromedriver + 4310288\n",
      "1   chromedriver                        0x00000001030004bc chromedriver + 4277436\n",
      "2   chromedriver                        0x0000000102c33b6c chromedriver + 293740\n",
      "3   chromedriver                        0x0000000102c79040 chromedriver + 577600\n",
      "4   chromedriver                        0x0000000102cb3e60 chromedriver + 818784\n",
      "5   chromedriver                        0x0000000102c6cfd0 chromedriver + 528336\n",
      "6   chromedriver                        0x0000000102c6de7c chromedriver + 532092\n",
      "7   chromedriver                        0x0000000102fce834 chromedriver + 4073524\n",
      "8   chromedriver                        0x0000000102fd27fc chromedriver + 4089852\n",
      "9   chromedriver                        0x0000000102fd2c58 chromedriver + 4090968\n",
      "10  chromedriver                        0x0000000102fd88f8 chromedriver + 4114680\n",
      "11  chromedriver                        0x0000000102fd3234 chromedriver + 4092468\n",
      "12  chromedriver                        0x0000000102fad604 chromedriver + 3937796\n",
      "13  chromedriver                        0x0000000102fefee8 chromedriver + 4210408\n",
      "14  chromedriver                        0x0000000102ff0064 chromedriver + 4210788\n",
      "15  chromedriver                        0x0000000103000134 chromedriver + 4276532\n",
      "16  libsystem_pthread.dylib             0x0000000181b0b034 _pthread_start + 136\n",
      "17  libsystem_pthread.dylib             0x0000000181b05e3c thread_start + 8\n",
      "\n"
     ]
    },
    {
     "name": "stderr",
     "output_type": "stream",
     "text": [
      "100%|██████████| 80/80 [45:57<00:00, 34.47s/it]\n"
     ]
    },
    {
     "name": "stdout",
     "output_type": "stream",
     "text": [
      "2. ./raw_data/google_scholar_zhao_jun.json\n"
     ]
    },
    {
     "name": "stderr",
     "output_type": "stream",
     "text": [
      "100%|██████████| 13/13 [08:24<00:00, 38.84s/it]\n"
     ]
    },
    {
     "name": "stdout",
     "output_type": "stream",
     "text": [
      "3. ./raw_data/google_scholar_cham_tat_jen.json\n"
     ]
    },
    {
     "name": "stderr",
     "output_type": "stream",
     "text": [
      "0it [00:00, ?it/s]\n"
     ]
    },
    {
     "name": "stdout",
     "output_type": "stream",
     "text": [
      "4. ./raw_data/google_scholar_hui_siu_cheung.json\n"
     ]
    },
    {
     "name": "stderr",
     "output_type": "stream",
     "text": [
      "0it [00:00, ?it/s]\n"
     ]
    },
    {
     "name": "stdout",
     "output_type": "stream",
     "text": [
      "5. ./raw_data/google_scholar_erik_cambria.json\n"
     ]
    },
    {
     "name": "stderr",
     "output_type": "stream",
     "text": [
      "100%|██████████| 176/176 [1:36:32<00:00, 32.91s/it]\n"
     ]
    },
    {
     "name": "stdout",
     "output_type": "stream",
     "text": [
      "6. ./raw_data/google_scholar_seah_hock_soon.json\n"
     ]
    },
    {
     "name": "stderr",
     "output_type": "stream",
     "text": [
      "0it [00:00, ?it/s]\n"
     ]
    },
    {
     "name": "stdout",
     "output_type": "stream",
     "text": [
      "7. ./raw_data/google_scholar_siyuan_liu.json\n"
     ]
    },
    {
     "name": "stderr",
     "output_type": "stream",
     "text": [
      "0it [00:00, ?it/s]\n"
     ]
    },
    {
     "name": "stdout",
     "output_type": "stream",
     "text": [
      "8. ./raw_data/google_scholar_cong_gao.json\n"
     ]
    },
    {
     "name": "stderr",
     "output_type": "stream",
     "text": [
      "100%|██████████| 45/45 [28:17<00:00, 37.72s/it]\n"
     ]
    },
    {
     "name": "stdout",
     "output_type": "stream",
     "text": [
      "9. ./raw_data/google_scholar_shen_zhiqi.json\n"
     ]
    },
    {
     "name": "stderr",
     "output_type": "stream",
     "text": [
      "0it [00:00, ?it/s]\n"
     ]
    },
    {
     "name": "stdout",
     "output_type": "stream",
     "text": [
      "10. ./raw_data/google_scholar_joty_shafiq_rayhan.json\n"
     ]
    },
    {
     "name": "stderr",
     "output_type": "stream",
     "text": [
      "100%|██████████| 188/188 [1:29:53<00:00, 28.69s/it]\n"
     ]
    },
    {
     "name": "stdout",
     "output_type": "stream",
     "text": [
      "11. ./raw_data/google_scholar_bo_an.json\n"
     ]
    },
    {
     "name": "stderr",
     "output_type": "stream",
     "text": [
      "100%|██████████| 6/6 [04:36<00:00, 46.09s/it]\n"
     ]
    },
    {
     "name": "stdout",
     "output_type": "stream",
     "text": [
      "12. ./raw_data/google_scholar_wentong_cai.json\n"
     ]
    },
    {
     "name": "stderr",
     "output_type": "stream",
     "text": [
      "100%|██████████| 35/35 [18:38<00:00, 31.96s/it]\n"
     ]
    },
    {
     "name": "stdout",
     "output_type": "stream",
     "text": [
      "13. ./raw_data/google_scholar_luo_siqiang.json\n"
     ]
    },
    {
     "name": "stderr",
     "output_type": "stream",
     "text": [
      "100%|██████████| 12/12 [06:19<00:00, 31.64s/it]\n"
     ]
    },
    {
     "name": "stdout",
     "output_type": "stream",
     "text": [
      "14. ./raw_data/google_scholar_yeo_chai_kiat.json\n"
     ]
    },
    {
     "name": "stderr",
     "output_type": "stream",
     "text": [
      "0it [00:00, ?it/s]\n"
     ]
    },
    {
     "name": "stdout",
     "output_type": "stream",
     "text": [
      "15. ./raw_data/google_scholar_pan,_sinno_jialin.json\n"
     ]
    },
    {
     "name": "stderr",
     "output_type": "stream",
     "text": [
      "100%|██████████| 131/131 [1:07:19<00:00, 30.84s/it]\n"
     ]
    },
    {
     "name": "stdout",
     "output_type": "stream",
     "text": [
      "16. ./raw_data/google_scholar_dmitrii_ustiugov.json\n"
     ]
    },
    {
     "name": "stderr",
     "output_type": "stream",
     "text": [
      "100%|██████████| 25/25 [09:12<00:00, 22.11s/it]\n"
     ]
    },
    {
     "name": "stdout",
     "output_type": "stream",
     "text": [
      "17. ./raw_data/google_scholar_chen_change_loy.json\n"
     ]
    },
    {
     "name": "stderr",
     "output_type": "stream",
     "text": [
      "  4%|▍         | 7/179 [04:16<1:38:13, 34.26s/it]"
     ]
    },
    {
     "name": "stdout",
     "output_type": "stream",
     "text": [
      "Error getting citation statistics at https://scholar.google.com/citations?hl=en&user=uWfZKz4AAAAJ\n",
      "Message: no such element: Unable to locate element: {\"method\":\"css selector\",\"selector\":\"[id=\"gsc_rsb_st\"]\"}\n",
      "  (Session info: headless chrome=118.0.5993.96); For documentation on this error, please visit: https://www.selenium.dev/documentation/webdriver/troubleshooting/errors#no-such-element-exception\n",
      "Stacktrace:\n",
      "0   chromedriver                        0x0000000103108510 chromedriver + 4310288\n",
      "1   chromedriver                        0x00000001031004bc chromedriver + 4277436\n",
      "2   chromedriver                        0x0000000102d33b6c chromedriver + 293740\n",
      "3   chromedriver                        0x0000000102d79040 chromedriver + 577600\n",
      "4   chromedriver                        0x0000000102db3e60 chromedriver + 818784\n",
      "5   chromedriver                        0x0000000102d6cfd0 chromedriver + 528336\n",
      "6   chromedriver                        0x0000000102d6de7c chromedriver + 532092\n",
      "7   chromedriver                        0x00000001030ce834 chromedriver + 4073524\n",
      "8   chromedriver                        0x00000001030d27fc chromedriver + 4089852\n",
      "9   chromedriver                        0x00000001030d2c58 chromedriver + 4090968\n",
      "10  chromedriver                        0x00000001030d88f8 chromedriver + 4114680\n",
      "11  chromedriver                        0x00000001030d3234 chromedriver + 4092468\n",
      "12  chromedriver                        0x00000001030ad604 chromedriver + 3937796\n",
      "13  chromedriver                        0x00000001030efee8 chromedriver + 4210408\n",
      "14  chromedriver                        0x00000001030f0064 chromedriver + 4210788\n",
      "15  chromedriver                        0x0000000103100134 chromedriver + 4276532\n",
      "16  libsystem_pthread.dylib             0x0000000181b0b034 _pthread_start + 136\n",
      "17  libsystem_pthread.dylib             0x0000000181b05e3c thread_start + 8\n",
      "\n",
      "Error in scraping publications at https://scholar.google.com/citations?hl=en&user=uWfZKz4AAAAJ\n",
      "'NoneType' object has no attribute 'find'\n"
     ]
    },
    {
     "name": "stderr",
     "output_type": "stream",
     "text": [
      " 93%|█████████▎| 167/179 [1:05:33<03:05, 15.45s/it]"
     ]
    },
    {
     "name": "stdout",
     "output_type": "stream",
     "text": [
      "Error getting citation statistics at https://scholar.google.com/citations?hl=en&user=BXpcvSMAAAAJ\n",
      "Message: no such element: Unable to locate element: {\"method\":\"css selector\",\"selector\":\"[id=\"gsc_rsb_st\"]\"}\n",
      "  (Session info: headless chrome=118.0.5993.96); For documentation on this error, please visit: https://www.selenium.dev/documentation/webdriver/troubleshooting/errors#no-such-element-exception\n",
      "Stacktrace:\n",
      "0   chromedriver                        0x00000001032f0510 chromedriver + 4310288\n",
      "1   chromedriver                        0x00000001032e84bc chromedriver + 4277436\n",
      "2   chromedriver                        0x0000000102f1bb6c chromedriver + 293740\n",
      "3   chromedriver                        0x0000000102f61040 chromedriver + 577600\n",
      "4   chromedriver                        0x0000000102f9be60 chromedriver + 818784\n",
      "5   chromedriver                        0x0000000102f54fd0 chromedriver + 528336\n",
      "6   chromedriver                        0x0000000102f55e7c chromedriver + 532092\n",
      "7   chromedriver                        0x00000001032b6834 chromedriver + 4073524\n",
      "8   chromedriver                        0x00000001032ba7fc chromedriver + 4089852\n",
      "9   chromedriver                        0x00000001032bac58 chromedriver + 4090968\n",
      "10  chromedriver                        0x00000001032c08f8 chromedriver + 4114680\n",
      "11  chromedriver                        0x00000001032bb234 chromedriver + 4092468\n",
      "12  chromedriver                        0x0000000103295604 chromedriver + 3937796\n",
      "13  chromedriver                        0x00000001032d7ee8 chromedriver + 4210408\n",
      "14  chromedriver                        0x00000001032d8064 chromedriver + 4210788\n",
      "15  chromedriver                        0x00000001032e8134 chromedriver + 4276532\n",
      "16  libsystem_pthread.dylib             0x0000000181b0b034 _pthread_start + 136\n",
      "17  libsystem_pthread.dylib             0x0000000181b05e3c thread_start + 8\n",
      "\n"
     ]
    },
    {
     "name": "stderr",
     "output_type": "stream",
     "text": [
      "100%|██████████| 179/179 [1:11:52<00:00, 24.09s/it]\n"
     ]
    },
    {
     "name": "stdout",
     "output_type": "stream",
     "text": [
      "18. ./raw_data/google_scholar_alexei_sourin.json\n"
     ]
    },
    {
     "name": "stderr",
     "output_type": "stream",
     "text": [
      "100%|██████████| 9/9 [03:41<00:00, 24.62s/it]\n"
     ]
    },
    {
     "name": "stdout",
     "output_type": "stream",
     "text": [
      "19. ./raw_data/google_scholar_chee_wei_tan.json\n"
     ]
    },
    {
     "name": "stderr",
     "output_type": "stream",
     "text": [
      "100%|██████████| 18/18 [13:21<00:00, 44.53s/it]\n"
     ]
    },
    {
     "name": "stdout",
     "output_type": "stream",
     "text": [
      "20. ./raw_data/google_scholar_oh_hong_lye.json\n"
     ]
    },
    {
     "name": "stderr",
     "output_type": "stream",
     "text": [
      "0it [00:00, ?it/s]\n"
     ]
    },
    {
     "name": "stdout",
     "output_type": "stream",
     "text": [
      "21. ./raw_data/google_scholar_smitha_k_g.json\n"
     ]
    },
    {
     "name": "stderr",
     "output_type": "stream",
     "text": [
      "100%|██████████| 14/14 [05:37<00:00, 24.09s/it]\n"
     ]
    },
    {
     "name": "stdout",
     "output_type": "stream",
     "text": [
      "22. ./raw_data/google_scholar_anwitaman_datta.json\n"
     ]
    },
    {
     "name": "stderr",
     "output_type": "stream",
     "text": [
      "100%|██████████| 70/70 [38:50<00:00, 33.29s/it] \n"
     ]
    },
    {
     "name": "stdout",
     "output_type": "stream",
     "text": [
      "23. ./raw_data/google_scholar_ong_chin_ann.json\n"
     ]
    },
    {
     "name": "stderr",
     "output_type": "stream",
     "text": [
      "100%|██████████| 4/4 [01:25<00:00, 21.34s/it]\n"
     ]
    },
    {
     "name": "stdout",
     "output_type": "stream",
     "text": [
      "24. ./raw_data/google_scholar_owen_noel_newton_fernando.json\n"
     ]
    },
    {
     "name": "stderr",
     "output_type": "stream",
     "text": [
      "100%|██████████| 30/30 [15:41<00:00, 31.40s/it]\n"
     ]
    },
    {
     "name": "stdout",
     "output_type": "stream",
     "text": [
      "25. ./raw_data/google_scholar_lu_shijian.json\n"
     ]
    },
    {
     "name": "stderr",
     "output_type": "stream",
     "text": [
      "100%|██████████| 13/13 [03:28<00:00, 16.05s/it]\n"
     ]
    },
    {
     "name": "stdout",
     "output_type": "stream",
     "text": [
      "26. ./raw_data/google_scholar_lin_weisi.json\n"
     ]
    },
    {
     "name": "stderr",
     "output_type": "stream",
     "text": [
      "0it [00:00, ?it/s]\n"
     ]
    },
    {
     "name": "stdout",
     "output_type": "stream",
     "text": [
      "27. ./raw_data/google_scholar_li_yi.json\n"
     ]
    },
    {
     "name": "stderr",
     "output_type": "stream",
     "text": [
      "100%|██████████| 51/51 [20:52<00:00, 24.55s/it]\n"
     ]
    },
    {
     "name": "stdout",
     "output_type": "stream",
     "text": [
      "28. ./raw_data/google_scholar_huang_shell_ying.json\n"
     ]
    },
    {
     "name": "stderr",
     "output_type": "stream",
     "text": [
      "0it [00:00, ?it/s]\n"
     ]
    },
    {
     "name": "stdout",
     "output_type": "stream",
     "text": [
      "29. ./raw_data/google_scholar_a_s_madhukumar.json\n"
     ]
    },
    {
     "name": "stderr",
     "output_type": "stream",
     "text": [
      "100%|██████████| 37/37 [20:28<00:00, 33.21s/it]\n"
     ]
    },
    {
     "name": "stdout",
     "output_type": "stream",
     "text": [
      "30. ./raw_data/google_scholar_liu_yang.json\n"
     ]
    },
    {
     "name": "stderr",
     "output_type": "stream",
     "text": [
      "100%|██████████| 189/189 [1:30:29<00:00, 28.73s/it]\n"
     ]
    },
    {
     "name": "stdout",
     "output_type": "stream",
     "text": [
      "31. ./raw_data/google_scholar_pan_xingang.json\n"
     ]
    },
    {
     "name": "stderr",
     "output_type": "stream",
     "text": [
      "100%|██████████| 16/16 [09:55<00:00, 37.19s/it]\n"
     ]
    },
    {
     "name": "stdout",
     "output_type": "stream",
     "text": [
      "32. ./raw_data/google_scholar_zheng_jianmin.json\n"
     ]
    },
    {
     "name": "stderr",
     "output_type": "stream",
     "text": [
      "0it [00:00, ?it/s]\n"
     ]
    },
    {
     "name": "stdout",
     "output_type": "stream",
     "text": [
      "33. ./raw_data/google_scholar_luo_jun.json\n"
     ]
    },
    {
     "name": "stderr",
     "output_type": "stream",
     "text": [
      "100%|██████████| 43/43 [23:14<00:00, 32.43s/it]\n"
     ]
    },
    {
     "name": "stdout",
     "output_type": "stream",
     "text": [
      "34. ./raw_data/google_scholar_lee_bu_sung.json\n"
     ]
    },
    {
     "name": "stderr",
     "output_type": "stream",
     "text": [
      "0it [00:00, ?it/s]\n"
     ]
    },
    {
     "name": "stdout",
     "output_type": "stream",
     "text": [
      "35. ./raw_data/google_scholar_zhang_hanwang.json\n"
     ]
    },
    {
     "name": "stderr",
     "output_type": "stream",
     "text": [
      "100%|██████████| 92/92 [45:46<00:00, 29.85s/it]  \n"
     ]
    }
   ],
   "source": [
    "dir = './raw_data'\n",
    "google_scholar_files = [os.path.join(dir, f) for f in os.listdir(dir) if os.path.isfile(os.path.join(dir, f)) and 'google_scholar' in f and 'publication' not in f and 'profile' not in f]\n",
    "\n",
    "driver = create_driver(debug=True)\n",
    "\n",
    "for i, file in enumerate(google_scholar_files[30:]):\n",
    "    with open(file, 'r') as f:\n",
    "        profile = json.load(f)\n",
    "\n",
    "    co_authors = profile['co_authors']\n",
    "    print(f'{i}. {file}')\n",
    "    for co_author in tqdm(co_authors):\n",
    "        name = co_author['name']\n",
    "        link = co_author['link']\n",
    "\n",
    "        profile = scrape_google_scholar_profile(link, driver)\n",
    "\n",
    "        profile['link'] = link\n",
    "        profile['name'] = name\n",
    "\n",
    "        save_google_scholar_profile(\n",
    "            profile, \n",
    "            output_filename=f\"google_scholar_{name.lower().replace(' ', '_').replace('/','_')}.json\", \n",
    "            output_dir='./co_authors_raw_data'\n",
    "        )\n",
    "    \n",
    "        if random.uniform(0,1)>0.8:\n",
    "            time.sleep(random.uniform(2,4))\n",
    "\n",
    "        if random.uniform(0,1)>0.9:\n",
    "            driver.quit()\n",
    "            driver = create_driver(debug=False)\n",
    "\n",
    "driver.quit()"
   ]
  },
  {
   "cell_type": "code",
   "execution_count": 2,
   "metadata": {},
   "outputs": [
    {
     "data": {
      "text/plain": [
       "2103"
      ]
     },
     "execution_count": 2,
     "metadata": {},
     "output_type": "execute_result"
    }
   ],
   "source": [
    "dir = './co_authors_raw_data'\n",
    "google_scholar_files = [os.path.join(dir, f) for f in os.listdir(dir) if os.path.isfile(os.path.join(dir, f))]\n",
    "len(google_scholar_files)"
   ]
  },
  {
   "cell_type": "code",
   "execution_count": 5,
   "metadata": {},
   "outputs": [
    {
     "name": "stderr",
     "output_type": "stream",
     "text": [
      "100%|██████████| 2103/2103 [3:54:26<00:00,  6.69s/it]  \n"
     ]
    }
   ],
   "source": [
    "driver = create_driver(debug=True)\n",
    "\n",
    "for file in tqdm(google_scholar_files):\n",
    "    with open(file, 'r') as f:\n",
    "        profile = json.load(f)\n",
    "\n",
    "    driver.get(profile['link'])\n",
    "    time.sleep(random.uniform(3,5))\n",
    "    aff = scrape_affiliates(driver)\n",
    "\n",
    "    profile.update({'affiliates': aff})\n",
    "\n",
    "    with open(file, 'w') as f:\n",
    "        json.dump(profile, f)\n",
    "    \n",
    "    if random.uniform(0,1)>0.8:\n",
    "        time.sleep(random.uniform(5, 10))\n",
    "\n",
    "    if random.uniform(0,1)>0.9:\n",
    "        driver.quit()\n",
    "        driver = create_driver(debug=False)\n",
    "\n",
    "driver.quit()"
   ]
  },
  {
   "cell_type": "code",
   "execution_count": null,
   "metadata": {},
   "outputs": [],
   "source": []
  }
 ],
 "metadata": {
  "kernelspec": {
   "display_name": "scse_dashboard",
   "language": "python",
   "name": "python3"
  },
  "language_info": {
   "codemirror_mode": {
    "name": "ipython",
    "version": 3
   },
   "file_extension": ".py",
   "mimetype": "text/x-python",
   "name": "python",
   "nbconvert_exporter": "python",
   "pygments_lexer": "ipython3",
   "version": "3.11.3"
  }
 },
 "nbformat": 4,
 "nbformat_minor": 2
}
