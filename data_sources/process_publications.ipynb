{
 "cells": [
  {
   "cell_type": "code",
   "execution_count": 6,
   "metadata": {},
   "outputs": [],
   "source": [
    "import json\n",
    "import os\n",
    "import datetime"
   ]
  },
  {
   "cell_type": "code",
   "execution_count": 7,
   "metadata": {},
   "outputs": [],
   "source": [
    "dir = './raw_data'\n",
    "google_scholar_pub_files = [os.path.join(dir, f) for f in os.listdir(dir) if os.path.isfile(os.path.join(dir, f)) and 'google_scholar' in f and 'publication' in f]"
   ]
  },
  {
   "cell_type": "code",
   "execution_count": 8,
   "metadata": {},
   "outputs": [
    {
     "data": {
      "text/plain": [
       "19"
      ]
     },
     "execution_count": 8,
     "metadata": {},
     "output_type": "execute_result"
    }
   ],
   "source": [
    "google_scholar_pubs_keys = set()\n",
    "\n",
    "for file in google_scholar_pub_files:\n",
    "    with open(file, 'r') as f:\n",
    "        pubs = json.load(f)\n",
    "    for v in pubs.values():\n",
    "        google_scholar_pubs_keys = google_scholar_pubs_keys | v.keys()\n",
    "len(google_scholar_pubs_keys)"
   ]
  },
  {
   "cell_type": "code",
   "execution_count": 9,
   "metadata": {},
   "outputs": [
    {
     "data": {
      "text/plain": [
       "{'application_number',\n",
       " 'authors',\n",
       " 'book',\n",
       " 'conference',\n",
       " 'description',\n",
       " 'external_link',\n",
       " 'institution',\n",
       " 'inventors',\n",
       " 'issue',\n",
       " 'journal',\n",
       " 'pages',\n",
       " 'patent_number',\n",
       " 'patent_office',\n",
       " 'publication_date',\n",
       " 'publisher',\n",
       " 'report_number',\n",
       " 'source',\n",
       " 'total_citations',\n",
       " 'volume'}"
      ]
     },
     "execution_count": 9,
     "metadata": {},
     "output_type": "execute_result"
    }
   ],
   "source": [
    "google_scholar_pubs_keys"
   ]
  },
  {
   "cell_type": "markdown",
   "metadata": {},
   "source": [
    "# No. of published by year"
   ]
  },
  {
   "cell_type": "code",
   "execution_count": 10,
   "metadata": {},
   "outputs": [
    {
     "data": {
      "text/plain": [
       "615"
      ]
     },
     "execution_count": 10,
     "metadata": {},
     "output_type": "execute_result"
    }
   ],
   "source": [
    "unknowns = 0\n",
    "\n",
    "for file in google_scholar_pub_files:\n",
    "    with open(file, 'r') as f:\n",
    "        pubs = json.load(f)\n",
    "    years = {}\n",
    "    min_year, max_year = float('inf'), datetime.datetime.now().year\n",
    "    for v in pubs.values():\n",
    "        if 'publication_date' in v:\n",
    "            year = int(v['publication_date'].split('/')[0])\n",
    "            min_year = min(year, min_year)\n",
    "        else:\n",
    "            year = 'unknown'\n",
    "            unknowns+=1\n",
    "        years[year] = years.get(year, 0) + 1\n",
    "    \n",
    "    # For years in between with no citations\n",
    "    for year in range(min_year, max_year+1):\n",
    "        years[year] = years.get(year, 0)\n",
    "    \n",
    "    with open(f'./processed_data/{file.split(\"/\")[-1][15:-18]}.json', 'r') as f:\n",
    "        profile = json.load(f)\n",
    "        profile['num_published'] = years\n",
    "    \n",
    "    with open(f'./processed_data/{file.split(\"/\")[-1][15:-18]}.json', 'w') as f:\n",
    "        json.dump(profile, f)\n",
    "unknowns"
   ]
  },
  {
   "cell_type": "markdown",
   "metadata": {},
   "source": [
    "# h-index by publication year"
   ]
  },
  {
   "cell_type": "code",
   "execution_count": 16,
   "metadata": {},
   "outputs": [],
   "source": [
    "def h_index(citations):\n",
    "    return sum(x >= i + 1 for i, x in enumerate(sorted(list(citations), reverse=True)))"
   ]
  },
  {
   "cell_type": "code",
   "execution_count": 41,
   "metadata": {},
   "outputs": [],
   "source": [
    "dir = './raw_data'\n",
    "google_scholar_pub_files = [os.path.join(dir, f) for f in os.listdir(dir) if os.path.isfile(os.path.join(dir, f)) and 'google_scholar' in f and 'publication' in f]\n",
    "\n",
    "\n",
    "for file in google_scholar_pub_files:\n",
    "    with open(file, 'r') as f:\n",
    "        pubs = json.load(f)\n",
    "    years = {}\n",
    "    min_year, max_year = float('inf'), datetime.datetime.now().year\n",
    "    for v in pubs.values():\n",
    "        if 'publication_date' in v and 'total_citations' in v:\n",
    "            publication_year = int(v['publication_date'].split('/')[0])\n",
    "            min_year = min(publication_year, min_year)\n",
    "            # Appending total citations by year for each publication\n",
    "            years[publication_year] = years.get(publication_year, []) + [sum(v['total_citations'].values())]\n",
    "\n",
    "    # Getting h-index for each year\n",
    "    for year in years:\n",
    "        years[year] = h_index(years[year])\n",
    "\n",
    "\n",
    "    # For years in between with no citations,\n",
    "    for year in range(int(min_year), max_year+1):\n",
    "        years[year] = years.get(year, 0)\n",
    "    \n",
    "    with open(f'./processed_data/{file.split(\"/\")[-1][15:-18]}.json', 'r') as f:\n",
    "        profile = json.load(f)\n",
    "        profile['h_index_by_publication_year'] = years\n",
    "    \n",
    "    with open(f'./processed_data/{file.split(\"/\")[-1][15:-18]}.json', 'w') as f:\n",
    "        json.dump(profile, f)"
   ]
  },
  {
   "cell_type": "markdown",
   "metadata": {},
   "source": [
    "# h-index over time"
   ]
  },
  {
   "cell_type": "code",
   "execution_count": 50,
   "metadata": {},
   "outputs": [],
   "source": [
    "dir = './raw_data'\n",
    "google_scholar_pub_files = [os.path.join(dir, f) for f in os.listdir(dir) if os.path.isfile(os.path.join(dir, f)) and 'google_scholar' in f and 'publication' in f]\n",
    "\n",
    "\n",
    "for file in google_scholar_pub_files:\n",
    "    with open(file, 'r') as f:\n",
    "        pubs = json.load(f)\n",
    "    years = {}\n",
    "    min_year, max_year = float('inf'), datetime.datetime.now().year\n",
    "    for v in pubs.values():\n",
    "        if 'publication_date' in v and 'total_citations' in v:\n",
    "            publication_year = int(v['publication_date'].split('/')[0])\n",
    "            min_year = min(publication_year, min_year)\n",
    "\n",
    "            pub_citations = v['total_citations']\n",
    "            total_citations = 0\n",
    "            for year in range(publication_year, max_year+1):\n",
    "                total_citations += pub_citations.get(str(year), 0)\n",
    "                years[year] = years.get(year, []) + [total_citations]\n",
    "\n",
    "    # Getting h-index for each year\n",
    "    for year in years:\n",
    "        years[year] = h_index(years[year])\n",
    "\n",
    "    \n",
    "    with open(f'./processed_data/{file.split(\"/\")[-1][15:-18]}.json', 'r') as f:\n",
    "        profile = json.load(f)\n",
    "        profile['h-index_over_time'] = years\n",
    "    \n",
    "    with open(f'./processed_data/{file.split(\"/\")[-1][15:-18]}.json', 'w') as f:\n",
    "        json.dump(profile, f)"
   ]
  },
  {
   "cell_type": "markdown",
   "metadata": {},
   "source": [
    "# h-index by year since publication"
   ]
  },
  {
   "cell_type": "code",
   "execution_count": 43,
   "metadata": {},
   "outputs": [
    {
     "name": "stdout",
     "output_type": "stream",
     "text": [
      "./raw_data/google_scholar_cham_tat_jen_publications.json\n",
      "{1999: {1999: 2, 2000: 4, 2001: 4, 2002: 4, 2003: 4, 2004: 4, 2005: 4, 2006: 4, 2007: 4, 2008: 4, 2009: 4, 2010: 4, 2011: 4, 2012: 4, 2013: 4, 2014: 4, 2015: 4, 2016: 4, 2017: 4, 2018: 4, 2019: 4, 2020: 4, 2021: 4, 2022: 4, 2023: 4}, 2019: {2019: 3, 2020: 3, 2021: 4, 2022: 4, 2023: 4}, 2015: {2015: 3, 2016: 3, 2017: 4, 2018: 5, 2019: 5, 2020: 5, 2021: 5, 2022: 6, 2023: 6}, 2007: {2007: 2, 2008: 3, 2009: 3, 2010: 3, 2011: 3, 2012: 4, 2013: 4, 2014: 4, 2015: 4, 2016: 4, 2017: 4, 2018: 4, 2019: 4, 2020: 4, 2021: 5, 2022: 5, 2023: 5}, 2018: {2018: 1, 2019: 2, 2020: 3, 2021: 4, 2022: 4, 2023: 4}, 2001: {2001: 1, 2002: 3, 2003: 4, 2004: 5, 2005: 5, 2006: 5, 2007: 5, 2008: 5, 2009: 5, 2010: 5, 2011: 5, 2012: 5, 2013: 5, 2014: 5, 2015: 5, 2016: 5, 2017: 5, 2018: 5, 2019: 5, 2020: 5, 2021: 5, 2022: 5, 2023: 5}, 2006: {2006: 2, 2007: 2, 2008: 3, 2009: 3, 2010: 3, 2011: 4, 2012: 4, 2013: 4, 2014: 4, 2015: 4, 2016: 4, 2017: 4, 2018: 4, 2019: 4, 2020: 4, 2021: 4, 2022: 4, 2023: 4}, 2004: {2004: 0, 2005: 1, 2006: 1, 2007: 1, 2008: 1, 2009: 2, 2010: 2, 2011: 2, 2012: 2, 2013: 2, 2014: 2, 2015: 2, 2016: 2, 2017: 2, 2018: 2, 2019: 2, 2020: 2, 2021: 2, 2022: 2, 2023: 2}, 2010: {2010: 2, 2011: 4, 2012: 4, 2013: 4, 2014: 4, 2015: 4, 2016: 4, 2017: 4, 2018: 4, 2019: 4, 2020: 4, 2021: 4, 2022: 4, 2023: 4}, 2020: {2020: 1, 2021: 2, 2022: 3, 2023: 3}, 2016: {2016: 1, 2017: 2, 2018: 2, 2019: 2, 2020: 2, 2021: 2, 2022: 2, 2023: 2}, 2003: {2003: 2, 2004: 2, 2005: 3, 2006: 3, 2007: 4, 2008: 4, 2009: 4, 2010: 4, 2011: 4, 2012: 4, 2013: 4, 2014: 4, 2015: 4, 2016: 4, 2017: 4, 2018: 4, 2019: 4, 2020: 4, 2021: 4, 2022: 4, 2023: 4}, 2021: {2021: 3, 2022: 5, 2023: 5}, 2014: {2014: 1, 2015: 1, 2016: 3, 2017: 4, 2018: 4, 2019: 4, 2020: 4, 2021: 4, 2022: 4, 2023: 4}, 1995: {1995: 0, 1996: 1, 1997: 1, 1998: 1, 1999: 1, 2000: 1, 2001: 1, 2002: 1, 2003: 1, 2004: 1, 2005: 1, 2006: 1, 2007: 1, 2008: 1, 2009: 1, 2010: 1, 2011: 1, 2012: 1, 2013: 1, 2014: 1, 2015: 1, 2016: 1, 2017: 1, 2018: 1, 2019: 1, 2020: 1, 2021: 1, 2022: 1, 2023: 1}, 1998: {1998: 1, 1999: 1, 2000: 1, 2001: 1, 2002: 1, 2003: 1, 2004: 1, 2005: 1, 2006: 1, 2007: 1, 2008: 1, 2009: 1, 2010: 1, 2011: 1, 2012: 1, 2013: 1, 2014: 1, 2015: 1, 2016: 1, 2017: 1, 2018: 1, 2019: 1, 2020: 1, 2021: 1, 2022: 1, 2023: 1}, 2008: {2008: 0, 2009: 2, 2010: 2, 2011: 2, 2012: 2, 2013: 2, 2014: 2, 2015: 2, 2016: 2, 2017: 2, 2018: 2, 2019: 2, 2020: 2, 2021: 2, 2022: 2, 2023: 2}, 2022: {2022: 4, 2023: 6}, 1997: {1997: 1, 1998: 1, 1999: 1, 2000: 1, 2001: 1, 2002: 1, 2003: 1, 2004: 1, 2005: 1, 2006: 1, 2007: 1, 2008: 1, 2009: 1, 2010: 1, 2011: 1, 2012: 1, 2013: 1, 2014: 1, 2015: 1, 2016: 1, 2017: 1, 2018: 1, 2019: 1, 2020: 1, 2021: 1, 2022: 1, 2023: 1}, 2002: {2002: 1, 2003: 2, 2004: 2, 2005: 3, 2006: 3, 2007: 3, 2008: 3, 2009: 3, 2010: 3, 2011: 3, 2012: 3, 2013: 3, 2014: 3, 2015: 3, 2016: 3, 2017: 3, 2018: 3, 2019: 3, 2020: 3, 2021: 3, 2022: 3, 2023: 3}, 1996: {1996: 1, 1997: 2, 1998: 2, 1999: 3, 2000: 3, 2001: 3, 2002: 3, 2003: 3, 2004: 3, 2005: 3, 2006: 3, 2007: 3, 2008: 3, 2009: 3, 2010: 3, 2011: 3, 2012: 3, 2013: 3, 2014: 3, 2015: 3, 2016: 3, 2017: 3, 2018: 3, 2019: 3, 2020: 3, 2021: 3, 2022: 3, 2023: 3}, 2000: {2000: 1, 2001: 1, 2002: 1, 2003: 2, 2004: 2, 2005: 2, 2006: 2, 2007: 2, 2008: 2, 2009: 2, 2010: 2, 2011: 2, 2012: 2, 2013: 2, 2014: 2, 2015: 2, 2016: 2, 2017: 2, 2018: 2, 2019: 2, 2020: 2, 2021: 2, 2022: 2, 2023: 2}, 2005: {2005: 1, 2006: 1, 2007: 2, 2008: 3, 2009: 3, 2010: 3, 2011: 4, 2012: 4, 2013: 4, 2014: 4, 2015: 4, 2016: 4, 2017: 4, 2018: 4, 2019: 4, 2020: 4, 2021: 4, 2022: 4, 2023: 4}, 2013: {2013: 0, 2014: 2, 2015: 3, 2016: 4, 2017: 4, 2018: 4, 2019: 4, 2020: 4, 2021: 4, 2022: 4, 2023: 4}, 2011: {2011: 1, 2012: 1, 2013: 1, 2014: 1, 2015: 1, 2016: 1, 2017: 1, 2018: 1, 2019: 1, 2020: 1, 2021: 1, 2022: 1, 2023: 1}, 2017: {2017: 1, 2018: 2, 2019: 3, 2020: 3, 2021: 4, 2022: 5, 2023: 5}, 1994: {1994: 0, 1995: 1, 1996: 2, 1997: 2, 1998: 2, 1999: 2, 2000: 2, 2001: 2, 2002: 2, 2003: 2, 2004: 2, 2005: 2, 2006: 2, 2007: 2, 2008: 2, 2009: 2, 2010: 2, 2011: 2, 2012: 2, 2013: 2, 2014: 2, 2015: 2, 2016: 2, 2017: 2, 2018: 2, 2019: 2, 2020: 2, 2021: 2, 2022: 2, 2023: 2}, 2012: {2012: 0, 2013: 1, 2014: 1, 2015: 1, 2016: 1, 2017: 1, 2018: 1, 2019: 1, 2020: 1, 2021: 1, 2022: 1, 2023: 1}, 2023: {2023: 2}}\n"
     ]
    }
   ],
   "source": [
    "dir = './raw_data'\n",
    "google_scholar_pub_files = [os.path.join(dir, f) for f in os.listdir(dir) if os.path.isfile(os.path.join(dir, f)) and 'google_scholar' in f and 'publication' in f]\n",
    "\n",
    "\n",
    "for file in google_scholar_pub_files:\n",
    "    with open(file, 'r') as f:\n",
    "        pubs = json.load(f)\n",
    "    years = {}\n",
    "    print(file)\n",
    "    min_year, max_year = float('inf'), datetime.datetime.now().year\n",
    "    for v in pubs.values():\n",
    "        if 'publication_date' in v and 'total_citations' in v:\n",
    "            publication_year = int(v['publication_date'].split('/')[0])\n",
    "            # Appending total citations by year for each publication\n",
    "\n",
    "            cur_year = years.get(publication_year, {})\n",
    "            pub_citations = v['total_citations']\n",
    "            total_citations = 0\n",
    "            for year in range(publication_year, max_year+1):\n",
    "                total_citations += pub_citations.get(str(year), 0)\n",
    "                cur_year[year] = cur_year.get(year, []) + [total_citations]\n",
    "            \n",
    "            years[publication_year] = cur_year\n",
    "\n",
    "\n",
    "\n",
    "    # Getting h-index for each year\n",
    "    for publication_year in years:\n",
    "        for year in years[publication_year]:\n",
    "            years[publication_year][year] = h_index(years[publication_year][year])\n",
    "\n",
    "\n",
    "    \n",
    "    # with open(f'./processed_data/{file.split(\"/\")[-1][15:-18]}.json', 'r') as f:\n",
    "    #     profile = json.load(f)\n",
    "    #     profile['h_index_by_publication_year'] = years\n",
    "    \n",
    "    # with open(f'./processed_data/{file.split(\"/\")[-1][15:-18]}.json', 'w') as f:\n",
    "    #     json.dump(profile, f)"
   ]
  },
  {
   "cell_type": "code",
   "execution_count": 28,
   "metadata": {},
   "outputs": [
    {
     "data": {
      "text/plain": [
       "64"
      ]
     },
     "execution_count": 28,
     "metadata": {},
     "output_type": "execute_result"
    }
   ],
   "source": [
    "h_index(cited)"
   ]
  },
  {
   "cell_type": "code",
   "execution_count": 29,
   "metadata": {},
   "outputs": [
    {
     "data": {
      "text/plain": [
       "351"
      ]
     },
     "execution_count": 29,
     "metadata": {},
     "output_type": "execute_result"
    }
   ],
   "source": [
    "len(cited)"
   ]
  },
  {
   "cell_type": "code",
   "execution_count": null,
   "metadata": {},
   "outputs": [],
   "source": []
  }
 ],
 "metadata": {
  "kernelspec": {
   "display_name": "scse_dashboard",
   "language": "python",
   "name": "python3"
  },
  "language_info": {
   "codemirror_mode": {
    "name": "ipython",
    "version": 3
   },
   "file_extension": ".py",
   "mimetype": "text/x-python",
   "name": "python",
   "nbconvert_exporter": "python",
   "pygments_lexer": "ipython3",
   "version": "3.11.3"
  }
 },
 "nbformat": 4,
 "nbformat_minor": 2
}
