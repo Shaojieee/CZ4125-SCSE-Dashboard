{
 "cells": [
  {
   "cell_type": "code",
   "execution_count": 1,
   "metadata": {},
   "outputs": [],
   "source": [
    "import json\n",
    "import os"
   ]
  },
  {
   "cell_type": "code",
   "execution_count": 2,
   "metadata": {},
   "outputs": [],
   "source": [
    "dir = './raw_data'\n",
    "google_scholar_pub_files = [os.path.join(dir, f) for f in os.listdir(dir) if os.path.isfile(os.path.join(dir, f)) and 'google_scholar' in f and 'publication' in f]"
   ]
  },
  {
   "cell_type": "code",
   "execution_count": 3,
   "metadata": {},
   "outputs": [
    {
     "data": {
      "text/plain": [
       "19"
      ]
     },
     "execution_count": 3,
     "metadata": {},
     "output_type": "execute_result"
    }
   ],
   "source": [
    "google_scholar_pubs_keys = set()\n",
    "\n",
    "for file in google_scholar_pub_files:\n",
    "    with open(file, 'r') as f:\n",
    "        pubs = json.load(f)\n",
    "    for v in pubs.values():\n",
    "        google_scholar_pubs_keys = google_scholar_pubs_keys | v.keys()\n",
    "len(google_scholar_pubs_keys)"
   ]
  },
  {
   "cell_type": "code",
   "execution_count": 4,
   "metadata": {},
   "outputs": [
    {
     "data": {
      "text/plain": [
       "{'application_number',\n",
       " 'authors',\n",
       " 'book',\n",
       " 'conference',\n",
       " 'description',\n",
       " 'external_link',\n",
       " 'institution',\n",
       " 'inventors',\n",
       " 'issue',\n",
       " 'journal',\n",
       " 'pages',\n",
       " 'patent_number',\n",
       " 'patent_office',\n",
       " 'publication_date',\n",
       " 'publisher',\n",
       " 'report_number',\n",
       " 'source',\n",
       " 'total_citations',\n",
       " 'volume'}"
      ]
     },
     "execution_count": 4,
     "metadata": {},
     "output_type": "execute_result"
    }
   ],
   "source": [
    "google_scholar_pubs_keys"
   ]
  },
  {
   "cell_type": "markdown",
   "metadata": {},
   "source": [
    "# No. of published by year"
   ]
  },
  {
   "cell_type": "code",
   "execution_count": 5,
   "metadata": {},
   "outputs": [
    {
     "data": {
      "text/plain": [
       "615"
      ]
     },
     "execution_count": 5,
     "metadata": {},
     "output_type": "execute_result"
    }
   ],
   "source": [
    "unknowns = 0\n",
    "\n",
    "for file in google_scholar_pub_files:\n",
    "    with open(file, 'r') as f:\n",
    "        pubs = json.load(f)\n",
    "    years = {}\n",
    "    for v in pubs.values():\n",
    "        if 'publication_date' in v:\n",
    "            year = int(v['publication_date'].split('/')[0])\n",
    "        else:\n",
    "            year = 'unknown'\n",
    "            unknowns+=1\n",
    "        years[year] = years.get(year, 0) + 1\n",
    "    \n",
    "    with open(f'./processed_data/{file.split(\"/\")[-1][15:-18]}.json', 'r') as f:\n",
    "        profile = json.load(f)\n",
    "        profile['num_published'] = years\n",
    "    \n",
    "    with open(f'./processed_data/{file.split(\"/\")[-1][15:-18]}.json', 'w') as f:\n",
    "        json.dump(profile, f)\n",
    "unknowns"
   ]
  },
  {
   "cell_type": "code",
   "execution_count": null,
   "metadata": {},
   "outputs": [],
   "source": []
  }
 ],
 "metadata": {
  "kernelspec": {
   "display_name": "scse_dashboard",
   "language": "python",
   "name": "python3"
  },
  "language_info": {
   "codemirror_mode": {
    "name": "ipython",
    "version": 3
   },
   "file_extension": ".py",
   "mimetype": "text/x-python",
   "name": "python",
   "nbconvert_exporter": "python",
   "pygments_lexer": "ipython3",
   "version": "3.11.3"
  }
 },
 "nbformat": 4,
 "nbformat_minor": 2
}
