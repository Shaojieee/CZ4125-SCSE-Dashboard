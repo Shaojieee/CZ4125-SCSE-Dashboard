{
 "cells": [
  {
   "cell_type": "code",
   "execution_count": 1,
   "metadata": {},
   "outputs": [],
   "source": [
    "from dr_ntu import DR_NTU\n",
    "from bs4 import BeautifulSoup\n",
    "import requests"
   ]
  },
  {
   "cell_type": "code",
   "execution_count": 2,
   "metadata": {},
   "outputs": [],
   "source": [
    "# html = BeautifulSoup(requests.get('https://dr.ntu.edu.sg/cris/rp/rp00274/selectedPublications.html').text)\n",
    "# div = html.find(name='div', attrs={'id':'custombiblio'})\n",
    "# link_divs = div.find_all(name='div', attrs={'class':'dynaField'})\n",
    "# links = {}\n",
    "\n",
    "# for link in link_divs:\n",
    "#     a = link.find(name='a')\n",
    "#     links[a.text.strip()] = a.get('href')"
   ]
  },
  {
   "cell_type": "code",
   "execution_count": 3,
   "metadata": {},
   "outputs": [],
   "source": [
    "# links"
   ]
  },
  {
   "cell_type": "code",
   "execution_count": 4,
   "metadata": {},
   "outputs": [
    {
     "name": "stdout",
     "output_type": "stream",
     "text": [
      "SCSE Profiles saved at ./dr_ntu/scse_profiles.csv\n",
      "Individual Profiles saved at ./dr_ntu/individual_profiles.json\n"
     ]
    }
   ],
   "source": [
    "db_dr_ntu = DR_NTU()\n",
    "output = db_dr_ntu.get_all_scse_profiles()\n",
    "db_dr_ntu = DR_NTU(scse_profiles='./dr_ntu/scse_profiles.csv')\n",
    "db_dr_ntu.scrape_everyone_profiles()\n",
    "db_dr_ntu.get_profile_details('Zinovi Rabinovich')\n",
    "db_dr_ntu.save_individual_profiles()"
   ]
  },
  {
   "cell_type": "code",
   "execution_count": 5,
   "metadata": {},
   "outputs": [],
   "source": [
    "db_dr_ntu = DR_NTU(scse_profiles='./dr_ntu/scse_profiles.csv', individual_profiles='./dr_ntu/individual_profiles.json')"
   ]
  },
  {
   "cell_type": "code",
   "execution_count": 6,
   "metadata": {},
   "outputs": [],
   "source": [
    "profiles = db_dr_ntu.individual_profiles"
   ]
  },
  {
   "cell_type": "code",
   "execution_count": 7,
   "metadata": {},
   "outputs": [
    {
     "data": {
      "text/plain": [
       "{'google_scholar', 'scopus', 'web_of_science'}"
      ]
     },
     "execution_count": 7,
     "metadata": {},
     "output_type": "execute_result"
    }
   ],
   "source": [
    "bibliometrics_key = set()\n",
    "\n",
    "for v in profiles.values():\n",
    "    # print(v['bibliometrics'])\n",
    "    bibliometrics_key = bibliometrics_key | set(v['bibliometrics'].keys())\n",
    "bibliometrics_key"
   ]
  },
  {
   "cell_type": "code",
   "execution_count": 8,
   "metadata": {},
   "outputs": [],
   "source": [
    "for v in profiles.values():\n",
    "    if 'others' in v['bibliometrics'].keys():\n",
    "        print(v['bibliometrics']['others'])"
   ]
  },
  {
   "cell_type": "code",
   "execution_count": 9,
   "metadata": {},
   "outputs": [
    {
     "data": {
      "text/plain": [
       "{'github', 'google_scholar', 'orcid', 'others', 'scopus', 'web_of_science'}"
      ]
     },
     "execution_count": 9,
     "metadata": {},
     "output_type": "execute_result"
    }
   ],
   "source": [
    "websites_key = set()\n",
    "\n",
    "for v in profiles.values():\n",
    "    websites_key = websites_key | set(v['websites'].keys())\n",
    "websites_key"
   ]
  },
  {
   "cell_type": "code",
   "execution_count": 10,
   "metadata": {},
   "outputs": [
    {
     "name": "stdout",
     "output_type": "stream",
     "text": [
      "['http://www3.ntu.edu.sg/home/asmadhukumar/']\n",
      "['http://www3.ntu.edu.sg/home/assourin/']\n",
      "['https://personal.ntu.edu.sg/anwitaman/']\n",
      "['https://personal.ntu.edu.sg/boan/']\n",
      "['https://personal.ntu.edu.sg/astjcham/index.html']\n",
      "['http://www3.ntu.edu.sg/home/asschan/']\n",
      "['https://personal.ntu.edu.sg/ccloy']\n",
      "['http://cemnet.ntu.edu.sg/home/asltchia/index.html']\n",
      "['https://personal.ntu.edu.sg/aseschng/default.html']\n",
      "['https://personal.ntu.edu.sg/gaocong/']\n",
      "['http://www3.ntu.edu.sg/home/asdouglas/']\n",
      "['http://www3.ntu.edu.sg/home/dniyato']\n",
      "['https://sentic.net']\n",
      "['https://personal.ntu.edu.sg/ctguan']\n",
      "['https://personal.ntu.edu.sg/yhe']\n",
      "['http://www3.ntu.edu.sg/home/asschui/']\n",
      "['https://personal.ntu.edu.sg/asjagath']\n",
      "['https://personal.ntu.edu.sg/ypke']\n",
      "['https://personal.ntu.edu.sg/asckkwoh']\n",
      "['https://personal.ntu.edu.sg/assklam/']\n",
      "['http://www.boyangli.org']\n",
      "['https://personal.ntu.edu.sg/limo']\n",
      "['https://personal.ntu.edu.sg/yi_li/']\n",
      "['https://sites.google.com/view/wyb/home']\n",
      "['https://personal.ntu.edu.sg/shang-wei.lin/']\n",
      "['https://personal.ntu.edu.sg/wslin']\n",
      "['https://personal.ntu.edu.sg/liu/']\n",
      "['https://personal.ntu.edu.sg/yangliu']\n",
      "['https://personal.ntu.edu.sg/yrloke/']\n",
      "['https://personal.ntu.edu.sg/c.long']\n",
      "['https://personal.ntu.edu.sg/shijian.lu/index.htm']\n",
      "['https://personal.ntu.edu.sg/luke.ong/index.html']\n",
      "['https://personal.ntu.edu.sg/junluo/']\n",
      "['https://siqiangluo.com/']\n",
      "['http://www.ecs-97.webself.net/']\n",
      "['http://www3.ntu.edu.sg/home/asysong/']\n",
      "['https://personal.ntu.edu.sg/ofernando']\n",
      "['https://personal.ntu.edu.sg/sinnopan/']\n",
      "['http://www.c2i.ntu.edu.sg/People/Research/Quek_Hiok_Chai.html']\n",
      "['https://personal.ntu.edu.sg/ashsseah/']\n",
      "['https://personal.ntu.edu.sg/zqshen']\n",
      "['https://personal.ntu.edu.sg/smitha/']\n",
      "['http://www3.ntu.edu.sg/home/assourav/']\n",
      "['https://personal.ntu.edu.sg/axsun']\n",
      "['https://personal.ntu.edu.sg/tanrui/', 'https://researchdata.ntu.edu.sg/dataverse/tanrui', 'https://ntuiot.xyz/']\n",
      "['https://personal.ntu.edu.sg/asxytang/']\n",
      "['https://personal.ntu.edu.sg/wangwy/']\n",
      "['https://personal.ntu.edu.sg/awkng']\n",
      "['https://wei-ying.net/']\n",
      "['https://personal.ntu.edu.sg/ygwen/']\n",
      "['http://personal.ntu.edu.sg/aswtcai/']\n",
      "['https://personal.ntu.edu.sg/asckyeo/']\n",
      "['http://hanyu.sg']\n",
      "['https://personal.ntu.edu.sg/hanwangzhang/']\n",
      "['https://personal.ntu.edu.sg/zhangj/']\n",
      "['https://personal.ntu.edu.sg/tianwei.zhang/']\n",
      "['https://personal.ntu.edu.sg/asjmzheng']\n",
      "['zinovi.net']\n"
     ]
    }
   ],
   "source": [
    "for v in profiles.values():\n",
    "    if 'others' in v['websites'].keys():\n",
    "        print(v['websites']['others'])"
   ]
  },
  {
   "cell_type": "code",
   "execution_count": 11,
   "metadata": {},
   "outputs": [
    {
     "data": {
      "text/plain": [
       "32"
      ]
     },
     "execution_count": 11,
     "metadata": {},
     "output_type": "execute_result"
    }
   ],
   "source": [
    "cnt = 0\n",
    "for v in profiles.values():\n",
    "    if 'google_scholar' in v['websites'].keys():\n",
    "        cnt += 1\n",
    "cnt"
   ]
  },
  {
   "cell_type": "code",
   "execution_count": null,
   "metadata": {},
   "outputs": [],
   "source": []
  }
 ],
 "metadata": {
  "kernelspec": {
   "display_name": "scse_dashboard",
   "language": "python",
   "name": "python3"
  },
  "language_info": {
   "codemirror_mode": {
    "name": "ipython",
    "version": 3
   },
   "file_extension": ".py",
   "mimetype": "text/x-python",
   "name": "python",
   "nbconvert_exporter": "python",
   "pygments_lexer": "ipython3",
   "version": "3.11.3"
  }
 },
 "nbformat": 4,
 "nbformat_minor": 2
}
