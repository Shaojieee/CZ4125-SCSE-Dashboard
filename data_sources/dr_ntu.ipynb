{
 "cells": [
  {
   "cell_type": "code",
   "execution_count": 1,
   "metadata": {},
   "outputs": [],
   "source": [
    "from dr_ntu import DR_NTU\n",
    "from bs4 import BeautifulSoup\n",
    "import requests"
   ]
  },
  {
   "cell_type": "code",
   "execution_count": 2,
   "metadata": {},
   "outputs": [],
   "source": [
    "# html = BeautifulSoup(requests.get('https://dr.ntu.edu.sg/cris/rp/rp00274/selectedPublications.html').text)\n",
    "# div = html.find(name='div', attrs={'id':'custombiblio'})\n",
    "# link_divs = div.find_all(name='div', attrs={'class':'dynaField'})\n",
    "# links = {}\n",
    "\n",
    "# for link in link_divs:\n",
    "#     a = link.find(name='a')\n",
    "#     links[a.text.strip()] = a.get('href')"
   ]
  },
  {
   "cell_type": "code",
   "execution_count": 3,
   "metadata": {},
   "outputs": [],
   "source": [
    "# links"
   ]
  },
  {
   "cell_type": "code",
   "execution_count": 4,
   "metadata": {},
   "outputs": [
    {
     "name": "stdout",
     "output_type": "stream",
     "text": [
      "SCSE Profiles saved at ./dr_ntu/scse_profiles.csv\n",
      "Individual Profiles saved at ./dr_ntu/individual_profiles.json\n"
     ]
    }
   ],
   "source": [
    "db_dr_ntu = DR_NTU()\n",
    "output = db_dr_ntu.get_all_scse_profiles()\n",
    "db_dr_ntu = DR_NTU(scse_profiles='./dr_ntu/scse_profiles.csv')\n",
    "db_dr_ntu.scrape_everyone_profiles()\n",
    "db_dr_ntu.get_profile_details('Zinovi Rabinovich')\n",
    "db_dr_ntu.save_individual_profiles()"
   ]
  },
  {
   "cell_type": "code",
   "execution_count": 5,
   "metadata": {},
   "outputs": [],
   "source": [
    "db_dr_ntu = DR_NTU(scse_profiles='./dr_ntu/scse_profiles.csv', individual_profiles='./dr_ntu/individual_profiles.json')"
   ]
  },
  {
   "cell_type": "code",
   "execution_count": 6,
   "metadata": {},
   "outputs": [],
   "source": [
    "profiles = db_dr_ntu.individual_profiles"
   ]
  },
  {
   "cell_type": "code",
   "execution_count": 7,
   "metadata": {},
   "outputs": [],
   "source": [
    "bibliometrics_key = set()\n",
    "\n",
    "for v in profiles.values():\n",
    "    # print(v['bibliometrics'])\n",
    "    bibliometrics_key = bibliometrics_key | set(v['bibliometrics'].keys())"
   ]
  },
  {
   "cell_type": "code",
   "execution_count": 8,
   "metadata": {},
   "outputs": [
    {
     "data": {
      "text/plain": [
       "{'8439329200',\n",
       " 'Google Scholar',\n",
       " 'Han Yu (Google Scholar)',\n",
       " 'Han Yu (Scopus)',\n",
       " 'Scopus',\n",
       " 'Web of Science',\n",
       " 'uYmK-A0AAAAJ'}"
      ]
     },
     "execution_count": 8,
     "metadata": {},
     "output_type": "execute_result"
    }
   ],
   "source": [
    "bibliometrics_key"
   ]
  },
  {
   "cell_type": "code",
   "execution_count": 9,
   "metadata": {},
   "outputs": [
    {
     "name": "stdout",
     "output_type": "stream",
     "text": [
      "Lu Shijian\n"
     ]
    }
   ],
   "source": [
    "for k,v in profiles.items():\n",
    "    if '8439329200' in v['bibliometrics'].keys():\n",
    "        print(k)\n",
    "    elif 'uYmK-A0AAAAJ' in v['bibliometrics'].keys():\n",
    "        print(k)"
   ]
  },
  {
   "cell_type": "code",
   "execution_count": null,
   "metadata": {},
   "outputs": [],
   "source": []
  },
  {
   "cell_type": "code",
   "execution_count": null,
   "metadata": {},
   "outputs": [],
   "source": []
  }
 ],
 "metadata": {
  "kernelspec": {
   "display_name": "scse_dashboard",
   "language": "python",
   "name": "python3"
  },
  "language_info": {
   "codemirror_mode": {
    "name": "ipython",
    "version": 3
   },
   "file_extension": ".py",
   "mimetype": "text/x-python",
   "name": "python",
   "nbconvert_exporter": "python",
   "pygments_lexer": "ipython3",
   "version": "3.11.3"
  }
 },
 "nbformat": 4,
 "nbformat_minor": 2
}
