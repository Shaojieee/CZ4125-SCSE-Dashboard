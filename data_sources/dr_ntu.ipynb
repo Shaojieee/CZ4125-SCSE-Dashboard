{
 "cells": [
  {
   "cell_type": "code",
   "execution_count": 1,
   "metadata": {},
   "outputs": [],
   "source": [
    "import sys\n",
    "sys.path.append('../')\n",
    "import dr_ntu"
   ]
  },
  {
   "cell_type": "code",
   "execution_count": 2,
   "metadata": {},
   "outputs": [
    {
     "name": "stdout",
     "output_type": "stream",
     "text": [
      "SCSE Profiles saved at ./data/scse_profiles.csv\n"
     ]
    },
    {
     "data": {
      "text/html": [
       "<div>\n",
       "<style scoped>\n",
       "    .dataframe tbody tr th:only-of-type {\n",
       "        vertical-align: middle;\n",
       "    }\n",
       "\n",
       "    .dataframe tbody tr th {\n",
       "        vertical-align: top;\n",
       "    }\n",
       "\n",
       "    .dataframe thead th {\n",
       "        text-align: right;\n",
       "    }\n",
       "</style>\n",
       "<table border=\"1\" class=\"dataframe\">\n",
       "  <thead>\n",
       "    <tr style=\"text-align: right;\">\n",
       "      <th></th>\n",
       "      <th>full_name</th>\n",
       "      <th>email</th>\n",
       "      <th>dr_ntu</th>\n",
       "    </tr>\n",
       "  </thead>\n",
       "  <tbody>\n",
       "    <tr>\n",
       "      <th>0</th>\n",
       "      <td>A S Madhukumar</td>\n",
       "      <td>asmadhukumar@ntu.edu.sg</td>\n",
       "      <td>https://dr.ntu.edu.sg/cris/rp/rp00083</td>\n",
       "    </tr>\n",
       "    <tr>\n",
       "      <th>1</th>\n",
       "      <td>Alexei Sourin</td>\n",
       "      <td>assourin@ntu.edu.sg</td>\n",
       "      <td>https://dr.ntu.edu.sg/cris/rp/rp00274</td>\n",
       "    </tr>\n",
       "    <tr>\n",
       "      <th>2</th>\n",
       "      <td>Anupam Chattopadhyay</td>\n",
       "      <td>anupam@ntu.edu.sg</td>\n",
       "      <td>https://dr.ntu.edu.sg/cris/rp/rp01076</td>\n",
       "    </tr>\n",
       "    <tr>\n",
       "      <th>3</th>\n",
       "      <td>Anwitaman Datta</td>\n",
       "      <td>anwitaman@ntu.edu.sg</td>\n",
       "      <td>https://dr.ntu.edu.sg/cris/rp/rp00706</td>\n",
       "    </tr>\n",
       "    <tr>\n",
       "      <th>4</th>\n",
       "      <td>Arvind Easwaran</td>\n",
       "      <td>arvinde@ntu.edu.sg</td>\n",
       "      <td>https://dr.ntu.edu.sg/cris/rp/rp00687</td>\n",
       "    </tr>\n",
       "  </tbody>\n",
       "</table>\n",
       "</div>"
      ],
      "text/plain": [
       "              full_name                    email  \\\n",
       "0        A S Madhukumar  asmadhukumar@ntu.edu.sg   \n",
       "1         Alexei Sourin      assourin@ntu.edu.sg   \n",
       "2  Anupam Chattopadhyay        anupam@ntu.edu.sg   \n",
       "3       Anwitaman Datta     anwitaman@ntu.edu.sg   \n",
       "4       Arvind Easwaran       arvinde@ntu.edu.sg   \n",
       "\n",
       "                                  dr_ntu  \n",
       "0  https://dr.ntu.edu.sg/cris/rp/rp00083  \n",
       "1  https://dr.ntu.edu.sg/cris/rp/rp00274  \n",
       "2  https://dr.ntu.edu.sg/cris/rp/rp01076  \n",
       "3  https://dr.ntu.edu.sg/cris/rp/rp00706  \n",
       "4  https://dr.ntu.edu.sg/cris/rp/rp00687  "
      ]
     },
     "execution_count": 2,
     "metadata": {},
     "output_type": "execute_result"
    }
   ],
   "source": [
    "scse_profiles = dr_ntu.scrape_all_scse_profiles(save=True)\n",
    "scse_profiles.head()"
   ]
  },
  {
   "cell_type": "code",
   "execution_count": 3,
   "metadata": {},
   "outputs": [],
   "source": [
    "for i, row in scse_profiles.iterrows():\n",
    "   profile = dr_ntu.scrape_individual_profile(row['dr_ntu'], row['full_name'])\n",
    "   dr_ntu.save_individual_profile(profile, row['full_name'].lower().replace(' ', '_'))"
   ]
  },
  {
   "cell_type": "code",
   "execution_count": null,
   "metadata": {},
   "outputs": [],
   "source": []
  }
 ],
 "metadata": {
  "kernelspec": {
   "display_name": "scse_dashboard",
   "language": "python",
   "name": "python3"
  },
  "language_info": {
   "codemirror_mode": {
    "name": "ipython",
    "version": 3
   },
   "file_extension": ".py",
   "mimetype": "text/x-python",
   "name": "python",
   "nbconvert_exporter": "python",
   "pygments_lexer": "ipython3",
   "version": "3.11.3"
  }
 },
 "nbformat": 4,
 "nbformat_minor": 2
}
