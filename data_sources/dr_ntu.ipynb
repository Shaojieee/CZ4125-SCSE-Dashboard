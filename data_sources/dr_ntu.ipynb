{
 "cells": [
  {
   "cell_type": "code",
   "execution_count": 1,
   "metadata": {},
   "outputs": [],
   "source": [
    "import sys\n",
    "sys.path.append('../')\n",
    "import dr_ntu\n",
    "from bs4 import BeautifulSoup\n",
    "import requests\n",
    "from objects.profile import save_list_of_profiles"
   ]
  },
  {
   "cell_type": "code",
   "execution_count": 2,
   "metadata": {},
   "outputs": [
    {
     "name": "stdout",
     "output_type": "stream",
     "text": [
      "SCSE Profiles saved at ./data/scse_profiles.csv\n"
     ]
    },
    {
     "data": {
      "text/html": [
       "<div>\n",
       "<style scoped>\n",
       "    .dataframe tbody tr th:only-of-type {\n",
       "        vertical-align: middle;\n",
       "    }\n",
       "\n",
       "    .dataframe tbody tr th {\n",
       "        vertical-align: top;\n",
       "    }\n",
       "\n",
       "    .dataframe thead th {\n",
       "        text-align: right;\n",
       "    }\n",
       "</style>\n",
       "<table border=\"1\" class=\"dataframe\">\n",
       "  <thead>\n",
       "    <tr style=\"text-align: right;\">\n",
       "      <th></th>\n",
       "      <th>full_name</th>\n",
       "      <th>email</th>\n",
       "      <th>dr_ntu</th>\n",
       "    </tr>\n",
       "  </thead>\n",
       "  <tbody>\n",
       "    <tr>\n",
       "      <th>0</th>\n",
       "      <td>A S Madhukumar</td>\n",
       "      <td>asmadhukumar@ntu.edu.sg</td>\n",
       "      <td>https://dr.ntu.edu.sg/cris/rp/rp00083</td>\n",
       "    </tr>\n",
       "    <tr>\n",
       "      <th>1</th>\n",
       "      <td>Alexei Sourin</td>\n",
       "      <td>assourin@ntu.edu.sg</td>\n",
       "      <td>https://dr.ntu.edu.sg/cris/rp/rp00274</td>\n",
       "    </tr>\n",
       "    <tr>\n",
       "      <th>2</th>\n",
       "      <td>Anupam Chattopadhyay</td>\n",
       "      <td>anupam@ntu.edu.sg</td>\n",
       "      <td>https://dr.ntu.edu.sg/cris/rp/rp01076</td>\n",
       "    </tr>\n",
       "    <tr>\n",
       "      <th>3</th>\n",
       "      <td>Anwitaman Datta</td>\n",
       "      <td>anwitaman@ntu.edu.sg</td>\n",
       "      <td>https://dr.ntu.edu.sg/cris/rp/rp00706</td>\n",
       "    </tr>\n",
       "    <tr>\n",
       "      <th>4</th>\n",
       "      <td>Arvind Easwaran</td>\n",
       "      <td>arvinde@ntu.edu.sg</td>\n",
       "      <td>https://dr.ntu.edu.sg/cris/rp/rp00687</td>\n",
       "    </tr>\n",
       "  </tbody>\n",
       "</table>\n",
       "</div>"
      ],
      "text/plain": [
       "              full_name                    email  \\\n",
       "0        A S Madhukumar  asmadhukumar@ntu.edu.sg   \n",
       "1         Alexei Sourin      assourin@ntu.edu.sg   \n",
       "2  Anupam Chattopadhyay        anupam@ntu.edu.sg   \n",
       "3       Anwitaman Datta     anwitaman@ntu.edu.sg   \n",
       "4       Arvind Easwaran       arvinde@ntu.edu.sg   \n",
       "\n",
       "                                  dr_ntu  \n",
       "0  https://dr.ntu.edu.sg/cris/rp/rp00083  \n",
       "1  https://dr.ntu.edu.sg/cris/rp/rp00274  \n",
       "2  https://dr.ntu.edu.sg/cris/rp/rp01076  \n",
       "3  https://dr.ntu.edu.sg/cris/rp/rp00706  \n",
       "4  https://dr.ntu.edu.sg/cris/rp/rp00687  "
      ]
     },
     "execution_count": 2,
     "metadata": {},
     "output_type": "execute_result"
    }
   ],
   "source": [
    "scse_profiles = dr_ntu.scrape_all_scse_profiles(save=True)\n",
    "scse_profiles.head()"
   ]
  },
  {
   "cell_type": "code",
   "execution_count": 3,
   "metadata": {},
   "outputs": [
    {
     "data": {
      "text/plain": [
       "{'full_name': 'A S Madhukuma',\n",
       " 'name_card': 'Assoc Prof A S Madhukumar',\n",
       " 'email': 'asmadhukumar@ntu.edu.sg',\n",
       " 'designation': 'Associate Professor, School of Computer Science and Engineering',\n",
       " 'google_scholar': 'https://scholar.google.com/citations?user=7_AzrLwAAAAJ&hl=en&oi=ao',\n",
       " 'orcid': 'https://orcid.org/0000-0002-8740-634X',\n",
       " 'github': None,\n",
       " 'scopus': 'https://www.scopus.com/authid/detail.uri?authorId=7003877769',\n",
       " 'web_of_science': 'https://www.webofscience.com/wos/author/record/990763',\n",
       " 'dr_ntu': 'https://dr.ntu.edu.sg/cris/rp/rp00083',\n",
       " 'other_websites': ['http://www3.ntu.edu.sg/home/asmadhukumar/'],\n",
       " 'biography': 'AS Madhukumar’s expertise lies in the areas of multi-tier cellular architecture, cooperative and cognitive radio systems, interference management, coding and modulation, new multiple access schemes, hybrid radio systems and other advanced signal processing algorithms for future communication systems. He is involved in a number of funded research projects, organizing international conferences, and a permanent reviewer for many internationally reputed journals and conferences. He has published over 300 referred international conference and journal papers. He is a recipient of Nanyang Award for Teaching Excellence in 2007 and obtained best paper awards in IEEE 35th Digital Avionics Conference in 2016 and in IEEE Integrated Communications, Navigations and Surveillance Conference in 2016 and in 2017. A S Madhukumar received his B Tech degree from College of Engineering, Trivandrum, India, M Tech from Cochin University of Science and Technology, India and Ph D from Department of Computer Science and Engineering, Indian Institute of Technology, Madras, India. He is currently an Associate Professor in the School of Computer Engineering, Nanyang Technological University, Singapore. Before joining NTU, he was involved in communications and signal processing research at Centre for Development of Advanced Computing (Electronics R&D Centre), Govt. of India and Institute for Infocomm Research (Centre for Wireless Communications), Singapore. Dr. Madhukumar is a senior member of IEEE.',\n",
       " 'keywords': ['Computer Science and Engineering',\n",
       "  'Electrical and Electronic Engineering',\n",
       "  'Info-Communication Technology',\n",
       "  'Interactive Digital Media',\n",
       "  'Internet & Communications',\n",
       "  'Computer Networks and Communications'],\n",
       " 'interests': None,\n",
       " 'grants': 'High Altitude Platform based Relays for Hybrid FSO/RF Communication for Satellite Communication SystemsHybrid TeraHertz/Free Space Optics (THz/FSO) for 6G Communication Networks',\n",
       " 'articles': ['Ho, W. S., Madhukumar, A. S., & Chin, F. (2003). Peak-to-average power reduction using partial transmit sequences : a suboptimal approach based on dual layered phase sequencing. IEEE Transactions on Broadcasting, 49(2), 225-231. doi: 10.1109/TBC.2003.813440',\n",
       "  'Jacob, P., Sirigina, R. P., Madhukumar, A. S., & Prasad, V. A. (2016). Cognitive radio for aeronautical communications : a survey. IEEE Access, 4, 3417-3443. doi: 10.1109/ACCESS.2016.2570802',\n",
       "  'Hari, V. N., Anand, G. V., Premkumar, A. B., & Madhukumar, A. S. (2012). Design and performance analysis of a signal detector based on suprathreshold stochastic resonance. Signal Processing, 92(7), 1745-1757. doi: 10.1016/j.sigpro.2012.01.013',\n",
       "  'Zhong, X., Premkumar, A. B., & Madhukumar, A. S. (2012). Particle filtering for acoustic source tracking in impulsive noise with alpha-stable process. IEEE Sensors Journal, 13(2), 589-600. doi: 10.1109/JSEN.2012.2223209',\n",
       "  'Duong, N. D., Madhukumar, A. S., & Niyato, D. (2015). Stackelberg Bayesian game for power allocation in two-tier networks. IEEE Transactions on Vehicular Technology, 65(4), 2341-2354. doi: 10.1109/TVT.2015.2418297',\n",
       "  'Swaminathan, R., & Madhukumar, A. S. (2017). Classification of error correcting codes and estimation of interleaver parameters in a noisy transmission environment. IEEE Transactions on Broadcasting, 63(3), 463-478. doi: 10.1109/TBC.2017.2704436',\n",
       "  'Zhong, X., Premkumar, A. B., & Madhukumar, A. S. (2011). Particle filtering and posterior Cramér-Rao bound for 2-D direction of arrival tracking using an acoustic vector sensor. IEEE Sensors Journal, 12(2), 363-377. doi: 10.1109/JSEN.2011.2168204',\n",
       "  'Sharma, N., & Madhukumar, A. S. (2015). Genetic algorithm aided proportional fair resource allocation in multicast OFDM systems. IEEE Transactions on Broadcasting, 61(1), 16-29. doi: 10.1109/TBC.2015.2389692',\n",
       "  'Alen, T. C. H., Madhukumar, A. S., & Chin, F. (2003). Capacity enhancement of a multi-user OFDM system using dynamic frequency allocation. IEEE transactions on broadcasting, 49(4), 344-353. doi: 10.1109/TBC.2003.819525',\n",
       "  'Madhukumar, A. S., & Chin, F. (2004). Enhanced architecture for residue number system-based CDMA for high-rate data transmission. IEEE Transactions on Wireless Communications, 3(5), 1363-1368. doi: 10.1109/TWC.2004.833509',\n",
       "  'Click  here for more publications.',\n",
       "  'S Shubha, AS Madhukumar, R Swaminathan, 2021, MIMO hybrid FSO/RF system over generalized fading channels, IEEE Transactions on Vehicular Technology, IEEE, USA, Vol 70, No 11, pp 11565-11581, Nov 2021.',\n",
       "  'Agrawal, N., Ambede, A., Darak, S. J., Vinod, A. P., & Madhukumar, A. S. (2021). Design and implementation of low complexity reconfigurable filtered-OFDM-based LDACS. IEEE Transactions on Circuits and Systems II: Express Briefs, 68(7), 2399-2403. doi: 10.1109/TCSII.2021.3053367',\n",
       "  'TZH Ernest, AS Madhukumar, RP Sirigina and AK Krishna, 2021, NOMA-aided multi-UAV communications in full-duplex heterogeneous networks, IEEE Systems Journal, IEEE, USA, Vol 15, No 2, pp 2755-2766, Jun 2021.',\n",
       "  'Swaminathan, R., Sharma, S., Vishwakarma, N., & Madhukumar, A. S. (2021). HAPS-based relaying for integrated space–air–ground networks with hybrid FSO/RF communication : a performance analysis. IEEE Transactions on Aerospace and Electronic Systems, 57(3), 1581-1599. doi: 10.1109/TAES.2021.3050663',\n",
       "  'Shah, S., Siddharth, M., Vishwakarma, N., Swaminathan, R., & Madhukumar, A. S. (2021). Adaptive-combining-based hybrid FSO/RF satellite communication with and without HAPS. IEEE Access, 9, 81492-81511. doi: 10.1109/ACCESS.2021.3086024',\n",
       "  'Sharma, S., Madhukumar, A. S., & Ramabadran, S. (2020). Performance optimisation for dual-hop hybrid FSO/RF system with selection combining. IET Optoelectronics, 14(6), 422-433. doi: 10.1049/iet-opt.2020.0059',\n",
       "  'Mathew, L. K., Shanker, S., Vinod, A. P., & Madhukumar, A. S. (2020). A power-efficient spectrum-sensing scheme using 1-Bit quantizer and modified filter banks. IEEE Transactions on Very Large Scale Integration (VLSI) Systems, 28(9), 2074-2078. doi: 10.1109/TVLSI.2020.3009430',\n",
       "  'TZH Ernest, AS Madhukumar, RP Sirigina and AK Krishna, 2020, NOMA-Aided UAV communications over correlated Rician shadowed fading channels, IEEE Transactions on Signal Processing, IEEE, USA, Vol 68, pp 3103-3116, May 2020.',\n",
       "  'R Swaminathan, AS Madhukumar and W Guohua, 2020, Blind estimation of code parameters for product codes over noisy channel conditions, 2020, IEEE Transactions on Aerospace and Electronic Systems, IEEE, USA, Vol 56, No 2, pp 1460-1473, Apr 2020.',\n",
       "  'SR Yepuri, AS Madhukumar and RP Sirigina, 2020, Wireless Energy Harvesting Based Relaying: A Finite-SNR  Diversity-Multiplexing Tradeoff Perspective, IEEE Transactions on Green Communications and Networking, IEEE, USA, Vol 4, No 1, pp 277-288. Mar 2020.',\n",
       "  'TZH Ernest, AS Madhukumar, RP Sirigina and AK Krishna, 2019, Outage analysis and finite SNR diversity-multiplexing tradeoff of hybrid-duplex Systems for aeronautical communications, IEEE Transactions on Wireless Communications, IEEE, USA, Vol 18, No 4, pp 2299-2313, Apr 2019.',\n",
       "  'TZH Ernest, AS Madhukumar, RP Sirigina and AK Krishna, 2019, A hybrid-duplex system with joint detection for interference-limited UAV communications, IEEE Transactions on Vehicular Technology, Vol 68, No 1, pp 335-348, IEEE, USA, Jan 2019.'],\n",
       " 'books': [],\n",
       " 'book_chapters': [],\n",
       " 'conferences': [],\n",
       " 'courses_taught': None}"
      ]
     },
     "execution_count": 3,
     "metadata": {},
     "output_type": "execute_result"
    }
   ],
   "source": [
    "profile = dr_ntu.scrape_individual_profile('https://dr.ntu.edu.sg/cris/rp/rp00083', 'A S Madhukuma')\n",
    "profile.to_dict()"
   ]
  },
  {
   "cell_type": "code",
   "execution_count": 4,
   "metadata": {},
   "outputs": [],
   "source": [
    "all_profiles = []\n",
    "\n",
    "for i, row in scse_profiles.iterrows():\n",
    "   all_profiles.append(dr_ntu.scrape_individual_profile(row['dr_ntu'], row['full_name']))"
   ]
  },
  {
   "cell_type": "code",
   "execution_count": 5,
   "metadata": {},
   "outputs": [
    {
     "name": "stdout",
     "output_type": "stream",
     "text": [
      "Individual Profiles saved at ./data/individual_profiles.csv\n"
     ]
    }
   ],
   "source": [
    "save_list_of_profiles(all_profiles)"
   ]
  }
 ],
 "metadata": {
  "kernelspec": {
   "display_name": "scse_dashboard",
   "language": "python",
   "name": "python3"
  },
  "language_info": {
   "codemirror_mode": {
    "name": "ipython",
    "version": 3
   },
   "file_extension": ".py",
   "mimetype": "text/x-python",
   "name": "python",
   "nbconvert_exporter": "python",
   "pygments_lexer": "ipython3",
   "version": "3.11.3"
  }
 },
 "nbformat": 4,
 "nbformat_minor": 2
}
