{
 "cells": [
  {
   "cell_type": "markdown",
   "metadata": {},
   "source": [
    "# Using OpenAI Metadata tagger"
   ]
  },
  {
   "cell_type": "code",
   "execution_count": 1,
   "metadata": {},
   "outputs": [],
   "source": [
    "import pandas as pd\n",
    "from langchain.schema import Document\n",
    "from langchain.chat_models import ChatOpenAI\n",
    "from langchain.document_transformers.openai_functions import create_metadata_tagger\n",
    "from dotenv import load_dotenv\n",
    "from tqdm import tqdm\n",
    "load_dotenv()\n",
    "\n",
    "import os\n",
    "import json"
   ]
  },
  {
   "cell_type": "code",
   "execution_count": 2,
   "metadata": {},
   "outputs": [],
   "source": [
    "raw_dr_ntu_dir='./raw_dr_ntu'\n",
    "raw_faculty_db = 'scse_profile'\n",
    "\n",
    "process_faculty_db_dir ='./processed'\n",
    "process_faculty_db = 'scse_profile'\n",
    "process_co_author_db = 'google_scholar_co_author'\n",
    "\n",
    "raw_google_scholar_dir = './raw_google_scholar'\n",
    "raw_google_search_dir = './google_search'\n",
    "\n",
    "process_publications_dir = './processed_google_scholar_publications'\n",
    "\n",
    "research_interest_dir = './research_interest'\n",
    "\n",
    "education_output_dir = './dr_ntu_education'\n",
    "os.makedirs(education_output_dir, exist_ok=True)"
   ]
  },
  {
   "cell_type": "code",
   "execution_count": 3,
   "metadata": {},
   "outputs": [],
   "source": [
    "faculties = pd.read_csv(os.path.join(process_faculty_db_dir, process_faculty_db+'.csv'))\n",
    "google_scholar_faculties = faculties[faculties['google_scholar'].notna()]"
   ]
  },
  {
   "cell_type": "code",
   "execution_count": 4,
   "metadata": {},
   "outputs": [],
   "source": [
    "schema = {\n",
    "    \"properties\": {\n",
    "        \"bachelor_degree\": {\"type\": \"string\", \"description\": \"School where bachelors degree was done. Set as 'None' if information is not available\"},\n",
    "        \"masters\": {\"type\": \"string\", \"description\": \"School where masters degree was done. Set as 'None' if information is not available\"},\n",
    "        \"phd\": {\"type\": \"string\", \"description\": \"School where phD was done. Set as 'None' if information is not available\"}\n",
    "    },\n",
    "    \"required\": [\"bachelor_degree\", \"masters\", \"phd\"],\n",
    "}\n",
    "\n",
    "\n",
    "llm = ChatOpenAI(temperature=0, model=\"gpt-3.5-turbo\")\n",
    "\n",
    "document_transformer = create_metadata_tagger(metadata_schema=schema, llm=llm)"
   ]
  },
  {
   "cell_type": "code",
   "execution_count": 5,
   "metadata": {},
   "outputs": [
    {
     "name": "stderr",
     "output_type": "stream",
     "text": [
      "86it [00:00, 5007.64it/s]"
     ]
    },
    {
     "name": "stderr",
     "output_type": "stream",
     "text": [
      "\n",
      "Retrying langchain.chat_models.openai.ChatOpenAI.completion_with_retry.<locals>._completion_with_retry in 4.0 seconds as it raised Timeout: Request timed out: HTTPSConnectionPool(host='api.openai.com', port=443): Read timed out. (read timeout=600).\n",
      "Retrying langchain.chat_models.openai.ChatOpenAI.completion_with_retry.<locals>._completion_with_retry in 4.0 seconds as it raised Timeout: Request timed out: HTTPSConnectionPool(host='api.openai.com', port=443): Read timed out. (read timeout=600).\n",
      "Retrying langchain.chat_models.openai.ChatOpenAI.completion_with_retry.<locals>._completion_with_retry in 4.0 seconds as it raised Timeout: Request timed out: HTTPSConnectionPool(host='api.openai.com', port=443): Read timed out. (read timeout=600).\n",
      "Retrying langchain.chat_models.openai.ChatOpenAI.completion_with_retry.<locals>._completion_with_retry in 4.0 seconds as it raised Timeout: Request timed out: HTTPSConnectionPool(host='api.openai.com', port=443): Read timed out. (read timeout=600).\n"
     ]
    }
   ],
   "source": [
    "original_documents = []\n",
    "\n",
    "for i, row in tqdm(faculties.iterrows()):\n",
    "    name, id = row['full_name'], row['dr_ntu_id']\n",
    "\n",
    "    dr_ntu = f\"{raw_dr_ntu_dir}/{id}.json\"\n",
    "    \n",
    "    if os.path.exists(dr_ntu):\n",
    "        with open(dr_ntu, 'r') as f:\n",
    "            dr_ntu_profile = json.load(f)\n",
    "\n",
    "\n",
    "        doc = Document(\n",
    "            page_content=dr_ntu_profile['biography'],\n",
    "            metadata={'name': name, 'id': id}\n",
    "        )\n",
    "        original_documents.append(doc)\n",
    "\n",
    "enhanced_documents = document_transformer.transform_documents(original_documents)\n",
    "\n",
    "for doc in enhanced_documents:\n",
    "    metadata = doc.metadata\n",
    "    name = metadata['name']\n",
    "    id = metadata['id']\n",
    "    \n",
    "    for k,v in metadata.items():\n",
    "        if v=='None':\n",
    "            metadata[k] = None\n",
    "    \n",
    "    with open(f'{education_output_dir}/{id}.json', 'w') as f:\n",
    "        json.dump(metadata, f)"
   ]
  },
  {
   "cell_type": "code",
   "execution_count": 23,
   "metadata": {},
   "outputs": [],
   "source": []
  }
 ],
 "metadata": {
  "kernelspec": {
   "display_name": "scse_dashboard",
   "language": "python",
   "name": "python3"
  },
  "language_info": {
   "codemirror_mode": {
    "name": "ipython",
    "version": 3
   },
   "file_extension": ".py",
   "mimetype": "text/x-python",
   "name": "python",
   "nbconvert_exporter": "python",
   "pygments_lexer": "ipython3",
   "version": "3.11.3"
  }
 },
 "nbformat": 4,
 "nbformat_minor": 2
}
