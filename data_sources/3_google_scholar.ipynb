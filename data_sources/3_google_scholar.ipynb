{
 "cells": [
  {
   "cell_type": "code",
   "execution_count": 7,
   "metadata": {},
   "outputs": [],
   "source": [
    "import sys\n",
    "sys.path.append('../')\n",
    "from os import listdir\n",
    "from os.path import isfile, join\n",
    "\n",
    "import random\n",
    "import json\n",
    "import os\n",
    "from tqdm import tqdm\n",
    "import time\n",
    "from utils import create_driver\n",
    "import pandas as pd\n",
    "import datetime\n",
    "\n",
    "from data_sources.google_scholar import scrape_publication_details, scrape_google_scholar_profile, save_google_scholar_profile, save_publications_details"
   ]
  },
  {
   "cell_type": "code",
   "execution_count": 8,
   "metadata": {},
   "outputs": [],
   "source": [
    "raw_dr_ntu_dir='./raw_dr_ntu'\n",
    "raw_faculty_db = 'scse_profile'\n",
    "\n",
    "process_faculty_db_dir ='./processed'\n",
    "process_faculty_db = 'scse_profile'\n",
    "\n",
    "raw_google_scholar_dir = './raw_google_scholar'\n",
    "raw_google_search_dir = './google_search'"
   ]
  },
  {
   "cell_type": "code",
   "execution_count": 9,
   "metadata": {},
   "outputs": [],
   "source": [
    "faculties = pd.read_csv(os.path.join(process_faculty_db_dir, process_faculty_db+'.csv'))\n",
    "google_scholar_faculties = faculties[faculties['google_scholar'].notna()]"
   ]
  },
  {
   "cell_type": "markdown",
   "metadata": {},
   "source": [
    "# Scraping Google Scholar Profile Page"
   ]
  },
  {
   "cell_type": "code",
   "execution_count": 10,
   "metadata": {},
   "outputs": [
    {
     "name": "stderr",
     "output_type": "stream",
     "text": [
      "74it [37:08, 30.12s/it]\n"
     ]
    }
   ],
   "source": [
    "driver = create_driver(debug=False)\n",
    "\n",
    "for i, row in tqdm(google_scholar_faculties.iterrows()):\n",
    "    name, url, id = row['full_name'], row['google_scholar'], row['google_scholar_id']\n",
    "\n",
    "    g_profile = scrape_google_scholar_profile(url, driver)\n",
    "    g_profile['last_updated'] = datetime.datetime.now().strftime(\"%Y/%m/%d %H:%M\")\n",
    "    save_google_scholar_profile(g_profile, output_filename=f'{id}.json', output_dir=raw_google_scholar_dir)\n",
    "\n",
    "    if random.uniform(0,1)>0.8:\n",
    "        time.sleep(random.uniform(5,7))\n",
    "\n",
    "    if random.uniform(0,1)>0.9:\n",
    "        driver.quit()\n",
    "        driver = create_driver(debug=False)\n",
    "\n",
    "driver.quit()"
   ]
  }
 ],
 "metadata": {
  "kernelspec": {
   "display_name": "scse_dashboard",
   "language": "python",
   "name": "python3"
  },
  "language_info": {
   "codemirror_mode": {
    "name": "ipython",
    "version": 3
   },
   "file_extension": ".py",
   "mimetype": "text/x-python",
   "name": "python",
   "nbconvert_exporter": "python",
   "pygments_lexer": "ipython3",
   "version": "3.11.3"
  }
 },
 "nbformat": 4,
 "nbformat_minor": 2
}
