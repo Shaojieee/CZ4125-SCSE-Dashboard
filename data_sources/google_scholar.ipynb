{
 "cells": [
  {
   "cell_type": "code",
   "execution_count": 6,
   "metadata": {},
   "outputs": [],
   "source": [
    "import sys\n",
    "sys.path.append('../')\n",
    "\n",
    "import random\n",
    "import requests\n",
    "import urllib.parse\n",
    "from bs4 import BeautifulSoup\n",
    "from objects.profile import Profile\n",
    "import json\n",
    "from collections import OrderedDict\n",
    "\n",
    "from selenium import webdriver\n",
    "from selenium_stealth import stealth\n",
    "from selenium.webdriver.common.by import By\n",
    "import time\n",
    "from tqdm import tqdm\n",
    "import pandas as pd\n",
    "from utils import create_driver\n",
    "\n",
    "from data_sources.google_scholar import scrape_publication_details, scrape_google_scholar_profile, save_google_scholar_profile, save_publications_details"
   ]
  },
  {
   "cell_type": "code",
   "execution_count": 2,
   "metadata": {},
   "outputs": [
    {
     "data": {
      "text/plain": [
       "32"
      ]
     },
     "execution_count": 2,
     "metadata": {},
     "output_type": "execute_result"
    }
   ],
   "source": [
    "with open('./data/individual_profiles.json', 'r') as f:\n",
    "    ind_profile = json.load(f)\n",
    "    \n",
    "google_scholar_profile_url = []\n",
    "\n",
    "for profile in ind_profile:\n",
    "    if profile['google_scholar'] is not None:\n",
    "        google_scholar_profile_url.append([profile['full_name'], profile['google_scholar']])\n",
    "len(google_scholar_profile_url)"
   ]
  },
  {
   "cell_type": "markdown",
   "metadata": {},
   "source": [
    "# Scraping Google Scholar Profile Page"
   ]
  },
  {
   "cell_type": "code",
   "execution_count": null,
   "metadata": {},
   "outputs": [],
   "source": [
    "for profile in google_scholar_profile_url:\n",
    "    name, url = profile[0], profile[1]\n",
    "\n",
    "    g_profile = scrape_google_scholar_profile(url)\n",
    "    save_google_scholar_profile(g_profile, output_filename=f'google_scholar_{name.lower().replace(\" \",\"_\")}.json')\n",
    "\n",
    "    if random.uniform(0,1)>0.8:\n",
    "        print('Sleeping')\n",
    "        time.sleep(60)"
   ]
  },
  {
   "cell_type": "markdown",
   "metadata": {},
   "source": [
    "# Scraping Citation Information"
   ]
  },
  {
   "cell_type": "code",
   "execution_count": null,
   "metadata": {},
   "outputs": [],
   "source": [
    "driver = create_driver(debug=True)\n",
    "\n",
    "for j, profile in enumerate(google_scholar_profile_url):\n",
    "    name, url = profile[0], profile[1]\n",
    "    with open(f'./data/google_scholar_{name.lower().replace(\" \",\"_\")}.json', 'r') as f:\n",
    "        data = json.load(f)\n",
    "    print(f'{j}, {name}')\n",
    "    details = {}\n",
    "    try:\n",
    "        for i, publication in enumerate(data['publications']):\n",
    "            key = publication['title_link']\n",
    "            driver.get(key)\n",
    "            time.sleep(random.uniform(3,6))\n",
    "            details[key] = scrape_publication_details(key, driver)\n",
    "            if random.uniform(0,1)>0.75:\n",
    "                time.sleep(random.uniform(5,10))\n",
    "            if random.uniform(0,1)>0.9:\n",
    "                driver.quit()\n",
    "                driver = create_driver(debug=False)\n",
    "            \n",
    "            if i%10==0:\n",
    "                save_publications_details(details, f'google_scholar_{name.lower().replace(\" \",\"_\")}_publications.json')\n",
    "    except Exception as e:\n",
    "        print(f'Stopped at {j} {name}')\n",
    "        print(e)\n",
    "\n",
    "        save_publications_details(details, f'google_scholar_{name.lower().replace(\" \",\"_\")}_publications.json')\n",
    "        break\n",
    "    \n",
    "    \n",
    "    save_publications_details(details, f'google_scholar_{name.lower().replace(\" \",\"_\")}_publications.json')\n",
    "    driver.quit()\n",
    "    driver = create_driver(debug=False)\n",
    "\n",
    "    time.sleep(random.uniform(3*60, 5*60))"
   ]
  },
  {
   "cell_type": "markdown",
   "metadata": {},
   "source": [
    "# Re running any publications with error"
   ]
  },
  {
   "cell_type": "code",
   "execution_count": 20,
   "metadata": {},
   "outputs": [],
   "source": [
    "from striprtf.striprtf import rtf_to_text\n",
    "\n",
    "with open(\"problem_google_scholar_publication.rtf\") as infile:\n",
    "    content = infile.read()\n",
    "    text = rtf_to_text(content)\n",
    "text = text.split('\\n')\n",
    "faulty_url = []\n",
    "for t in text:\n",
    "    if not t.isnumeric() and t!='':\n",
    "        faulty_url.append(t.split(' at ')[1])"
   ]
  },
  {
   "cell_type": "code",
   "execution_count": null,
   "metadata": {},
   "outputs": [],
   "source": [
    "driver = create_driver(debug=True)\n",
    "\n",
    "for j, profile in enumerate(google_scholar_profile_url[1:]):\n",
    "    name, url = profile[0], profile[1]\n",
    "    with open(f'./data/google_scholar_{name.lower().replace(\" \",\"_\")}.json', 'r') as f:\n",
    "        data = json.load(f)\n",
    "    details = {}\n",
    "    print(len(faulty_url))\n",
    "    for i, publication in enumerate(data['publications']):\n",
    "        key = publication['title_link']\n",
    "        if key in faulty_url:\n",
    "            driver.get(key)\n",
    "            time.sleep(random.uniform(3,6))\n",
    "            details[key] = scrape_publication_details(key, driver)\n",
    "            if random.uniform(0,1)>0.75:\n",
    "                time.sleep(random.uniform(5,10))\n",
    "            if random.uniform(0,1)>0.9:\n",
    "                driver.quit()\n",
    "                driver = create_driver(debug=False)\n",
    "            faulty_url.remove(key)\n",
    "\n",
    "        save_publications_details(details, f'google_scholar_{name.lower().replace(\" \",\"_\")}_publications.json')\n",
    "\n",
    "    if len(faulty_url)==0:\n",
    "        break\n",
    "driver.quit()"
   ]
  },
  {
   "cell_type": "code",
   "execution_count": null,
   "metadata": {},
   "outputs": [],
   "source": []
  }
 ],
 "metadata": {
  "kernelspec": {
   "display_name": "scse_dashboard",
   "language": "python",
   "name": "python3"
  },
  "language_info": {
   "codemirror_mode": {
    "name": "ipython",
    "version": 3
   },
   "file_extension": ".py",
   "mimetype": "text/x-python",
   "name": "python",
   "nbconvert_exporter": "python",
   "pygments_lexer": "ipython3",
   "version": "3.11.3"
  }
 },
 "nbformat": 4,
 "nbformat_minor": 2
}
