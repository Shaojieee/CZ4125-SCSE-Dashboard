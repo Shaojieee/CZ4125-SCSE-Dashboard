{
 "cells": [
  {
   "cell_type": "code",
   "execution_count": 5,
   "metadata": {},
   "outputs": [],
   "source": [
    "import sys\n",
    "sys.path.append('../')\n",
    "\n",
    "import random\n",
    "import requests\n",
    "import urllib.parse\n",
    "from bs4 import BeautifulSoup\n",
    "from objects.profile import Profile\n",
    "import json\n",
    "from collections import OrderedDict\n",
    "\n",
    "from selenium import webdriver\n",
    "from selenium_stealth import stealth\n",
    "from selenium.webdriver.common.by import By\n",
    "import time\n",
    "from tqdm import tqdm\n",
    "import pandas as pd\n",
    "\n",
    "from data_sources.google_scholar import scrape_publication_details, scrape_google_scholar_profile, save_google_scholar_profile, save_publications_details"
   ]
  },
  {
   "cell_type": "code",
   "execution_count": 2,
   "metadata": {},
   "outputs": [
    {
     "data": {
      "text/plain": [
       "32"
      ]
     },
     "execution_count": 2,
     "metadata": {},
     "output_type": "execute_result"
    }
   ],
   "source": [
    "with open('./data/individual_profiles.csv', 'r') as f:\n",
    "    ind_profile = json.load(f)\n",
    "    \n",
    "google_scholar_profile_url = []\n",
    "\n",
    "for profile in ind_profile:\n",
    "    if profile['google_scholar'] is not None:\n",
    "        google_scholar_profile_url.append([profile['full_name'], profile['google_scholar']])\n",
    "len(google_scholar_profile_url)"
   ]
  },
  {
   "cell_type": "markdown",
   "metadata": {},
   "source": [
    "# Scraping Google Scholar Profile Page"
   ]
  },
  {
   "cell_type": "code",
   "execution_count": null,
   "metadata": {},
   "outputs": [],
   "source": [
    "for profile in google_scholar_profile_url:\n",
    "    name, url = profile[0], profile[1]\n",
    "\n",
    "    g_profile = scrape_google_scholar_profile(url)\n",
    "    save_google_scholar_profile(g_profile, output_filename=f'google_scholar_{name.lower().replace(\" \",\"_\")}.json')\n",
    "\n",
    "    if random.uniform(0,1)>0.8:\n",
    "        print('Sleeping')\n",
    "        time.sleep(60)"
   ]
  },
  {
   "cell_type": "markdown",
   "metadata": {},
   "source": [
    "# Scraping Citation Information"
   ]
  },
  {
   "cell_type": "code",
   "execution_count": 3,
   "metadata": {},
   "outputs": [],
   "source": [
    "def create_driver(debug=False):\n",
    "\n",
    "    options = webdriver.ChromeOptions()\n",
    "    if debug==False:\n",
    "        options.add_argument(\"--headless\")\n",
    "    options.add_experimental_option(\"excludeSwitches\", [\"enable-automation\"])\n",
    "    options.add_experimental_option('useAutomationExtension', False)\n",
    "    driver = webdriver.Chrome(\n",
    "        options=options\n",
    "    )\n",
    "    stealth(driver,\n",
    "            # user_agent=agent,\n",
    "            languages=[\"en-US\", \"en\"],\n",
    "            vendor=\"Google Inc.\",\n",
    "            platform=\"Win32\",\n",
    "            webgl_vendor=\"Intel Inc.\",\n",
    "            renderer=\"Intel Iris OpenGL Engine\",\n",
    "            fix_hairline=True,\n",
    "            )\n",
    "\n",
    "    time.sleep(random.uniform(3,5))\n",
    "    return driver\n"
   ]
  },
  {
   "cell_type": "code",
   "execution_count": 6,
   "metadata": {},
   "outputs": [
    {
     "name": "stderr",
     "output_type": "stream",
     "text": [
      "0it [00:00, ?it/s]"
     ]
    },
    {
     "name": "stdout",
     "output_type": "stream",
     "text": [
      "0\n"
     ]
    },
    {
     "name": "stderr",
     "output_type": "stream",
     "text": [
      "5it [00:32,  6.43s/it]\n",
      "0it [00:32, ?it/s]\n"
     ]
    },
    {
     "ename": "KeyboardInterrupt",
     "evalue": "",
     "output_type": "error",
     "traceback": [
      "\u001b[0;31m---------------------------------------------------------------------------\u001b[0m",
      "\u001b[0;31mKeyboardInterrupt\u001b[0m                         Traceback (most recent call last)",
      "\u001b[1;32m/Users/shaojieee/Desktop/data_products/project/CZ4125-SCSE-Dashboard/data_sources/google_scholar.ipynb Cell 7\u001b[0m line \u001b[0;36m1\n\u001b[1;32m     <a href='vscode-notebook-cell:/Users/shaojieee/Desktop/data_products/project/CZ4125-SCSE-Dashboard/data_sources/google_scholar.ipynb#Y134sZmlsZQ%3D%3D?line=9'>10</a>\u001b[0m key \u001b[39m=\u001b[39m publication[\u001b[39m'\u001b[39m\u001b[39mtitle_link\u001b[39m\u001b[39m'\u001b[39m]\n\u001b[1;32m     <a href='vscode-notebook-cell:/Users/shaojieee/Desktop/data_products/project/CZ4125-SCSE-Dashboard/data_sources/google_scholar.ipynb#Y134sZmlsZQ%3D%3D?line=10'>11</a>\u001b[0m driver\u001b[39m.\u001b[39mget(key)\n\u001b[0;32m---> <a href='vscode-notebook-cell:/Users/shaojieee/Desktop/data_products/project/CZ4125-SCSE-Dashboard/data_sources/google_scholar.ipynb#Y134sZmlsZQ%3D%3D?line=11'>12</a>\u001b[0m time\u001b[39m.\u001b[39;49msleep(random\u001b[39m.\u001b[39;49muniform(\u001b[39m3\u001b[39;49m,\u001b[39m6\u001b[39;49m))\n\u001b[1;32m     <a href='vscode-notebook-cell:/Users/shaojieee/Desktop/data_products/project/CZ4125-SCSE-Dashboard/data_sources/google_scholar.ipynb#Y134sZmlsZQ%3D%3D?line=12'>13</a>\u001b[0m details[key] \u001b[39m=\u001b[39m scrape_publication_details(key, driver)\n\u001b[1;32m     <a href='vscode-notebook-cell:/Users/shaojieee/Desktop/data_products/project/CZ4125-SCSE-Dashboard/data_sources/google_scholar.ipynb#Y134sZmlsZQ%3D%3D?line=13'>14</a>\u001b[0m \u001b[39mif\u001b[39;00m random\u001b[39m.\u001b[39muniform(\u001b[39m0\u001b[39m,\u001b[39m1\u001b[39m)\u001b[39m>\u001b[39m\u001b[39m0.75\u001b[39m:\n",
      "\u001b[0;31mKeyboardInterrupt\u001b[0m: "
     ]
    }
   ],
   "source": [
    "driver = create_driver(debug=True)\n",
    "\n",
    "for j, profile in tqdm(enumerate(google_scholar_profile_url[1:])):\n",
    "    name, url = profile[0], profile[1]\n",
    "    with open(f'./data/google_scholar_{name.lower().replace(\" \",\"_\")}.json', 'r') as f:\n",
    "        data = json.load(f)\n",
    "    print(j)\n",
    "    details = {}\n",
    "    for i, publication in tqdm(enumerate(data['publications'])):\n",
    "        key = publication['title_link']\n",
    "        driver.get(key)\n",
    "        time.sleep(random.uniform(3,6))\n",
    "        details[key] = scrape_publication_details(key, driver)\n",
    "        if random.uniform(0,1)>0.75:\n",
    "            time.sleep(random.uniform(5,10))\n",
    "        if random.uniform(0,1)>0.9:\n",
    "            driver.quit()\n",
    "            driver = create_driver(debug=False)\n",
    "        \n",
    "        if i%10==0:\n",
    "            save_publications_details(details, f'google_scholar_{name.lower().replace(\" \",\"_\")}_publications.json')\n",
    "    save_publications_details(details, f'google_scholar_{name.lower().replace(\" \",\"_\")}_publications.json')"
   ]
  },
  {
   "cell_type": "code",
   "execution_count": 2,
   "metadata": {},
   "outputs": [],
   "source": []
  },
  {
   "cell_type": "code",
   "execution_count": null,
   "metadata": {},
   "outputs": [],
   "source": []
  },
  {
   "cell_type": "code",
   "execution_count": 4,
   "metadata": {},
   "outputs": [
    {
     "name": "stdout",
     "output_type": "stream",
     "text": [
      "Sleeping\n",
      "Sleeping\n",
      "Sleeping\n",
      "Sleeping\n"
     ]
    }
   ],
   "source": []
  },
  {
   "cell_type": "code",
   "execution_count": null,
   "metadata": {},
   "outputs": [],
   "source": []
  }
 ],
 "metadata": {
  "kernelspec": {
   "display_name": "scse_dashboard",
   "language": "python",
   "name": "python3"
  },
  "language_info": {
   "codemirror_mode": {
    "name": "ipython",
    "version": 3
   },
   "file_extension": ".py",
   "mimetype": "text/x-python",
   "name": "python",
   "nbconvert_exporter": "python",
   "pygments_lexer": "ipython3",
   "version": "3.11.3"
  }
 },
 "nbformat": 4,
 "nbformat_minor": 2
}
