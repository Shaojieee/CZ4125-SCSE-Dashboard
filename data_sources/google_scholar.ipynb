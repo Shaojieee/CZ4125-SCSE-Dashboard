{
 "cells": [
  {
   "cell_type": "code",
   "execution_count": 1,
   "metadata": {},
   "outputs": [],
   "source": [
    "import sys\n",
    "sys.path.append('../')\n",
    "from os import listdir\n",
    "from os.path import isfile, join\n",
    "\n",
    "import random\n",
    "import json\n",
    "from tqdm import tqdm\n",
    "import time\n",
    "from utils import create_driver\n",
    "\n",
    "from data_sources.google_scholar import scrape_publication_details, scrape_google_scholar_profile, save_google_scholar_profile, save_publications_details"
   ]
  },
  {
   "cell_type": "code",
   "execution_count": 2,
   "metadata": {},
   "outputs": [
    {
     "data": {
      "text/plain": [
       "66"
      ]
     },
     "execution_count": 2,
     "metadata": {},
     "output_type": "execute_result"
    }
   ],
   "source": [
    "with open('./raw_data/individual_profiles.json', 'r') as f:\n",
    "    ind_profile = json.load(f)\n",
    "    \n",
    "google_scholar_profile_url = []\n",
    "\n",
    "for profile in ind_profile:\n",
    "    if profile['google_scholar'] is not None:\n",
    "        google_scholar_profile_url.append([profile['full_name'], profile['google_scholar']])\n",
    "len(google_scholar_profile_url)"
   ]
  },
  {
   "cell_type": "code",
   "execution_count": 3,
   "metadata": {},
   "outputs": [
    {
     "data": {
      "text/plain": [
       "[['A S Madhukumar',\n",
       "  'https://scholar.google.com/citations?user=7_AzrLwAAAAJ&hl=en&oi=ao'],\n",
       " ['Alexei Sourin',\n",
       "  'https://scholar.google.com/citations?user=8A7kHCYAAAAJ&hl=en&oi=ao'],\n",
       " ['Anupam Chattopadhyay',\n",
       "  'https://scholar.google.co.in/citations?user=TIt4ggwAAAAJ&hl=en']]"
      ]
     },
     "execution_count": 3,
     "metadata": {},
     "output_type": "execute_result"
    }
   ],
   "source": [
    "google_scholar_profile_url[:3]"
   ]
  },
  {
   "cell_type": "markdown",
   "metadata": {},
   "source": [
    "# Scraping Google Scholar Profile Page"
   ]
  },
  {
   "cell_type": "code",
   "execution_count": 4,
   "metadata": {},
   "outputs": [
    {
     "name": "stderr",
     "output_type": "stream",
     "text": [
      "100%|██████████| 66/66 [43:47<00:00, 39.81s/it]\n"
     ]
    }
   ],
   "source": [
    "driver = create_driver(debug=False)\n",
    "\n",
    "for profile in tqdm(google_scholar_profile_url):\n",
    "    name, url = profile[0], profile[1]\n",
    "\n",
    "    g_profile = scrape_google_scholar_profile(url, driver)\n",
    "    save_google_scholar_profile(g_profile, output_filename=f'google_scholar_{name.lower().replace(\" \",\"_\")}.json')\n",
    "\n",
    "    if random.uniform(0,1)>0.8:\n",
    "        time.sleep(random.uniform(10,20))\n",
    "\n",
    "    if random.uniform(0,1)>0.9:\n",
    "        driver.quit()\n",
    "        driver = create_driver(debug=False)\n",
    "\n",
    "driver.quit()"
   ]
  },
  {
   "cell_type": "markdown",
   "metadata": {},
   "source": [
    "# Scraping Citation Information"
   ]
  },
  {
   "cell_type": "code",
   "execution_count": 6,
   "metadata": {},
   "outputs": [
    {
     "data": {
      "text/plain": [
       "66"
      ]
     },
     "execution_count": 6,
     "metadata": {},
     "output_type": "execute_result"
    }
   ],
   "source": [
    "with open('./raw_data/individual_profiles.json', 'r') as f:\n",
    "    ind_profile = json.load(f)\n",
    "    \n",
    "google_scholar_profile_url = []\n",
    "\n",
    "for profile in ind_profile:\n",
    "    if profile['google_scholar'] is not None:\n",
    "        google_scholar_profile_url.append([profile['full_name'], profile['google_scholar']])\n",
    "len(google_scholar_profile_url)\n"
   ]
  },
  {
   "cell_type": "code",
   "execution_count": 15,
   "metadata": {},
   "outputs": [
    {
     "name": "stdout",
     "output_type": "stream",
     "text": [
      "0, Wen Yonggang\n",
      "1, Zhang Jie\n",
      "2, Zhao Jun\n",
      "3, Zheng Jianmin\n"
     ]
    }
   ],
   "source": [
    "driver = create_driver(debug=True)\n",
    "\n",
    "for j, profile in enumerate(google_scholar_profile_url):\n",
    "    name, url = profile[0], profile[1]\n",
    "    with open(f'./raw_data/google_scholar_{name.lower().replace(\" \",\"_\")}.json', 'r') as f:\n",
    "        data = json.load(f)\n",
    "    details = {}\n",
    "    print(f'{j}. {name}')\n",
    "    for i, publication in tqdm(enumerate(data['publications'])):\n",
    "        key = publication['title_link']\n",
    "        driver.get(key)\n",
    "        time.sleep(random.uniform(3,6))\n",
    "        details[key] = scrape_publication_details(key, driver)\n",
    "        if random.uniform(0,1)>0.75:\n",
    "            time.sleep(random.uniform(5,10))\n",
    "        if random.uniform(0,1)>0.9:\n",
    "            driver.quit()\n",
    "            driver = create_driver(debug=False)\n",
    "        \n",
    "        if i%10==0:\n",
    "            save_publications_details(details, f'google_scholar_{name.lower().replace(\" \",\"_\")}_publications.json')\n",
    "\n",
    "    \n",
    "    save_publications_details(details, f'google_scholar_{name.lower().replace(\" \",\"_\")}_publications.json')\n",
    "    driver.quit()\n",
    "    driver = create_driver(debug=False)\n",
    "\n",
    "    time.sleep(random.uniform(2*60, 3*60))\n",
    "driver.quit()"
   ]
  },
  {
   "cell_type": "markdown",
   "metadata": {},
   "source": [
    "# Re running any publications with error"
   ]
  },
  {
   "cell_type": "code",
   "execution_count": 20,
   "metadata": {},
   "outputs": [],
   "source": [
    "# from striprtf.striprtf import rtf_to_text\n",
    "\n",
    "# with open(\"problem_google_scholar_publication.rtf\") as infile:\n",
    "#     content = infile.read()\n",
    "#     text = rtf_to_text(content)\n",
    "# text = text.split('\\n')\n",
    "# faulty_url = []\n",
    "# for t in text:\n",
    "#     if not t.isnumeric() and t!='':\n",
    "#         faulty_url.append(t.split(' at ')[1])"
   ]
  },
  {
   "cell_type": "code",
   "execution_count": 7,
   "metadata": {},
   "outputs": [],
   "source": [
    "rescrape_name = ['goh_wooi_boon']"
   ]
  },
  {
   "cell_type": "code",
   "execution_count": 8,
   "metadata": {},
   "outputs": [
    {
     "name": "stdout",
     "output_type": "stream",
     "text": [
      "0. goh_wooi_boon\n"
     ]
    },
    {
     "name": "stderr",
     "output_type": "stream",
     "text": [
      "84it [10:15,  7.33s/it]\n"
     ]
    }
   ],
   "source": [
    "driver = create_driver(debug=True)\n",
    "\n",
    "for j, name in enumerate(rescrape_name):\n",
    "    with open(f'./raw_data/google_scholar_{name.lower().replace(\" \",\"_\")}.json', 'r') as f:\n",
    "        data = json.load(f)\n",
    "    details = {}\n",
    "    print(f'{j}. {name}')\n",
    "    for i, publication in tqdm(enumerate(data['publications'])):\n",
    "        key = publication['title_link']\n",
    "        driver.get(key)\n",
    "        time.sleep(random.uniform(3,6))\n",
    "        details[key] = scrape_publication_details(key, driver)\n",
    "        if random.uniform(0,1)>0.75:\n",
    "            time.sleep(random.uniform(5,10))\n",
    "        if random.uniform(0,1)>0.9:\n",
    "            driver.quit()\n",
    "            driver = create_driver(debug=False)\n",
    "        \n",
    "        if i%10==0:\n",
    "            save_publications_details(details, f'google_scholar_{name.lower().replace(\" \",\"_\")}_publications.json')\n",
    "\n",
    "    \n",
    "    save_publications_details(details, f'google_scholar_{name.lower().replace(\" \",\"_\")}_publications.json')\n",
    "    driver.quit()\n",
    "    driver = create_driver(debug=False)\n",
    "\n",
    "    time.sleep(random.uniform(2*60, 3*60))\n",
    "driver.quit()"
   ]
  },
  {
   "cell_type": "code",
   "execution_count": null,
   "metadata": {},
   "outputs": [],
   "source": []
  }
 ],
 "metadata": {
  "kernelspec": {
   "display_name": "scse_dashboard",
   "language": "python",
   "name": "python3"
  },
  "language_info": {
   "codemirror_mode": {
    "name": "ipython",
    "version": 3
   },
   "file_extension": ".py",
   "mimetype": "text/x-python",
   "name": "python",
   "nbconvert_exporter": "python",
   "pygments_lexer": "ipython3",
   "version": "3.11.3"
  }
 },
 "nbformat": 4,
 "nbformat_minor": 2
}
