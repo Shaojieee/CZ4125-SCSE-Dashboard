{
 "cells": [
  {
   "cell_type": "code",
   "execution_count": null,
   "metadata": {},
   "outputs": [],
   "source": [
    "import sys\n",
    "sys.path.append('../')\n",
    "\n",
    "import random\n",
    "import json\n",
    "import os\n",
    "from tqdm import tqdm\n",
    "import time\n",
    "from utils import create_driver\n",
    "import pandas as pd\n",
    "\n",
    "from data_sources.google_scholar import scrape_publication_details, save_publications_details"
   ]
  },
  {
   "cell_type": "code",
   "execution_count": null,
   "metadata": {},
   "outputs": [],
   "source": [
    "raw_dr_ntu_dir='./raw_dr_ntu'\n",
    "raw_faculty_db = 'scse_profile'\n",
    "\n",
    "process_faculty_db_dir ='./processed'\n",
    "process_faculty_db = 'scse_profile'\n",
    "\n",
    "raw_google_scholar_dir = './raw_google_scholar'\n",
    "raw_google_search_dir = './google_search'"
   ]
  },
  {
   "cell_type": "code",
   "execution_count": null,
   "metadata": {},
   "outputs": [],
   "source": [
    "faculties = pd.read_csv(os.path.join(process_faculty_db_dir, process_faculty_db+'.csv'))\n",
    "google_scholar_faculties = faculties[faculties['google_scholar'].notna()]"
   ]
  },
  {
   "cell_type": "markdown",
   "metadata": {},
   "source": [
    "# Scrape google scholar publications"
   ]
  },
  {
   "cell_type": "code",
   "execution_count": null,
   "metadata": {},
   "outputs": [],
   "source": [
    "driver = create_driver(debug=True)\n",
    "\n",
    "for i, row in tqdm(google_scholar_faculties.iterrows()):\n",
    "    name, id = row['full_name'], row['google_scholar_id']\n",
    "\n",
    "    with open(f'{raw_google_scholar_dir}/{id}.json', 'r') as f:\n",
    "        profile = json.load(f)\n",
    "\n",
    "    publications = profile['publications']\n",
    "\n",
    "    details = {}\n",
    "    for i, pub in tqdm(enumerate(publications)):\n",
    "        pub_link = pub['title_link']\n",
    "        driver.get(pub_link)\n",
    "        time.sleep(random.uniform(1,2))\n",
    "        details[pub_link] = scrape_publication_details(pub_link, driver)\n",
    "\n",
    "        if i%10==0:\n",
    "            save_publications_details(details, f'{id}_publications.json', output_dir=raw_google_scholar_dir)\n",
    "\n",
    "        if random.uniform(0,1)>0.8:\n",
    "            time.sleep(random.uniform(5,7))\n",
    "\n",
    "        if random.uniform(0,1)>0.9:\n",
    "            driver.quit()\n",
    "            driver = create_driver(debug=False)\n",
    "\n",
    "    save_publications_details(details, f'{id}_publications.json', output_dir=raw_google_scholar_dir)\n",
    "    driver.quit()\n",
    "    driver = create_driver(debug=False)\n",
    "\n",
    "driver.quit()\n"
   ]
  }
 ],
 "metadata": {
  "language_info": {
   "name": "python"
  }
 },
 "nbformat": 4,
 "nbformat_minor": 2
}
