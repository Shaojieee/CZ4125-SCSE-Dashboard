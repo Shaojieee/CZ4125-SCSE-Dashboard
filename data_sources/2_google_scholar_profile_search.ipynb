{
 "cells": [
  {
   "cell_type": "code",
   "execution_count": 1,
   "metadata": {},
   "outputs": [],
   "source": [
    "import json\n",
    "import os\n",
    "from utils import create_driver\n",
    "import time, random\n",
    "from tqdm import tqdm\n",
    "import pandas as pd\n",
    "\n",
    "from google_scholar import scrape_publications, search_from_google_scholar_profile"
   ]
  },
  {
   "cell_type": "code",
   "execution_count": 25,
   "metadata": {},
   "outputs": [],
   "source": [
    "raw_dr_ntu_dir='./raw_dr_ntu'\n",
    "raw_faculty_db = 'scse_profile'\n",
    "\n",
    "process_faculty_db_dir ='./processed'\n",
    "process_faculty_db = 'scse_profile'\n",
    "\n",
    "raw_google_search_dir = './google_search'\n",
    "os.makedirs(raw_google_search_dir, exist_ok=True)"
   ]
  },
  {
   "cell_type": "code",
   "execution_count": 3,
   "metadata": {},
   "outputs": [],
   "source": [
    "faculties = pd.read_csv(os.path.join(process_faculty_db_dir, process_faculty_db+'.csv'))\n",
    "missing_google_scholar= pd.DataFrame(faculties[faculties['google_scholar'].isna()])"
   ]
  },
  {
   "cell_type": "code",
   "execution_count": 4,
   "metadata": {},
   "outputs": [
    {
     "name": "stderr",
     "output_type": "stream",
     "text": [
      "51it [08:21,  9.84s/it]\n"
     ]
    }
   ],
   "source": [
    "# Search for profile using google scholar profile search\n",
    "\n",
    "profile_search_url = 'https://scholar.google.com/citations?view_op=search_authors&hl=en'\n",
    "\n",
    "driver = create_driver(debug=True)\n",
    "\n",
    "driver.get(profile_search_url)\n",
    "time.sleep(random.uniform(2,4))\n",
    "\n",
    "search_results = {'full_name': [], 'email':[], 'results': []}\n",
    "for i, row in tqdm(missing_google_scholar.iterrows()):\n",
    "    name = row['full_name']\n",
    "\n",
    "    results = search_from_google_scholar_profile(name, driver)\n",
    "\n",
    "    search_results['results'] += results\n",
    "    search_results['full_name'] += [name]*len(results)\n",
    "    search_results['email'] += [row['email']]*len(results)\n",
    "\n",
    "    time.sleep(random.uniform(1,3))\n",
    "    if random.uniform(0,1)>0.75:\n",
    "        time.sleep(random.uniform(3,5))\n",
    "\n",
    "    if random.uniform(0,1)>0.8:\n",
    "        driver.quit()\n",
    "        driver = create_driver(debug=False)\n",
    "        driver.get(profile_search_url)\n",
    "\n",
    "driver.quit()"
   ]
  },
  {
   "cell_type": "code",
   "execution_count": 5,
   "metadata": {},
   "outputs": [],
   "source": [
    "search_results_df = pd.DataFrame(search_results)\n",
    "search_results_df = search_results_df.merge(faculties, how='left', on=['full_name', 'email'])\n",
    "\n",
    "search_results_df['dr_ntu_pubs'] = None\n",
    "for i, row in search_results_df.iterrows():\n",
    "    \n",
    "    with open(f'./{raw_dr_ntu_dir}/{row[\"dr_ntu_id\"]}.json', 'r') as f:\n",
    "        raw_dr_ntu_profile = json.load(f)\n",
    "    pubs = []\n",
    "    for type in ['articles', 'books','book_chapters', 'conferences']:\n",
    "        pubs += raw_dr_ntu_profile[type]\n",
    "\n",
    "    search_results_df.at[i, 'dr_ntu_pubs'] = pubs"
   ]
  },
  {
   "cell_type": "code",
   "execution_count": 6,
   "metadata": {},
   "outputs": [
    {
     "name": "stderr",
     "output_type": "stream",
     "text": [
      "78it [14:34, 11.22s/it]\n"
     ]
    }
   ],
   "source": [
    "search_results_df['google_publications'] = None\n",
    "\n",
    "driver = create_driver(debug=True)\n",
    "for i, row in tqdm(search_results_df.iterrows()):\n",
    "    driver.get(row['results'])\n",
    "    time.sleep(random.uniform(2,5))\n",
    "\n",
    "    g_publication = scrape_publications(driver)\n",
    "\n",
    "    search_results_df.at[i,'google_publications'] = g_publication\n",
    "\n",
    "    if random.uniform(0,1)>0.8:\n",
    "        time.sleep(random.uniform(2,5))\n",
    "    \n",
    "    if random.uniform(0,1)>0.9:\n",
    "        driver.quit()\n",
    "        driver = create_driver(debug=False)\n",
    "driver.quit()"
   ]
  },
  {
   "cell_type": "code",
   "execution_count": 23,
   "metadata": {},
   "outputs": [
    {
     "name": "stderr",
     "output_type": "stream",
     "text": [
      "0it [00:00, ?it/s]/var/folders/h6/xlmxflxx3_q00qrdyppcwlk40000gn/T/ipykernel_42831/3856051135.py:17: FutureWarning: Setting an item of incompatible dtype is deprecated and will raise in a future error of pandas. Value '0.8536585365853658' has dtype incompatible with int64, please explicitly cast to a compatible dtype first.\n",
      "  search_results_df.at[i,'search_score'] = cnt/len(dr_ntu_pubs)\n",
      "78it [00:00, 1380.43it/s]\n"
     ]
    }
   ],
   "source": [
    "search_results_df['search_score'] = 0\n",
    "for i, row in tqdm(search_results_df.iterrows()):\n",
    "    dr_ntu_pubs = row['dr_ntu_pubs']\n",
    "    g_pubs = row['google_publications']\n",
    "\n",
    "    if len(dr_ntu_pubs)==0:\n",
    "        continue\n",
    "\n",
    "    cnt = 0\n",
    "    for title in dr_ntu_pubs:\n",
    "        for g_pub in g_pubs:\n",
    "            if g_pub['title'].lower() in title.lower():\n",
    "                cnt +=1\n",
    "                break\n",
    "\n",
    "    if cnt/len(dr_ntu_pubs)>0.0:\n",
    "        search_results_df.at[i,'search_score'] = cnt/len(dr_ntu_pubs)"
   ]
  },
  {
   "cell_type": "code",
   "execution_count": 24,
   "metadata": {},
   "outputs": [],
   "source": [
    "final_results = search_results_df.loc[search_results_df[search_results_df['search_score']>0].groupby(by=['full_name', 'email'])['search_score'].idxmax()][['full_name', 'email', 'results']]"
   ]
  },
  {
   "cell_type": "code",
   "execution_count": 28,
   "metadata": {},
   "outputs": [],
   "source": [
    "final_results.to_csv(f'{raw_google_search_dir}/results.csv')"
   ]
  },
  {
   "cell_type": "code",
   "execution_count": 30,
   "metadata": {},
   "outputs": [],
   "source": [
    "faculties = pd.read_csv(os.path.join(process_faculty_db_dir, process_faculty_db+'.csv'))\n",
    "\n",
    "faculties = faculties.merge(final_results, how='left', on=['full_name', 'email'])\n",
    "\n",
    "faculties['google_scholar'] = faculties['google_scholar'].combine_first(faculties['results'])\n",
    "\n",
    "faculties = faculties.drop(columns=['results'])\n",
    "\n",
    "faculties['google_scholar_id'] = faculties['google_scholar'].apply(lambda x: x.split('user=')[1].split('&')[0] if isinstance(x, str) else x)\n",
    "\n",
    "faculties.to_csv(os.path.join(process_faculty_db_dir, process_faculty_db+'.csv'), index=False)"
   ]
  }
 ],
 "metadata": {
  "kernelspec": {
   "display_name": "scse_dashboard",
   "language": "python",
   "name": "python3"
  },
  "language_info": {
   "codemirror_mode": {
    "name": "ipython",
    "version": 3
   },
   "file_extension": ".py",
   "mimetype": "text/x-python",
   "name": "python",
   "nbconvert_exporter": "python",
   "pygments_lexer": "ipython3",
   "version": "3.11.3"
  }
 },
 "nbformat": 4,
 "nbformat_minor": 2
}
