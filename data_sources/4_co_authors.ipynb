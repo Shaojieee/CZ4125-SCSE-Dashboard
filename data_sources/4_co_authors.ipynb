{
 "cells": [
  {
   "cell_type": "code",
   "execution_count": 1,
   "metadata": {},
   "outputs": [],
   "source": [
    "import sys\n",
    "sys.path.append('../')\n",
    "import os, json, time, random\n",
    "from google_scholar import scrape_google_scholar_profile, save_google_scholar_profile, scrape_affiliates\n",
    "from utils import create_driver\n",
    "from tqdm import tqdm\n",
    "import pandas as pd"
   ]
  },
  {
   "cell_type": "code",
   "execution_count": 2,
   "metadata": {},
   "outputs": [],
   "source": [
    "raw_dr_ntu_dir='./raw_dr_ntu'\n",
    "raw_faculty_db = 'scse_profile'\n",
    "\n",
    "process_faculty_db_dir ='./processed'\n",
    "process_faculty_db = 'scse_profile'\n",
    "process_co_author_db = 'google_scholar_co_author'\n",
    "\n",
    "raw_google_scholar_dir = './raw_google_scholar'"
   ]
  },
  {
   "cell_type": "code",
   "execution_count": 3,
   "metadata": {},
   "outputs": [],
   "source": [
    "faculties = pd.read_csv(os.path.join(process_faculty_db_dir, process_faculty_db+'.csv'))\n",
    "google_scholar_faculties = faculties[faculties['google_scholar'].notna()]"
   ]
  },
  {
   "cell_type": "code",
   "execution_count": 4,
   "metadata": {},
   "outputs": [
    {
     "name": "stderr",
     "output_type": "stream",
     "text": [
      "0it [00:00, ?it/s]"
     ]
    },
    {
     "name": "stderr",
     "output_type": "stream",
     "text": [
      "74it [00:00, 959.90it/s]\n"
     ]
    },
    {
     "data": {
      "text/plain": [
       "2282"
      ]
     },
     "execution_count": 4,
     "metadata": {},
     "output_type": "execute_result"
    }
   ],
   "source": [
    "# create co author db\n",
    "co_author_db = {'full_name': [], 'google_scholar_id': [], 'google_scholar': []}\n",
    "\n",
    "for i, row in tqdm(google_scholar_faculties.iterrows()):\n",
    "    name, url, id = row['full_name'], row['google_scholar'], row['google_scholar_id']\n",
    "    \n",
    "    if os.path.exists(f'{raw_google_scholar_dir}/{id}.json'):\n",
    "        with open(f'{raw_google_scholar_dir}/{id}.json', 'r') as f:\n",
    "            raw_google_scholar_profile = json.load(f)\n",
    "        \n",
    "        co_authors = raw_google_scholar_profile['co_authors']\n",
    "\n",
    "        for co_author in co_authors:\n",
    "            co_author_link = co_author['link']\n",
    "            co_author_id = co_author['link'].split('user=')[1].split('&')[0]\n",
    "            co_author_name = co_author['name']\n",
    "            \n",
    "            if co_author_id not in co_author_db['google_scholar_id']:\n",
    "                co_author_db['google_scholar'].append(co_author_link)\n",
    "                co_author_db['google_scholar_id'].append(co_author_id)\n",
    "                co_author_db['full_name'].append(co_author_name)\n",
    "\n",
    "co_author_db = pd.DataFrame(co_author_db)\n",
    "co_author_db.to_csv(f'{process_faculty_db_dir}/{process_co_author_db}.csv', index=False)\n",
    "len(co_author_db)"
   ]
  },
  {
   "cell_type": "code",
   "execution_count": null,
   "metadata": {},
   "outputs": [],
   "source": [
    "driver = create_driver(debug=False)\n",
    "\n",
    "for i, row in tqdm(co_author_db.iterrows()):\n",
    "    url, id = row['google_scholar'], row['google_scholar_id']\n",
    "\n",
    "    co_author_profile = scrape_google_scholar_profile(url, driver)\n",
    "    co_author_profile['last_updated'] = datetime.datetime.now().strftime(\"%Y/%m/%d %H:%M\")\n",
    "    save_google_scholar_profile(co_author_profile, output_filename=f'{id}.json', output_dir=raw_google_scholar_dir)\n",
    "\n",
    "    if random.uniform(0,1)>0.8:\n",
    "        time.sleep(random.uniform(5,7))\n",
    "\n",
    "    if random.uniform(0,1)>0.9:\n",
    "        driver.quit()\n",
    "        driver = create_driver(debug=False)\n",
    "\n",
    "driver.quit()"
   ]
  }
 ],
 "metadata": {
  "kernelspec": {
   "display_name": "scse_dashboard",
   "language": "python",
   "name": "python3"
  },
  "language_info": {
   "codemirror_mode": {
    "name": "ipython",
    "version": 3
   },
   "file_extension": ".py",
   "mimetype": "text/x-python",
   "name": "python",
   "nbconvert_exporter": "python",
   "pygments_lexer": "ipython3",
   "version": "3.11.3"
  }
 },
 "nbformat": 4,
 "nbformat_minor": 2
}
