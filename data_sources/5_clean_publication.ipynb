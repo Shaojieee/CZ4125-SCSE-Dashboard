{
 "cells": [
  {
   "cell_type": "code",
   "execution_count": 1,
   "metadata": {},
   "outputs": [],
   "source": [
    "import json, os, datetime\n",
    "from tqdm import tqdm\n",
    "import pandas as pd"
   ]
  },
  {
   "cell_type": "code",
   "execution_count": 2,
   "metadata": {},
   "outputs": [],
   "source": [
    "raw_dr_ntu_dir='./raw_dr_ntu'\n",
    "raw_faculty_db = 'scse_profile'\n",
    "\n",
    "process_faculty_db_dir ='./processed'\n",
    "process_faculty_db = 'scse_profile'\n",
    "process_co_author_db = 'google_scholar_co_author'\n",
    "\n",
    "raw_google_scholar_dir = './raw_google_scholar'\n",
    "raw_google_search_dir = './google_search'\n",
    "\n",
    "process_publications_dir = './processed_google_scholar_publications'\n",
    "os.makedirs(process_publications_dir, exist_ok=True)\n",
    "\n",
    "cur_year = datetime.datetime.now().year"
   ]
  },
  {
   "cell_type": "code",
   "execution_count": 3,
   "metadata": {},
   "outputs": [],
   "source": [
    "faculties = pd.read_csv(os.path.join(process_faculty_db_dir, process_faculty_db+'.csv'))\n",
    "google_scholar_faculties = faculties[faculties['google_scholar'].notna()]"
   ]
  },
  {
   "cell_type": "code",
   "execution_count": 4,
   "metadata": {},
   "outputs": [
    {
     "name": "stderr",
     "output_type": "stream",
     "text": [
      "64it [00:00, 154.70it/s]\n"
     ]
    }
   ],
   "source": [
    "for i, row in tqdm(google_scholar_faculties.iterrows()):\n",
    "    name, url, id = row['full_name'], row['google_scholar'], row['google_scholar_id']\n",
    "\n",
    "    pub_file = f\"{raw_google_scholar_dir}/{id}_publications.json\"\n",
    "    profile_file = f\"{raw_google_scholar_dir}/{id}.json\"\n",
    "\n",
    "    with open(pub_file, 'r') as f:\n",
    "        pubs = json.load(f)\n",
    "\n",
    "    with open(profile_file, 'r') as f:\n",
    "        profile = json.load(f)\n",
    "    \n",
    "    clean = []\n",
    "\n",
    "    for profile_pub in profile['publications']:\n",
    "        # Details to store\n",
    "        link = profile_pub['title_link']\n",
    "        title = profile_pub['title']\n",
    "        # Details not scraped\n",
    "        if link not in pubs:\n",
    "            continue\n",
    "\n",
    "        pub_details = pubs[link]\n",
    "        authors = pub_details['authors'] if 'authors' in pub_details else None\n",
    "        description = pub_details['description'] if 'description' in pub_details else None\n",
    "        citation_by_year = {'year':[], 'num_citations': []}\n",
    "        publication_year = None\n",
    "\n",
    "        # publication_year\n",
    "        if 'publication_date' in pub_details:\n",
    "            publication_year = int(pub_details['publication_date'].split('/')[0])\n",
    "            if publication_year>cur_year:\n",
    "                publication_year = None\n",
    "\n",
    "        # citation_by_year\n",
    "        if 'total_citations' in pub_details and publication_year is not None:\n",
    "            pub_citations = pub_details['total_citations']\n",
    "            total_citations = 0\n",
    "            for year in range(publication_year, cur_year+1):\n",
    "                total_citations += pub_citations.get(str(year), 0)\n",
    "                citation_by_year['year'].append(year)\n",
    "                citation_by_year['num_citations'].append(pub_citations.get(str(year), 0))\n",
    "\n",
    "            citation_by_year['year'].append('unknown')\n",
    "            citation_by_year['num_citations'].append(sum(pub_citations.values())-sum(citation_by_year['num_citations']))\n",
    "        # citation_by_year\n",
    "        elif 'total_citations' in pub_details:\n",
    "            citation_by_year['year'].append('unknown')\n",
    "            citation_by_year['num_citations'].append(sum(pub_citations.values()))\n",
    "        \n",
    "        final = {\n",
    "            'link': link, \n",
    "            'title': title, \n",
    "            'authors': authors, \n",
    "            'description': description, \n",
    "            'publication_year': publication_year,\n",
    "            'citations_by_year': citation_by_year,\n",
    "        }\n",
    "        clean.append(final)\n",
    "\n",
    "        \n",
    "    with open(f\"{process_publications_dir}/{id}.json\", 'w') as f:\n",
    "        json.dump(clean, f)"
   ]
  },
  {
   "cell_type": "code",
   "execution_count": null,
   "metadata": {},
   "outputs": [],
   "source": []
  }
 ],
 "metadata": {
  "kernelspec": {
   "display_name": "scse_dashboard",
   "language": "python",
   "name": "python3"
  },
  "language_info": {
   "codemirror_mode": {
    "name": "ipython",
    "version": 3
   },
   "file_extension": ".py",
   "mimetype": "text/x-python",
   "name": "python",
   "nbconvert_exporter": "python",
   "pygments_lexer": "ipython3",
   "version": "3.11.3"
  }
 },
 "nbformat": 4,
 "nbformat_minor": 2
}
