{
 "cells": [
  {
   "cell_type": "code",
   "execution_count": 16,
   "metadata": {},
   "outputs": [],
   "source": [
    "import json\n",
    "import os\n",
    "from utils import create_driver\n",
    "import time, random\n",
    "from tqdm import tqdm\n",
    "\n",
    "from google_scholar import scrape_publications, search_from_google_scholar_profile"
   ]
  },
  {
   "cell_type": "code",
   "execution_count": 12,
   "metadata": {},
   "outputs": [
    {
     "data": {
      "text/plain": [
       "54"
      ]
     },
     "execution_count": 12,
     "metadata": {},
     "output_type": "execute_result"
    }
   ],
   "source": [
    "dir = './raw_data'\n",
    "files = [os.path.join(dir, f) for f in os.listdir(dir) if os.path.isfile(os.path.join(dir, f)) and 'dr_ntu' in f]\n",
    "names = []\n",
    "\n",
    "for file in files:\n",
    "    with open(file, 'r') as f:\n",
    "        profile = json.load(f)\n",
    "    if profile['google_scholar'] is None:\n",
    "        names.append(profile['full_name'])\n",
    "len(names)"
   ]
  },
  {
   "cell_type": "code",
   "execution_count": 14,
   "metadata": {},
   "outputs": [],
   "source": [
    "# Search for profile using google scholar profile search\n",
    "\n",
    "profile_search_url = 'https://scholar.google.com/citations?view_op=search_authors&hl=en'\n",
    "\n",
    "driver = create_driver(debug=True)\n",
    "\n",
    "driver.get(profile_search_url)\n",
    "time.sleep(random.uniform(2,4))\n",
    "\n",
    "results = {}\n",
    "for name in tqdm(names):\n",
    "    results[name] = search_from_google_scholar_profile(name, driver)\n",
    "    time.sleep(random.uniform(1,3))\n",
    "    if random.uniform(0,1)>0.75:\n",
    "        time.sleep(random.uniform(5,7))\n",
    "\n",
    "    if random.uniform(0,1)>0.8:\n",
    "        driver.quit()\n",
    "        driver = create_driver(debug=False)\n",
    "        driver.get(profile_search_url)\n",
    "        time.sleep(random.uniform(2,4))\n",
    "\n",
    "driver.quit()"
   ]
  },
  {
   "cell_type": "code",
   "execution_count": 18,
   "metadata": {},
   "outputs": [],
   "source": [
    "for name in results.keys():\n",
    "    values = results[name]\n",
    "    pubs = []\n",
    "    with open(f'./raw_data/dr_ntu_{name.lower().replace(\" \", \"_\")}.json', 'r') as f:\n",
    "        dr_ntu = json.load(f)\n",
    "\n",
    "    for type in ['articles', 'books','book_chapters', 'conferences']:\n",
    "        pubs += dr_ntu[type]\n",
    "    values = {'possible_google_scholar_url': values, 'dr_ntu_publications': pubs}\n",
    "    \n",
    "    results[name] = values"
   ]
  },
  {
   "cell_type": "code",
   "execution_count": 19,
   "metadata": {},
   "outputs": [],
   "source": [
    "possible_google_scholar = {}\n",
    "for k, v in results.items():\n",
    "    links = v['possible_google_scholar_url']\n",
    "    possible_google_scholar.update({url:{'full_name': k} for url in links})"
   ]
  },
  {
   "cell_type": "code",
   "execution_count": 21,
   "metadata": {},
   "outputs": [
    {
     "name": "stderr",
     "output_type": "stream",
     "text": [
      "100%|██████████| 43/43 [13:07<00:00, 18.30s/it]\n"
     ]
    }
   ],
   "source": [
    "driver = create_driver(debug=True)\n",
    "for url in tqdm(possible_google_scholar.keys()):\n",
    "    driver.get(url)\n",
    "    time.sleep(random.uniform(2,5))\n",
    "\n",
    "    g_publication = scrape_publications(driver)\n",
    "\n",
    "    possible_google_scholar[url]['google_publications'] = g_publication\n",
    "\n",
    "    if random.uniform(0,1)>0.8:\n",
    "        time.sleep(random.uniform(5,10))\n",
    "    \n",
    "    if random.uniform(0,1)>0.9:\n",
    "        driver.quit()\n",
    "        driver = create_driver(debug=False)\n",
    "\n",
    "driver.quit()"
   ]
  },
  {
   "cell_type": "code",
   "execution_count": 22,
   "metadata": {},
   "outputs": [],
   "source": [
    "for g_scholar_link, values in possible_google_scholar.items():\n",
    "    name = values['full_name']\n",
    "    g_pubs = values['google_publications']\n",
    "\n",
    "    dr_ntu_pubs = results[name]['dr_ntu_publications']\n",
    "    if len(dr_ntu_pubs)==0:\n",
    "        continue\n",
    "    cnt = 0\n",
    "    for title in dr_ntu_pubs:\n",
    "        for g_pub in g_pubs:\n",
    "            if g_pub['title'].lower() in title.lower():\n",
    "                cnt +=1\n",
    "                break\n",
    "    if cnt/len(dr_ntu_pubs)>0:\n",
    "        if 'google_scholar' not in results[name]:\n",
    "            results[name]['google_scholar'] = {'link':g_scholar_link, 'score': cnt/len(dr_ntu_pubs)}\n",
    "        elif results[name]['google_scholar']['score']<cnt/len(dr_ntu_pubs):\n",
    "            results[name]['google_scholar'] = {'link':g_scholar_link, 'score': cnt/len(dr_ntu_pubs)}\n",
    "        "
   ]
  },
  {
   "cell_type": "code",
   "execution_count": 23,
   "metadata": {},
   "outputs": [],
   "source": [
    "google_scholar = {name:v['google_scholar']['link'] for name, v in results.items() if 'google_scholar' in v}"
   ]
  },
  {
   "cell_type": "code",
   "execution_count": 24,
   "metadata": {},
   "outputs": [
    {
     "data": {
      "text/plain": [
       "34"
      ]
     },
     "execution_count": 24,
     "metadata": {},
     "output_type": "execute_result"
    }
   ],
   "source": [
    "len(google_scholar)"
   ]
  },
  {
   "cell_type": "code",
   "execution_count": 25,
   "metadata": {},
   "outputs": [
    {
     "name": "stdout",
     "output_type": "stream",
     "text": [
      "Lin Guosheng\n",
      "['https://scholar.google.com/citations?hl=en&user=ZudEhvcAAAAJ']\n",
      "[]\n",
      "Liu Ziwei\n",
      "['https://scholar.google.com/citations?hl=en&user=lc45xlcAAAAJ']\n",
      "[]\n",
      "Qian Kemao\n",
      "['https://scholar.google.com/citations?hl=en&user=JCehBDoAAAAJ']\n",
      "[]\n",
      "Mohamed M. Sabry\n",
      "['https://scholar.google.com/citations?hl=en&user=eCo7XWkAAAAJ']\n",
      "[]\n",
      "Vidya Sudarshan\n",
      "['https://scholar.google.com/citations?hl=en&user=jhD-lGAAAAAJ']\n",
      "['Yu Na Wu, Vidya K Sudarshan, Shi Chao Zhu, Sung Joon Kim, Yin Hua Zhang. Functional interactions between complex I and nNOS in regulating cardiac mitochondrial activity in sham and hypertensive rat hearts. Pflugers Archiv – European Journal of Physiology, 2020; 472: 1743-1755.', 'Vidya K Sudarshan, U Rajendra Acharya, Oh Shu Lih, Muhammad Adam, Tan Jen Hong, Chua Kuang Chua, Chua Kok Poo, Tan Ru San. Automated diagnosis of congestive heart failure using dual tree complex wavelet transform and statistical features extracted from 2 seconds of ECG signals. Computers in Biology and Medicine, 2017; 83: 48-58.', 'U Rajendra Acharya, Vidya K Sudarshan, Dhanjoo N Ghista, Lim Wei Jie Eugene, Filippo Molinari, Meena Sankaranarayanan. Computer-Aided Diagnosis of diabetic subjects by HRV signals using discrete wavelet transform method. Knowledge-Based Systems, 2015; 81: 56-64.', 'Vidya KS, Acharya UR, Ng EYK, Chou Siaw Meng, Tan RS, Ghista DN, “Automatic identification of myocardial infarction tissue characterization using ultrasound images: A Review”, IEEE Reviews in Biomedical Engineering, 2014; 8: 86-97']\n"
     ]
    },
    {
     "data": {
      "text/plain": [
       "5"
      ]
     },
     "execution_count": 25,
     "metadata": {},
     "output_type": "execute_result"
    }
   ],
   "source": [
    "cnt = 0\n",
    "\n",
    "for k,i in results.items():\n",
    "    if 'google_scholar' not in i and len(i['possible_google_scholar_url'])>0:\n",
    "        print(k)\n",
    "        print(i['possible_google_scholar_url'])\n",
    "        print(i['dr_ntu_publications'])\n",
    "        cnt+=1\n",
    "cnt"
   ]
  },
  {
   "cell_type": "code",
   "execution_count": 27,
   "metadata": {},
   "outputs": [],
   "source": [
    "for name in google_scholar:\n",
    "    with open(f'./raw_data/dr_ntu_{name.lower().replace(\" \", \"_\")}.json', 'r') as f:\n",
    "        dr_ntu = json.load(f)\n",
    "    dr_ntu['google_scholar'] = google_scholar[name]\n",
    "\n",
    "    with open(f'./raw_data/dr_ntu_{name.lower().replace(\" \", \"_\")}.json', 'w') as f:\n",
    "        json.dump(dr_ntu, f)"
   ]
  }
 ],
 "metadata": {
  "kernelspec": {
   "display_name": "scse_dashboard",
   "language": "python",
   "name": "python3"
  },
  "language_info": {
   "codemirror_mode": {
    "name": "ipython",
    "version": 3
   },
   "file_extension": ".py",
   "mimetype": "text/x-python",
   "name": "python",
   "nbconvert_exporter": "python",
   "pygments_lexer": "ipython3",
   "version": "3.11.3"
  }
 },
 "nbformat": 4,
 "nbformat_minor": 2
}
