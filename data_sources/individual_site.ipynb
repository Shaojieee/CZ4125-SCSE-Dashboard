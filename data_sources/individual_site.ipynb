{
 "cells": [
  {
   "cell_type": "code",
   "execution_count": 53,
   "metadata": {},
   "outputs": [
    {
     "data": {
      "text/plain": [
       "True"
      ]
     },
     "execution_count": 53,
     "metadata": {},
     "output_type": "execute_result"
    }
   ],
   "source": [
    "import pandas as pd\n",
    "import json\n",
    "import requests\n",
    "from bs4 import BeautifulSoup\n",
    "from selenium.webdriver.common.by import By\n",
    "from selenium.webdriver.common.keys import Keys\n",
    "from utils import create_driver\n",
    "\n",
    "from google_scholar import scrape_publications, search_from_google_scholar_profile\n",
    "\n",
    "\n",
    "import time, random"
   ]
  },
  {
   "cell_type": "code",
   "execution_count": 7,
   "metadata": {},
   "outputs": [
    {
     "data": {
      "text/plain": [
       "54"
      ]
     },
     "execution_count": 7,
     "metadata": {},
     "output_type": "execute_result"
    }
   ],
   "source": [
    "with open('./data/individual_profiles.csv', 'r') as f:\n",
    "    ind_profile = json.load(f)\n",
    "    \n",
    "other_websites = {}\n",
    "\n",
    "for profile in ind_profile:\n",
    "    if profile['google_scholar'] is None:\n",
    "        other_websites[profile['full_name']] = {'other_websites': profile['other_websites']}\n",
    "len(other_websites)"
   ]
  },
  {
   "cell_type": "code",
   "execution_count": 24,
   "metadata": {},
   "outputs": [
    {
     "data": {
      "text/plain": [
       "54"
      ]
     },
     "execution_count": 24,
     "metadata": {},
     "output_type": "execute_result"
    }
   ],
   "source": [
    "with open('./data/individual_profiles.json', 'r') as f:\n",
    "    ind_profile = json.load(f)\n",
    "    \n",
    "other_websites = {}\n",
    "names = []\n",
    "for profile in ind_profile:\n",
    "    if profile['google_scholar'] is None:\n",
    "        names.append(profile['full_name'])\n",
    "len(names)"
   ]
  },
  {
   "cell_type": "code",
   "execution_count": 25,
   "metadata": {},
   "outputs": [],
   "source": [
    "# Search for profile using google scholar profile search\n",
    "\n",
    "profile_search_url = 'https://scholar.google.com/citations?view_op=search_authors&hl=en'\n",
    "\n",
    "driver = create_driver(debug=True)\n",
    "\n",
    "driver.get(profile_search_url)\n",
    "time.sleep(random.uniform(2,4))\n",
    "\n",
    "results = {}\n",
    "for name in names:\n",
    "    results[name] = search_from_google_scholar_profile(f'{name} ntu', driver)\n",
    "    time.sleep(random.uniform(1,3))\n",
    "    if random.uniform(0,1)>0.75:\n",
    "        time.sleep(random.uniform(5,7))\n",
    "\n",
    "    if random.uniform(0,1)>0.8:\n",
    "        driver.quit()\n",
    "        driver = create_driver(debug=False)\n",
    "        driver.get(profile_search_url)\n",
    "        time.sleep(random.uniform(2,4))\n",
    "\n",
    "driver.quit()"
   ]
  },
  {
   "cell_type": "code",
   "execution_count": 50,
   "metadata": {},
   "outputs": [],
   "source": [
    "for k in results.keys():\n",
    "    values = results[k]\n",
    "    dr_ntu = next(filter(lambda s: k in s['full_name'], ind_profile))\n",
    "    pubs = []\n",
    "\n",
    "    for type in ['articles', 'books','book_chapters', 'conferences']:\n",
    "        pubs += dr_ntu[type]\n",
    "    values = {'possible_google_scholar_url': values, 'dr_ntu_publications': pubs}\n",
    "    results[k] = values"
   ]
  },
  {
   "cell_type": "code",
   "execution_count": 55,
   "metadata": {},
   "outputs": [],
   "source": [
    "possible_google_scholar = {}\n",
    "for k, v in results.items():\n",
    "    links = v['possible_google_scholar_url']\n",
    "    possible_google_scholar.update({url:{'full_name': k} for url in links})"
   ]
  },
  {
   "cell_type": "code",
   "execution_count": 58,
   "metadata": {},
   "outputs": [
    {
     "name": "stdout",
     "output_type": "stream",
     "text": [
      "Sleeping\n"
     ]
    },
    {
     "name": "stderr",
     "output_type": "stream",
     "text": [
      "/Users/shaojieee/.pyenv/versions/3.11.3/envs/scse_dashboard/lib/python3.11/site-packages/bs4/__init__.py:749: RuntimeWarning: coroutine 'AsyncChromiumLoader.ascrape_playwright' was never awaited\n",
      "  tag = self.element_classes.get(Tag, Tag)(\n",
      "RuntimeWarning: Enable tracemalloc to get the object allocation traceback\n"
     ]
    },
    {
     "name": "stdout",
     "output_type": "stream",
     "text": [
      "Sleeping\n",
      "Sleeping\n",
      "Sleeping\n",
      "Sleeping\n",
      "Sleeping\n",
      "Sleeping\n",
      "Sleeping\n",
      "Sleeping\n",
      "Sleeping\n",
      "Sleeping\n"
     ]
    }
   ],
   "source": [
    "driver = create_driver(debug=True)\n",
    "for url in possible_google_scholar.keys():\n",
    "    driver.get(url)\n",
    "    time.sleep(random.uniform(2,5))\n",
    "\n",
    "    g_publication = scrape_publications(driver)\n",
    "\n",
    "    possible_google_scholar[url]['google_publications'] = g_publication\n",
    "\n",
    "    if random.uniform(0,1)>0.8:\n",
    "        print('Sleeping')\n",
    "        time.sleep(60)\n",
    "    \n",
    "    if random.uniform(0,1)>0.9:\n",
    "        driver.quit()\n",
    "        driver = create_driver(debug=False)\n",
    "\n",
    "driver.quit()"
   ]
  },
  {
   "cell_type": "code",
   "execution_count": 105,
   "metadata": {},
   "outputs": [],
   "source": [
    "for g_scholar_link, values in possible_google_scholar.items():\n",
    "    name = values['full_name']\n",
    "    g_pubs = values['google_publications']\n",
    "\n",
    "    dr_ntu_pubs = results[name]['dr_ntu_publications']\n",
    "    if len(dr_ntu_pubs)==0:\n",
    "        continue\n",
    "    cnt = 0\n",
    "    for title in dr_ntu_pubs:\n",
    "        for g_pub in g_pubs:\n",
    "            if g_pub['title'].lower() in title.lower():\n",
    "                cnt +=1\n",
    "                break\n",
    "    if cnt/len(dr_ntu_pubs)>0:\n",
    "        if 'google_scholar' not in results[name]:\n",
    "            results[name]['google_scholar'] = {'link':g_scholar_link, 'score': cnt/len(dr_ntu_pubs)}\n",
    "        elif results[name]['google_scholar']['score']<cnt/len(dr_ntu_pubs):\n",
    "            results[name]['google_scholar'] = {'link':g_scholar_link, 'score': cnt/len(dr_ntu_pubs)}\n",
    "        "
   ]
  },
  {
   "cell_type": "code",
   "execution_count": 111,
   "metadata": {},
   "outputs": [],
   "source": [
    "google_scholar = {name:v['google_scholar']['link'] for name, v in results.items() if 'google_scholar' in v}"
   ]
  },
  {
   "cell_type": "code",
   "execution_count": 112,
   "metadata": {},
   "outputs": [
    {
     "data": {
      "text/plain": [
       "34"
      ]
     },
     "execution_count": 112,
     "metadata": {},
     "output_type": "execute_result"
    }
   ],
   "source": [
    "len(google_scholar)"
   ]
  },
  {
   "cell_type": "code",
   "execution_count": 116,
   "metadata": {},
   "outputs": [
    {
     "data": {
      "text/plain": [
       "66"
      ]
     },
     "execution_count": 116,
     "metadata": {},
     "output_type": "execute_result"
    }
   ],
   "source": [
    "with open('./data/individual_profiles.json', 'r') as f:\n",
    "    ind_profile = json.load(f)\n",
    "\n",
    "for profile in ind_profile:\n",
    "    if profile['full_name'] in google_scholar:\n",
    "        profile['google_scholar'] = google_scholar[profile['full_name']]\n",
    "\n",
    "cnt = 0\n",
    "for profile in ind_profile:\n",
    "    if profile['google_scholar'] is not None:\n",
    "        cnt+=1\n",
    "cnt\n"
   ]
  },
  {
   "cell_type": "code",
   "execution_count": null,
   "metadata": {},
   "outputs": [],
   "source": [
    "with open('./data/individual_profiles.json', 'w') as f:\n",
    "    json.dump(ind_profile, f)"
   ]
  },
  {
   "cell_type": "code",
   "execution_count": 106,
   "metadata": {},
   "outputs": [
    {
     "name": "stdout",
     "output_type": "stream",
     "text": [
      "Lin Guosheng\n",
      "['https://scholar.google.com/citations?hl=en&user=ZudEhvcAAAAJ']\n",
      "[]\n",
      "Liu Ziwei\n",
      "['https://scholar.google.com/citations?hl=en&user=lc45xlcAAAAJ']\n",
      "[]\n",
      "Mohamed M. Sabry\n",
      "['https://scholar.google.com/citations?hl=en&user=eCo7XWkAAAAJ']\n",
      "[]\n",
      "Qian Kemao\n",
      "['https://scholar.google.com/citations?hl=en&user=JCehBDoAAAAJ']\n",
      "[]\n",
      "Vidya Sudarshan\n",
      "['https://scholar.google.com/citations?hl=en&user=jhD-lGAAAAAJ']\n",
      "['Yu Na Wu, Vidya K Sudarshan, Shi Chao Zhu, Sung Joon Kim, Yin Hua Zhang. Functional interactions between complex I and nNOS in regulating cardiac mitochondrial activity in sham and hypertensive rat hearts. Pflugers Archiv – European Journal of Physiology, 2020; 472: 1743-1755.', 'Vidya K Sudarshan, U Rajendra Acharya, Oh Shu Lih, Muhammad Adam, Tan Jen Hong, Chua Kuang Chua, Chua Kok Poo, Tan Ru San. Automated diagnosis of congestive heart failure using dual tree complex wavelet transform and statistical features extracted from 2 seconds of ECG signals. Computers in Biology and Medicine, 2017; 83: 48-58.', 'U Rajendra Acharya, Vidya K Sudarshan, Dhanjoo N Ghista, Lim Wei Jie Eugene, Filippo Molinari, Meena Sankaranarayanan. Computer-Aided Diagnosis of diabetic subjects by HRV signals using discrete wavelet transform method. Knowledge-Based Systems, 2015; 81: 56-64.', 'Vidya KS, Acharya UR, Ng EYK, Chou Siaw Meng, Tan RS, Ghista DN, “Automatic identification of myocardial infarction tissue characterization using ultrasound images: A Review”, IEEE Reviews in Biomedical Engineering, 2014; 8: 86-97']\n"
     ]
    },
    {
     "data": {
      "text/plain": [
       "5"
      ]
     },
     "execution_count": 106,
     "metadata": {},
     "output_type": "execute_result"
    }
   ],
   "source": [
    "cnt = 0\n",
    "\n",
    "for k,i in results.items():\n",
    "    if 'google_scholar' not in i and len(i['possible_google_scholar_url'])>0:\n",
    "        print(k)\n",
    "        print(i['possible_google_scholar_url'])\n",
    "        print(i['dr_ntu_publications'])\n",
    "        cnt+=1\n",
    "cnt"
   ]
  },
  {
   "cell_type": "code",
   "execution_count": null,
   "metadata": {},
   "outputs": [],
   "source": []
  }
 ],
 "metadata": {
  "kernelspec": {
   "display_name": "scse_dashboard",
   "language": "python",
   "name": "python3"
  },
  "language_info": {
   "codemirror_mode": {
    "name": "ipython",
    "version": 3
   },
   "file_extension": ".py",
   "mimetype": "text/x-python",
   "name": "python",
   "nbconvert_exporter": "python",
   "pygments_lexer": "ipython3",
   "version": "3.11.3"
  }
 },
 "nbformat": 4,
 "nbformat_minor": 2
}
