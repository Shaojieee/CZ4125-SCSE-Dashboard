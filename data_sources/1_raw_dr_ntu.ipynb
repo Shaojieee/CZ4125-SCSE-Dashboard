{
 "cells": [
  {
   "cell_type": "code",
   "execution_count": 1,
   "metadata": {},
   "outputs": [],
   "source": [
    "import sys\n",
    "import os\n",
    "sys.path.append('../')\n",
    "import raw_dr_ntu \n",
    "import process_dr_ntu\n",
    "import pandas as pd\n",
    "import json\n",
    "from tqdm import tqdm"
   ]
  },
  {
   "cell_type": "code",
   "execution_count": 2,
   "metadata": {},
   "outputs": [],
   "source": [
    "raw_dr_ntu_dir='./raw_dr_ntu'\n",
    "raw_faculty_db = 'scse_profile'\n",
    "\n",
    "process_faculty_db_dir ='./processed'\n",
    "process_faculty_db = 'scse_profile'"
   ]
  },
  {
   "cell_type": "code",
   "execution_count": 3,
   "metadata": {},
   "outputs": [
    {
     "name": "stdout",
     "output_type": "stream",
     "text": [
      "SCSE Profiles saved at ./raw_dr_ntu/scse_profile.csv\n"
     ]
    }
   ],
   "source": [
    "scse_profiles = raw_dr_ntu.scrape_all_scse_profiles()\n",
    "os.makedirs(raw_dr_ntu_dir, exist_ok=True)\n",
    "output_file = os.path.join(raw_dr_ntu_dir, raw_faculty_db+'.csv')\n",
    "scse_profiles.to_csv(output_file, index=False)\n",
    "print(f'SCSE Profiles saved at {output_file}')"
   ]
  },
  {
   "cell_type": "code",
   "execution_count": 4,
   "metadata": {},
   "outputs": [
    {
     "name": "stdout",
     "output_type": "stream",
     "text": [
      "SCSE Profiles saved at ./processed/scse_profile.csv\n"
     ]
    }
   ],
   "source": [
    "faculties = process_dr_ntu.generate_faculty_db(scse_profiles)\n",
    "os.makedirs(process_faculty_db_dir, exist_ok=True)\n",
    "output_file = os.path.join(process_faculty_db_dir, process_faculty_db+'.csv')\n",
    "faculties.to_csv(output_file, index=False)\n",
    "print(f'SCSE Profiles saved at {output_file}')"
   ]
  },
  {
   "cell_type": "code",
   "execution_count": 5,
   "metadata": {},
   "outputs": [],
   "source": [
    "for i, row in tqdm(faculties.iterrows()):\n",
    "   profile = raw_dr_ntu.scrape_individual_profile(row['dr_ntu'], row['full_name'])\n",
    "   raw_dr_ntu.save_individual_profile(profile, row['dr_ntu_id'], output_dir=raw_dr_ntu_dir)"
   ]
  },
  {
   "cell_type": "code",
   "execution_count": 7,
   "metadata": {},
   "outputs": [],
   "source": [
    "faculties = pd.read_csv(os.path.join(process_faculty_db_dir, process_faculty_db+'.csv'))\n",
    "\n",
    "for i, row in faculties.iterrows():\n",
    "    with open(f\"{raw_dr_ntu_dir}/{row['dr_ntu_id']}.json\", 'r') as f:\n",
    "        raw_dr_ntu_profile = json.load(f)\n",
    "\n",
    "    google_scholar_id, google_scholar_url = process_dr_ntu.get_google_scholar(raw_dr_ntu_profile)\n",
    "\n",
    "    faculties.at[i, 'google_scholar'] = google_scholar_url\n",
    "    faculties.at[i, 'google_scholar_id'] = google_scholar_id\n",
    "\n",
    "faculties.to_csv(os.path.join(process_faculty_db_dir, process_faculty_db+'.csv'), index=False)"
   ]
  },
  {
   "cell_type": "code",
   "execution_count": null,
   "metadata": {},
   "outputs": [],
   "source": []
  }
 ],
 "metadata": {
  "kernelspec": {
   "display_name": "scse_dashboard",
   "language": "python",
   "name": "python3"
  },
  "language_info": {
   "codemirror_mode": {
    "name": "ipython",
    "version": 3
   },
   "file_extension": ".py",
   "mimetype": "text/x-python",
   "name": "python",
   "nbconvert_exporter": "python",
   "pygments_lexer": "ipython3",
   "version": "3.11.3"
  }
 },
 "nbformat": 4,
 "nbformat_minor": 2
}
