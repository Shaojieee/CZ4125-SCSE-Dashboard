{
 "cells": [
  {
   "cell_type": "code",
   "execution_count": 1,
   "metadata": {},
   "outputs": [],
   "source": [
    "import json\n",
    "import os\n",
    "import datetime"
   ]
  },
  {
   "cell_type": "code",
   "execution_count": 2,
   "metadata": {},
   "outputs": [
    {
     "data": {
      "text/plain": [
       "21"
      ]
     },
     "execution_count": 2,
     "metadata": {},
     "output_type": "execute_result"
    }
   ],
   "source": [
    "dir = './raw_data'\n",
    "files = [os.path.join(dir, f) for f in os.listdir(dir) if os.path.isfile(os.path.join(dir, f)) and 'dr_ntu' in f]\n",
    "names = []\n",
    "\n",
    "dr_ntu_keys = set()\n",
    "for file in files:\n",
    "    with open(file, 'r') as f:\n",
    "        profile = json.load(f)\n",
    "    \n",
    "    dr_ntu_keys = dr_ntu_keys | profile.keys()\n",
    "\n",
    "len(dr_ntu_keys)"
   ]
  },
  {
   "cell_type": "code",
   "execution_count": 3,
   "metadata": {},
   "outputs": [
    {
     "data": {
      "text/plain": [
       "{'articles',\n",
       " 'bibliometrics',\n",
       " 'biography',\n",
       " 'book_chapters',\n",
       " 'books',\n",
       " 'conferences',\n",
       " 'designation',\n",
       " 'dr_ntu',\n",
       " 'email',\n",
       " 'full_name',\n",
       " 'github',\n",
       " 'google_scholar',\n",
       " 'grants',\n",
       " 'image_path',\n",
       " 'interests',\n",
       " 'keywords',\n",
       " 'name_card',\n",
       " 'orcid',\n",
       " 'other_websites',\n",
       " 'scopus',\n",
       " 'web_of_science'}"
      ]
     },
     "execution_count": 3,
     "metadata": {},
     "output_type": "execute_result"
    }
   ],
   "source": [
    "dr_ntu_keys"
   ]
  },
  {
   "cell_type": "code",
   "execution_count": 4,
   "metadata": {},
   "outputs": [],
   "source": [
    "dr_ntu_information = [\n",
    "    'full_name', 'email', 'designation',\n",
    "    'biography', 'grants',\n",
    "    'dr_ntu', 'google_scholar', 'github', 'orcid', 'scopus', 'web_of_science', 'other_websites', 'image_path'\n",
    "]"
   ]
  },
  {
   "cell_type": "code",
   "execution_count": 5,
   "metadata": {},
   "outputs": [
    {
     "data": {
      "text/plain": [
       "5"
      ]
     },
     "execution_count": 5,
     "metadata": {},
     "output_type": "execute_result"
    }
   ],
   "source": [
    "dir = './raw_data'\n",
    "files = [os.path.join(dir, f) for f in os.listdir(dir) if os.path.isfile(os.path.join(dir, f)) and 'google_scholar' in f and 'publication' not in f]\n",
    "names = []\n",
    "\n",
    "google_scholar_keys = set()\n",
    "for file in files:\n",
    "    with open(file, 'r') as f:\n",
    "        profile = json.load(f)\n",
    "    \n",
    "    google_scholar_keys = google_scholar_keys | profile.keys()\n",
    "\n",
    "len(google_scholar_keys)"
   ]
  },
  {
   "cell_type": "code",
   "execution_count": 6,
   "metadata": {},
   "outputs": [
    {
     "data": {
      "text/plain": [
       "{'citation_statistics',\n",
       " 'co_authors',\n",
       " 'google_scholar',\n",
       " 'interests',\n",
       " 'publications'}"
      ]
     },
     "execution_count": 6,
     "metadata": {},
     "output_type": "execute_result"
    }
   ],
   "source": [
    "google_scholar_keys"
   ]
  },
  {
   "cell_type": "code",
   "execution_count": 7,
   "metadata": {},
   "outputs": [],
   "source": [
    "google_scholar_information = [\n",
    "    'citation_statistics', 'interests'\n",
    "]"
   ]
  },
  {
   "cell_type": "code",
   "execution_count": null,
   "metadata": {},
   "outputs": [],
   "source": []
  },
  {
   "cell_type": "code",
   "execution_count": 8,
   "metadata": {},
   "outputs": [],
   "source": [
    "dir = './raw_data'\n",
    "dr_ntu_files = [os.path.join(dir, f) for f in os.listdir(dir) if os.path.isfile(os.path.join(dir, f)) and 'dr_ntu' in f]\n",
    "\n",
    "output_dir = './processed_data'\n",
    "\n",
    "for dr_ntu in dr_ntu_files:\n",
    "    profile = {}\n",
    "    with open(dr_ntu, 'r') as f:\n",
    "        dr_ntu = json.load(f)\n",
    "    name = dr_ntu['full_name']\n",
    "\n",
    "    profile.update({k:v for k, v in dr_ntu.items() if k in dr_ntu_information})\n",
    "\n",
    "    # Updating google scholar url from google scholar profile search\n",
    "    google_scholar_profile_search_file = os.path.join(dir, f'google_scholar_profile_search_{name.lower().replace(\" \", \"_\")}.json')\n",
    "\n",
    "    if os.path.exists(google_scholar_profile_search_file):\n",
    "        with open(google_scholar_profile_search_file, 'r') as f:\n",
    "            google_scholar = json.load(f)\n",
    "        \n",
    "        profile.update(google_scholar)\n",
    "\n",
    "    # Updating with google scholar information\n",
    "    google_scholar_file = os.path.join(dir, f'google_scholar_{name.lower().replace(\" \", \"_\")}.json')\n",
    "\n",
    "    if os.path.exists(google_scholar_file):\n",
    "        with open(google_scholar_file, 'r') as f:\n",
    "            google_scholar = json.load(f)\n",
    "        \n",
    "\n",
    "        processed_google_scholar = {}\n",
    "        processed_google_scholar['interests'] = google_scholar['interests']\n",
    "        \n",
    "\n",
    "        profile.update(processed_google_scholar)\n",
    "\n",
    "    with open(os.path.join(output_dir, f'{name.lower().replace(\" \", \"_\")}.json'), 'w') as f:\n",
    "        json.dump(profile, f)"
   ]
  },
  {
   "cell_type": "markdown",
   "metadata": {},
   "source": [
    "# Merging Education"
   ]
  },
  {
   "cell_type": "code",
   "execution_count": 9,
   "metadata": {},
   "outputs": [],
   "source": [
    "dir = './processed_data'\n",
    "processed = [os.path.join(dir, f) for f in os.listdir(dir) if os.path.isfile(os.path.join(dir, f))]\n",
    "gpt_dir = './gpt_output_data'\n",
    "gpt_prefix = 'education_v1'\n",
    "for file in processed:\n",
    "    with open(file, 'r') as f:\n",
    "        profile = json.load(f)\n",
    "    \n",
    "    name = file[17:-5]\n",
    "\n",
    "    with open(f'{gpt_dir}/{gpt_prefix}_{name}.json', 'r') as f:\n",
    "        education = json.load(f)\n",
    "\n",
    "    del education['name']\n",
    "    profile.update(education)\n",
    "\n",
    "    with open(file, 'w') as f:\n",
    "        json.dump(profile, f)"
   ]
  },
  {
   "cell_type": "markdown",
   "metadata": {},
   "source": [
    "# Interests"
   ]
  },
  {
   "cell_type": "code",
   "execution_count": 10,
   "metadata": {},
   "outputs": [
    {
     "data": {
      "text/plain": [
       "189"
      ]
     },
     "execution_count": 10,
     "metadata": {},
     "output_type": "execute_result"
    }
   ],
   "source": [
    "dir = './raw_data'\n",
    "google_scholar_files = [os.path.join(dir, f) for f in os.listdir(dir) if os.path.isfile(os.path.join(dir, f)) and 'google_scholar' in f and 'publication' not in f and 'profile' not in f]\n",
    "\n",
    "interests = {}\n",
    "for file in google_scholar_files:\n",
    "    with open(file, 'r') as f:\n",
    "            google_scholar = json.load(f)\n",
    "        \n",
    "    for interest in google_scholar['interests']:\n",
    "          interests[interest] = interests.get(interest, 0)+1\n",
    "\n",
    "len(interests)"
   ]
  },
  {
   "cell_type": "code",
   "execution_count": null,
   "metadata": {},
   "outputs": [],
   "source": []
  }
 ],
 "metadata": {
  "kernelspec": {
   "display_name": "scse_dashboard",
   "language": "python",
   "name": "python3"
  },
  "language_info": {
   "codemirror_mode": {
    "name": "ipython",
    "version": 3
   },
   "file_extension": ".py",
   "mimetype": "text/x-python",
   "name": "python",
   "nbconvert_exporter": "python",
   "pygments_lexer": "ipython3",
   "version": "3.11.3"
  }
 },
 "nbformat": 4,
 "nbformat_minor": 2
}
