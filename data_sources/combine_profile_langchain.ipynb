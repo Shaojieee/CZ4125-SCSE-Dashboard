{
 "cells": [
  {
   "cell_type": "code",
   "execution_count": 1,
   "metadata": {},
   "outputs": [],
   "source": [
    "import json\n",
    "\n",
    "import langchain\n",
    "from dotenv import load_dotenv\n",
    "load_dotenv()\n",
    "\n",
    "from langchain.llms import OpenAI\n",
    "from langchain.prompts import PromptTemplate\n",
    "from langchain.output_parsers import PydanticOutputParser\n",
    "from langchain.pydantic_v1 import BaseModel, Field, validator\n",
    "from typing import List, Dict"
   ]
  },
  {
   "cell_type": "code",
   "execution_count": 2,
   "metadata": {},
   "outputs": [],
   "source": [
    "model_name = \"gpt-3.5-turbo-instruct\"\n",
    "# model_name = \"text-davinci-003\"\n",
    "temperature = 0.0\n",
    "model = OpenAI(model_name=model_name, temperature=temperature)"
   ]
  },
  {
   "cell_type": "code",
   "execution_count": 3,
   "metadata": {},
   "outputs": [
    {
     "data": {
      "text/plain": [
       "'The output should be formatted as a JSON instance that conforms to the JSON schema below.\\n\\nAs an example, for the schema {\"properties\": {\"foo\": {\"title\": \"Foo\", \"description\": \"a list of strings\", \"type\": \"array\", \"items\": {\"type\": \"string\"}}}, \"required\": [\"foo\"]}\\nthe object {\"foo\": [\"bar\", \"baz\"]} is a well-formatted instance of the schema. The object {\"properties\": {\"foo\": [\"bar\", \"baz\"]}} is not well-formatted.\\n\\nHere is the output schema:\\n```\\n{\"properties\": {\"bachelor\": {\"title\": \"Bachelor\", \"description\": \"School where the bachelor\\'s degree was obtained. Return \\'None\\' if information cannot be found\", \"type\": \"string\"}, \"masters\": {\"title\": \"Masters\", \"description\": \"School where master\\'s degree was obtained. Return \\'None\\' if information cannot be found\", \"type\": \"string\"}, \"phd\": {\"title\": \"Phd\", \"description\": \"School where phD was obtained. Return \\'None\\' if information cannot be found\", \"type\": \"string\"}}, \"required\": [\"bachelor\", \"masters\", \"phd\"]}\\n```'"
      ]
     },
     "execution_count": 3,
     "metadata": {},
     "output_type": "execute_result"
    }
   ],
   "source": [
    "class Education(BaseModel):\n",
    "    bachelor: str = Field(description=\"School where the bachelor's degree was obtained. Return 'None' if information cannot be found\")\n",
    "    masters: str = Field(description=\"School where master's degree was obtained. Return 'None' if information cannot be found\")\n",
    "    phd: str = Field(description=\"School where phD was obtained. Return 'None' if information cannot be found\")\n",
    "\n",
    "parser = PydanticOutputParser(pydantic_object=Education)\n",
    "format_instruction = parser.get_format_instructions()\n",
    "format_instruction"
   ]
  },
  {
   "cell_type": "code",
   "execution_count": 4,
   "metadata": {},
   "outputs": [],
   "source": [
    "prompt = PromptTemplate(\n",
    "    template=\"\"\"The following text is the biography of a professor.\n",
    "    {biography}\n",
    "    \n",
    "    What is the education background of this professor?\n",
    "\n",
    "    {format_instructions}\n",
    "\n",
    "    The information returned must be found in the text provided.\n",
    "    \"\"\",\n",
    "    input_variables=[\"biography\"],\n",
    "    partial_variables={\"format_instructions\": format_instruction}\n",
    ")"
   ]
  },
  {
   "cell_type": "code",
   "execution_count": 5,
   "metadata": {},
   "outputs": [
    {
     "name": "stdout",
     "output_type": "stream",
     "text": [
      "\n",
      "{\"bachelor\": \"Moscow Engineering Physics Institute, Russia (MEPhI)\", \"masters\": \"Moscow Engineering Physics Institute, Russia (MEPhI)\", \"phd\": \"Moscow Engineering Physics Institute, Russia (MEPhI)\"}\n"
     ]
    }
   ],
   "source": [
    "with open('./raw_data/dr_ntu_alexei_sourin.json', 'r') as f:\n",
    "    data = json.load(f)\n",
    "\n",
    "_input = prompt.format_prompt(biography=data['biography'])\n",
    "output = model(_input.to_string())\n",
    "\n",
    "print(output)"
   ]
  },
  {
   "cell_type": "code",
   "execution_count": 6,
   "metadata": {},
   "outputs": [
    {
     "name": "stdout",
     "output_type": "stream",
     "text": [
      "\n",
      "{\n",
      "    \"bachelor\": \"None\",\n",
      "    \"masters\": \"None\",\n",
      "    \"phd\": \"None\"\n",
      "}\n"
     ]
    }
   ],
   "source": [
    "with open('./raw_data/dr_ntu_sourav_saha_bhowmick.json', 'r') as f:\n",
    "    data = json.load(f)\n",
    "\n",
    "_input = prompt.format_prompt(biography=data['biography'])\n",
    "output = model(_input.to_string())\n",
    "print(output)"
   ]
  },
  {
   "cell_type": "code",
   "execution_count": 94,
   "metadata": {},
   "outputs": [
    {
     "data": {
      "text/plain": [
       "'The output should be formatted as a JSON instance that conforms to the JSON schema below.\\n\\nAs an example, for the schema {\"properties\": {\"foo\": {\"title\": \"Foo\", \"description\": \"a list of strings\", \"type\": \"array\", \"items\": {\"type\": \"string\"}}}, \"required\": [\"foo\"]}\\nthe object {\"foo\": [\"bar\", \"baz\"]} is a well-formatted instance of the schema. The object {\"properties\": {\"foo\": [\"bar\", \"baz\"]}} is not well-formatted.\\n\\nHere is the output schema:\\n```\\n{\"properties\": {\"position\": {\"title\": \"Position\", \"description\": \"The key is the title of the role. The value is the period where the role was held.\", \"type\": \"object\", \"additionalProperties\": {\"type\": \"string\"}}}, \"required\": [\"position\"]}\\n```'"
      ]
     },
     "execution_count": 94,
     "metadata": {},
     "output_type": "execute_result"
    }
   ],
   "source": [
    "class WorkingExperience(BaseModel):\n",
    "    position: Dict[str, str] = Field(description=\"The key is the title of the role. The value is the period where the role was held.\")\n",
    "    \n",
    "prompt = PromptTemplate(\n",
    "    template=\"\"\"The following text is the biography of a professor.\n",
    "    {biography}\n",
    "    \n",
    "    What is the working experience of this professor?\n",
    "    {format_instructions}\n",
    "    \"\"\",\n",
    "    input_variables=[\"biography\"],\n",
    "    partial_variables={\"format_instructions\": format_instruction}\n",
    ")\n",
    "\n",
    "parser = PydanticOutputParser(pydantic_object=WorkingExperience)\n",
    "format_instruction = parser.get_format_instructions()\n",
    "format_instruction"
   ]
  },
  {
   "cell_type": "code",
   "execution_count": 95,
   "metadata": {},
   "outputs": [
    {
     "name": "stdout",
     "output_type": "stream",
     "text": [
      "\n",
      "{\"position\": {\"Computer Scientist and Educator\": \"Present\", \"Research Group Lead\": \"Present\", \"Visiting Associate Professor\": \"2007-2013\", \"Senior Visiting Professor\": \"2013\"}}\n"
     ]
    }
   ],
   "source": [
    "with open('./raw_data/dr_ntu_sourav_saha_bhowmick.json', 'r') as f:\n",
    "    data = json.load(f)\n",
    "\n",
    "_input = prompt.format_prompt(biography=data['biography'])\n",
    "output = model(_input.to_string())\n",
    "print(output)"
   ]
  },
  {
   "cell_type": "code",
   "execution_count": 96,
   "metadata": {},
   "outputs": [
    {
     "name": "stdout",
     "output_type": "stream",
     "text": [
      "\n",
      "{\"position\": {\"Associate Professor\": \"1993-1999, 2000-present\", \"Researcher\": \"1983-1993\", \"Chair\": \"2012-2018\", \"General and Program Chair\": \"various years\"}}\n"
     ]
    }
   ],
   "source": [
    "with open('./raw_data/dr_ntu_alexei_sourin.json', 'r') as f:\n",
    "    data = json.load(f)\n",
    "\n",
    "_input = prompt.format_prompt(biography=data['biography'])\n",
    "output = model(_input.to_string())\n",
    "\n",
    "print(output)"
   ]
  },
  {
   "cell_type": "code",
   "execution_count": null,
   "metadata": {},
   "outputs": [],
   "source": []
  }
 ],
 "metadata": {
  "kernelspec": {
   "display_name": "scse_dashboard",
   "language": "python",
   "name": "python3"
  },
  "language_info": {
   "codemirror_mode": {
    "name": "ipython",
    "version": 3
   },
   "file_extension": ".py",
   "mimetype": "text/x-python",
   "name": "python",
   "nbconvert_exporter": "python",
   "pygments_lexer": "ipython3",
   "version": "3.11.3"
  }
 },
 "nbformat": 4,
 "nbformat_minor": 2
}
