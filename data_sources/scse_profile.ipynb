{
 "cells": [
  {
   "cell_type": "code",
   "execution_count": 1,
   "metadata": {},
   "outputs": [],
   "source": [
    "import os, json\n",
    "import datetime\n",
    "import pandas as pd"
   ]
  },
  {
   "cell_type": "code",
   "execution_count": 2,
   "metadata": {},
   "outputs": [],
   "source": [
    "dir = './raw_data'\n",
    "google_scholar_pub_files = [os.path.join(dir, f) for f in os.listdir(dir) if os.path.isfile(os.path.join(dir, f)) and 'google_scholar' in f and 'publication' in f]\n",
    "\n",
    "pubs_by_year = {}\n",
    "citations_by_year = {}\n",
    "\n",
    "min_year, max_year = float('inf'), datetime.datetime.now().year\n",
    "for file in google_scholar_pub_files:\n",
    "    with open(file, 'r') as f:\n",
    "        pubs = json.load(f)\n",
    "    \n",
    "    for pub in pubs.values():\n",
    "        if 'publication_date' in pub:\n",
    "            publication_year = int(pub['publication_date'].split('/')[0])\n",
    "\n",
    "            if publication_year>max_year:\n",
    "                publication_year='unknown'\n",
    "            else:\n",
    "                min_year = min(min_year, publication_year)\n",
    "\n",
    "        else:\n",
    "            publication_year = 'unknown'\n",
    "\n",
    "        pubs_by_year[publication_year] = pubs_by_year.get(publication_year, 0) + 1\n",
    "\n",
    "        if 'total_citations' in pub:\n",
    "            if publication_year=='unknown':\n",
    "                citations_by_year['unknown'] = citations_by_year.get('unknown', 0) + sum(pub['total_citations'].values())\n",
    "            else:\n",
    "                pub_citations = pub['total_citations']\n",
    "                for year in range(publication_year, max_year+1):\n",
    "                    citations_by_year[year] = citations_by_year.get(year, 0) + pub_citations.get(str(year), 0)\n",
    "\n",
    "final = {'Year':[], '# of Publications': [], '# of Citations': []}\n",
    "for year in range(min_year, max_year+1):\n",
    "    final['Year'].append(year)\n",
    "    final['# of Publications'].append(pubs_by_year.get(year,0))\n",
    "    final['# of Citations'].append(citations_by_year.get(year,0))\n",
    "\n",
    "if 'unknown' in pubs_by_year:\n",
    "    final['Year'].append('unknown')\n",
    "    final['# of Publications'].append(pubs_by_year.get('unknown',0))\n",
    "    final['# of Citations'].append(citations_by_year.get('unknown',0))\n",
    "\n",
    "\n",
    "scse_profile = {'by_year': final}\n",
    "os.makedirs('./scse', exist_ok=True)\n",
    "with open('./scse/profile.json', 'w') as f:\n",
    "    json.dump(scse_profile, f)"
   ]
  },
  {
   "cell_type": "code",
   "execution_count": null,
   "metadata": {},
   "outputs": [],
   "source": []
  },
  {
   "cell_type": "markdown",
   "metadata": {},
   "source": [
    "# Total number of faculty"
   ]
  },
  {
   "cell_type": "code",
   "execution_count": 3,
   "metadata": {},
   "outputs": [],
   "source": [
    "scse = pd.read_csv('./raw_data/scse_profiles.csv')\n",
    "total_profile = len(scse)\n",
    "\n",
    "with open('./scse/profile.json', 'r') as f:\n",
    "    profile = json.load(f)\n",
    "\n",
    "profile['# of Faculty'] = total_profile\n",
    "\n",
    "with open('./scse/profile.json', 'w') as f:\n",
    "    json.dump(profile, f)"
   ]
  },
  {
   "cell_type": "markdown",
   "metadata": {},
   "source": [
    "# Top Faculty"
   ]
  },
  {
   "cell_type": "code",
   "execution_count": 6,
   "metadata": {},
   "outputs": [],
   "source": [
    "dir = './processed_data'\n",
    "files = [os.path.join(dir, f) for f in os.listdir(dir) if os.path.isfile(os.path.join(dir, f))]\n",
    "\n",
    "publications = []\n",
    "citations = []\n",
    "h_index = []\n",
    "name = []\n",
    "top_faculty = {'Name': [], '# of Publications': [], '# of Citations': [], 'Avg Citations per Publication': [],'h-index': []}\n",
    "for file in files:\n",
    "    with open(file, 'r') as f:\n",
    "        profile = json.load(f)\n",
    "\n",
    "    # Only those with google scholar\n",
    "    if profile['google_scholar'] is not None:\n",
    "        total_publications = sum(profile['published_by_year'].values())\n",
    "        total_citations = sum(profile['citations_by_year']['# of Citations'])\n",
    "        avg_citations = total_citations / total_publications\n",
    "        h_index = profile['all_time_h_index']\n",
    "\n",
    "        name = profile['full_name']\n",
    "\n",
    "        top_faculty['Name'].append(name)\n",
    "        top_faculty['# of Publications'].append(total_publications)\n",
    "        top_faculty['# of Citations'].append(total_citations)\n",
    "        top_faculty['Avg Citations per Publication'].append(avg_citations)\n",
    "        top_faculty['h-index'].append(h_index)\n",
    "\n",
    "with open('./scse/profile.json', 'r') as f:\n",
    "    profile = json.load(f)\n",
    "\n",
    "profile['Top Faculty'] = top_faculty\n",
    "\n",
    "with open('./scse/profile.json', 'w') as f:\n",
    "    json.dump(profile, f) "
   ]
  },
  {
   "cell_type": "markdown",
   "metadata": {},
   "source": [
    "# Collaboration Network"
   ]
  },
  {
   "cell_type": "code",
   "execution_count": 18,
   "metadata": {},
   "outputs": [],
   "source": [
    "dir = './processed_data'\n",
    "files = [os.path.join(dir, f) for f in os.listdir(dir) if os.path.isfile(os.path.join(dir, f))]\n",
    "\n",
    "ntu_url = {}\n",
    "for file in files:\n",
    "    with open(file, 'r') as f:\n",
    "        profile = json.load(f)\n",
    "    name = profile['full_name']\n",
    "    if profile['google_scholar'] is not None:\n",
    "        id = profile['google_scholar'].split('user=')[1].split('&')[0]\n",
    "        ntu_url[id] = name\n",
    "\n",
    "network = {'source':[], 'target':[], '# of Collaboration':[], 'source_id':[], 'target_id':[], 'type':[], 'location':[]}\n",
    "for file in files:\n",
    "    with open(file, 'r') as f:\n",
    "        profile = json.load(f)\n",
    "    \n",
    "    if profile['google_scholar'] is not None:\n",
    "        profile_id = profile['google_scholar'].split('user=')[1].split('&')[0]\n",
    "        profile_name = profile['full_name']\n",
    "        key = tuple([profile_id, profile_name])\n",
    "        co_authors = profile['co_authors']\n",
    "        cur = []\n",
    "        for name, details in co_authors.items():\n",
    "            id = details['google_scholar'].split('user=')[1].split('&')[0]\n",
    "            if details['type']=='NTU' and id not in ntu_url:\n",
    "                ntu_url[id] = name\n",
    "\n",
    "            network['source'].append(profile_name); network['source_id'].append(profile_id); \n",
    "            network['target'].append(name); network['target_id'].append(id)\n",
    "            network['# of Collaboration'].append(details['# of Collaborations'])\n",
    "            network['type'].append(details['type']); network['location'].append(details['location'])\n",
    "\n",
    "with open('./scse/profile.json', 'r') as f:\n",
    "    profile = json.load(f)\n",
    "\n",
    "profile['Collaboration Network'] = network\n",
    "\n",
    "with open('./scse/profile.json', 'w') as f:\n",
    "    json.dump(profile, f) \n",
    "            "
   ]
  },
  {
   "cell_type": "code",
   "execution_count": null,
   "metadata": {},
   "outputs": [],
   "source": []
  }
 ],
 "metadata": {
  "kernelspec": {
   "display_name": "scse_dashboard",
   "language": "python",
   "name": "python3"
  },
  "language_info": {
   "codemirror_mode": {
    "name": "ipython",
    "version": 3
   },
   "file_extension": ".py",
   "mimetype": "text/x-python",
   "name": "python",
   "nbconvert_exporter": "python",
   "pygments_lexer": "ipython3",
   "version": "3.11.3"
  }
 },
 "nbformat": 4,
 "nbformat_minor": 2
}
