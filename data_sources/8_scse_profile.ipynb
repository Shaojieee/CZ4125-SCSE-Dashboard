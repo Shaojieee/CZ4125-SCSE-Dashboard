{
 "cells": [
  {
   "cell_type": "code",
   "execution_count": 1,
   "metadata": {},
   "outputs": [],
   "source": [
    "import os, json\n",
    "import datetime\n",
    "import pandas as pd\n",
    "from streamlit_extras.card import card\n",
    "from tqdm import tqdm"
   ]
  },
  {
   "cell_type": "code",
   "execution_count": 2,
   "metadata": {},
   "outputs": [],
   "source": [
    "raw_dr_ntu_dir='./raw_dr_ntu'\n",
    "raw_faculty_db = 'scse_profile'\n",
    "\n",
    "process_faculty_db_dir ='./processed'\n",
    "process_faculty_db = 'scse_profile'\n",
    "process_co_author_db = 'google_scholar_co_author'\n",
    "\n",
    "raw_google_scholar_dir = './raw_google_scholar'\n",
    "raw_google_search_dir = './google_search'\n",
    "\n",
    "process_publications_dir = './processed_google_scholar_publications'\n",
    "\n",
    "research_interest_dir = './research_interest'\n",
    "\n",
    "education_output_dir = './dr_ntu_education'\n",
    "\n",
    "profile_dir = './profile'\n"
   ]
  },
  {
   "cell_type": "code",
   "execution_count": 3,
   "metadata": {},
   "outputs": [],
   "source": [
    "faculties = pd.read_csv(os.path.join(process_faculty_db_dir, process_faculty_db+'.csv'))\n",
    "google_scholar_faculties = faculties[faculties['google_scholar'].notna()]"
   ]
  },
  {
   "cell_type": "code",
   "execution_count": 4,
   "metadata": {},
   "outputs": [
    {
     "name": "stderr",
     "output_type": "stream",
     "text": [
      "0it [00:00, ?it/s]"
     ]
    },
    {
     "name": "stderr",
     "output_type": "stream",
     "text": [
      "64it [00:00, 505.15it/s]\n"
     ]
    }
   ],
   "source": [
    "cur_year = datetime.datetime.now().year\n",
    "total_pubs_by_year = {}\n",
    "total_citations_by_year = {}\n",
    "min_year = str(cur_year+2)\n",
    "for i, row in tqdm(google_scholar_faculties.iterrows()):\n",
    "    name, google_scholar_id, dr_ntu_id = row['full_name'], row['google_scholar_id'], row['dr_ntu_id']\n",
    "\n",
    "    profile_file = f\"{profile_dir}/{dr_ntu_id}.json\"\n",
    "\n",
    "    \n",
    "    with open(profile_file, 'r') as f:\n",
    "        profile = json.load(f)\n",
    "    citations_by_year = pd.DataFrame(profile['citations_by_year'])\n",
    "    pubs_by_year = pd.DataFrame(profile['published_by_year'])\n",
    "    min_year = min(min_year, pubs_by_year['Year'].min())\n",
    "    for i, row in citations_by_year.iterrows():\n",
    "        year = row['Year']\n",
    "        total_citations_by_year[year] = total_citations_by_year.get(year, 0) + row['# of Citations']\n",
    "    for i, row in pubs_by_year.iterrows():\n",
    "        year = row['Year']\n",
    "        total_pubs_by_year[year] = total_pubs_by_year.get(year, 0) + row['# of Publications']\n",
    "\n",
    "final = {'Year':[], '# of Publications': [], '# of Citations': []}\n",
    "for year in range(int(min_year), cur_year+1):\n",
    "    final['Year'].append(str(year))\n",
    "    final['# of Publications'].append(total_pubs_by_year.get(str(year),0))\n",
    "    final['# of Citations'].append(total_citations_by_year.get(str(year),0))\n",
    "\n",
    "if 'unknown' in pubs_by_year:\n",
    "    final['Year'].append('unknown')\n",
    "    final['# of Publications'].append(total_pubs_by_year.get('unknown',0))\n",
    "    final['# of Citations'].append(total_citations_by_year.get('unknown',0))\n",
    "\n",
    "\n",
    "scse_profile = {'by_year': final}\n",
    "with open(f'{profile_dir}/scse.json', 'w') as f:\n",
    "    json.dump(scse_profile, f)"
   ]
  },
  {
   "cell_type": "markdown",
   "metadata": {},
   "source": [
    "# Total number of faculty"
   ]
  },
  {
   "cell_type": "code",
   "execution_count": 5,
   "metadata": {},
   "outputs": [],
   "source": [
    "scse = pd.read_csv(f'{process_faculty_db_dir}/{process_faculty_db}.csv')\n",
    "total_profile = len(scse)\n",
    "\n",
    "with open(f'{profile_dir}/scse.json', 'r') as f:\n",
    "    profile = json.load(f)\n",
    "\n",
    "profile['# of Faculty'] = total_profile\n",
    "\n",
    "with open(f'{profile_dir}/scse.json', 'w') as f:\n",
    "    json.dump(profile, f)"
   ]
  },
  {
   "cell_type": "markdown",
   "metadata": {},
   "source": [
    "# Top Faculty"
   ]
  },
  {
   "cell_type": "code",
   "execution_count": 6,
   "metadata": {},
   "outputs": [
    {
     "name": "stderr",
     "output_type": "stream",
     "text": [
      "64it [00:00, 1396.46it/s]\n"
     ]
    }
   ],
   "source": [
    "top_faculty = {'Name': [], '# of Publications': [], '# of Citations': [], 'Avg Citations per Publication': [],'h-index': []}\n",
    "cur_year = datetime.datetime.now().year\n",
    "\n",
    "for i, row in tqdm(google_scholar_faculties.iterrows()):\n",
    "    name, google_scholar_id, dr_ntu_id = row['full_name'], row['google_scholar_id'], row['dr_ntu_id']\n",
    "\n",
    "    profile_file = f\"{profile_dir}/{dr_ntu_id}.json\"\n",
    "\n",
    "    with open(profile_file, 'r') as f:\n",
    "        profile = json.load(f)\n",
    "    total_publications = sum(profile['published_by_year']['# of Publications'])\n",
    "    total_citations = sum(profile['citations_by_year']['# of Citations'])\n",
    "    avg_citations = total_citations / total_publications\n",
    "    h_index = profile['all_time_h_index']\n",
    "\n",
    "    name = profile['full_name']\n",
    "\n",
    "    top_faculty['Name'].append(name)\n",
    "    top_faculty['# of Publications'].append(total_publications)\n",
    "    top_faculty['# of Citations'].append(total_citations)\n",
    "    top_faculty['Avg Citations per Publication'].append(avg_citations)\n",
    "    top_faculty['h-index'].append(h_index)\n",
    "\n",
    "with open(f'{profile_dir}/scse.json', 'r') as f:\n",
    "    profile = json.load(f)\n",
    "\n",
    "profile['Top Faculty'] = top_faculty\n",
    "\n",
    "with open(f'{profile_dir}/scse.json', 'w') as f:\n",
    "    json.dump(profile, f) "
   ]
  },
  {
   "cell_type": "markdown",
   "metadata": {},
   "source": [
    "# Collaboration Network"
   ]
  },
  {
   "cell_type": "code",
   "execution_count": 7,
   "metadata": {},
   "outputs": [
    {
     "name": "stderr",
     "output_type": "stream",
     "text": [
      "64it [00:00, 1379.19it/s]\n"
     ]
    }
   ],
   "source": [
    "network = {'source':[], 'target':[], 'source_id':[], 'target_id':[], 'type':[], 'location':[], 'year': []}\n",
    "cur_year = datetime.datetime.now().year\n",
    "\n",
    "for i, row in tqdm(google_scholar_faculties.iterrows()):\n",
    "    name, google_scholar_id, dr_ntu_id = row['full_name'], row['google_scholar_id'], row['dr_ntu_id']\n",
    "\n",
    "    profile_file = f\"{profile_dir}/{dr_ntu_id}.json\"\n",
    "\n",
    "    with open(profile_file, 'r') as f:\n",
    "        profile = json.load(f)\n",
    "    \n",
    "    co_authors = profile['collaboration_network']\n",
    "    source_name = name\n",
    "    source_id = google_scholar_id\n",
    "\n",
    "\n",
    "    \n",
    "    network['source']+=[source_name]*len(co_authors['target']); network['source_id']+=[source_id]*len(co_authors['target']); \n",
    "    network['target']+=co_authors['target']; network['target_id']+=co_authors['target_id']\n",
    "    network['type']+=co_authors['type']; network['location']+=co_authors['location']\n",
    "    network['year']+=co_authors['year']\n",
    "\n",
    "\n",
    "with open(f'{profile_dir}/scse.json', 'r') as f:\n",
    "    profile = json.load(f)\n",
    "\n",
    "profile['Collaboration Network'] = network\n",
    "\n",
    "with open(f'{profile_dir}/scse.json', 'w') as f:\n",
    "    json.dump(profile, f) \n",
    "            "
   ]
  },
  {
   "cell_type": "markdown",
   "metadata": {},
   "source": [
    "# Top Publications"
   ]
  },
  {
   "cell_type": "code",
   "execution_count": 8,
   "metadata": {},
   "outputs": [
    {
     "name": "stderr",
     "output_type": "stream",
     "text": [
      "64it [00:00, 1250.44it/s]\n"
     ]
    }
   ],
   "source": [
    "top_pubs = {'name': [], 'title': [], 'link': [], 'total_citations': [], 'publication_year': [], 'topic':[]}\n",
    "cur_year = datetime.datetime.now().year\n",
    "\n",
    "for i, row in tqdm(google_scholar_faculties.iterrows()):\n",
    "    name, google_scholar_id, dr_ntu_id = row['full_name'], row['google_scholar_id'], row['dr_ntu_id']\n",
    "\n",
    "    profile_file = f\"{profile_dir}/{dr_ntu_id}.json\"\n",
    "\n",
    "    with open(profile_file, 'r') as f:\n",
    "        profile = json.load(f)\n",
    "    pubs = profile['publications']\n",
    "\n",
    "    top_pubs['name']+=[name]*len(pubs['Title'])\n",
    "    top_pubs['title']+=pubs['Title']\n",
    "    top_pubs['link']+=pubs['Link']\n",
    "    top_pubs['total_citations']+=pubs['# of Citations']\n",
    "    top_pubs['publication_year']+=pubs['Publication Year']\n",
    "    top_pubs['topic']+=pubs['Topic']\n",
    "\n",
    "with open(f'{profile_dir}/scse.json', 'r') as f:\n",
    "    profile = json.load(f)\n",
    "\n",
    "profile['All Publications'] = top_pubs\n",
    "\n",
    "with open(f'{profile_dir}/scse.json', 'w') as f:\n",
    "    json.dump(profile, f) \n"
   ]
  },
  {
   "cell_type": "code",
   "execution_count": null,
   "metadata": {},
   "outputs": [],
   "source": []
  }
 ],
 "metadata": {
  "kernelspec": {
   "display_name": "scse_dashboard",
   "language": "python",
   "name": "python3"
  },
  "language_info": {
   "codemirror_mode": {
    "name": "ipython",
    "version": 3
   },
   "file_extension": ".py",
   "mimetype": "text/x-python",
   "name": "python",
   "nbconvert_exporter": "python",
   "pygments_lexer": "ipython3",
   "version": "3.11.3"
  }
 },
 "nbformat": 4,
 "nbformat_minor": 2
}
