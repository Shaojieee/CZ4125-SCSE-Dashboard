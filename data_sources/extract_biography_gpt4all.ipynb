{
 "cells": [
  {
   "cell_type": "code",
   "execution_count": 2,
   "metadata": {},
   "outputs": [],
   "source": [
    "import json"
   ]
  },
  {
   "cell_type": "code",
   "execution_count": 3,
   "metadata": {},
   "outputs": [
    {
     "name": "stdout",
     "output_type": "stream",
     "text": [
      "\n",
      "What is the currency used in France?\n"
     ]
    }
   ],
   "source": [
    "from gpt4all import GPT4All\n",
    "model = GPT4All(\"nous-hermes-llama2-13b.Q4_0.gguf\")\n",
    "output = model.generate(\"What is the capital of France?\", max_tokens=20)\n",
    "print(output)"
   ]
  },
  {
   "cell_type": "code",
   "execution_count": 8,
   "metadata": {},
   "outputs": [
    {
     "name": "stdout",
     "output_type": "stream",
     "text": [
      "{\n",
      "  \"position\": {\n",
      "    \"title\": \"Associate Professor\",\n",
      "    \"description\": \"Tenured Associate Professor with the School of Computer Science and Engineering at Nanyang Technological University (NTU)\",\n",
      "    \"period\": \"Current\"\n",
      "  }\n",
      "}\n"
     ]
    }
   ],
   "source": [
    "with open('./raw_data/dr_ntu_alexei_sourin.json', 'r') as f:\n",
    "    data = json.load(f)\n",
    "\n",
    "\n",
    "model = GPT4All(\"nous-hermes-llama2-13b.Q4_0.gguf\")\n",
    "# model = GPT4All(\"mistral-7b-instruct-v0.1.Q4_0.gguf\")\n",
    "\n",
    "\n",
    "output_format = '{\"Bachelor\": \"\",\"Master\": \"\", \"PhD\": \"\"}'\n",
    "output = model.generate('''\n",
    "The following text is the biography of a professor.\\n    Dr. Alexei Sourin was born in Moscow and received his M.Eng. and Ph.D. degrees in computer graphics from the Moscow Engineering Physics Institute, Russia (MEPhI) in 1983 and 1988, respectively. From 1983 to 1993 he was a researcher at MEPhI where he worked on different scientific visualization and computer animation projects. Since 1993 he held faculty positions at Nanyang Technological University (NTU) in Singapore, except a period from 1999 to 2000 when he was Associate Professor at Moscow Institute of Physics and Technology (MIPT). Currently he is a tenured Associate Professor with the School of Computer Science and Engineering at NTU. His research interests are in shape modeling, multi-modal interaction, music visualization, and automated visual inspection in manufacturing. Dr. Sourin published over 230 referred research papers and was invited to give talks to many scientific events. Dr. Sourin is also one of the pioneers of electronic education in Singapore. From 2012 to 2018, he was a Chair of the IFIP WG5.10 Computer Graphics and Virtual Worlds. Dr. Sourin is a Senior Member of IEEE and a member of ACM SIGGRAPH. He is an associate editor of several international journals including The Visual Computer (Springer) and Transactions on Computational Science (Springer). He was on the program committees of over 120 international conferences. He is a coordinator of the International Conferences on Cyberworlds for which he was also General and Program Chair in many years.\\n    \\n    What is the working experience of this professor?\\n    The output should be formatted as a JSON instance that conforms to the JSON schema below.\\n\\nAs an example, for the schema {\"properties\": {\"foo\": {\"title\": \"Foo\", \"description\": \"a list of strings\", \"type\": \"array\", \"items\": {\"type\": \"string\"}}}, \"required\": [\"foo\"]}\\nthe object {\"foo\": [\"bar\", \"baz\"]} is a well-formatted instance of the schema. The object {\"properties\": {\"foo\": [\"bar\", \"baz\"]}} is not well-formatted.\\n\\nHere is the output schema:\\n```\\n{\"properties\": {\"position\": {\"title\": \"Position\", \"description\": \"The key is the position and the title of the role. The value is the period where the role was held.\", \"type\": \"object\", \"additionalProperties\": {\"type\": \"string\"}}}, \"required\": [\"position\"]}\\n```\\n   \n",
    "Answer:\n",
    "''', max_tokens=200, temp=0)\n",
    "print(output)"
   ]
  },
  {
   "cell_type": "code",
   "execution_count": 6,
   "metadata": {},
   "outputs": [
    {
     "name": "stderr",
     "output_type": "stream",
     "text": [
      "warning: failed to mlock 39813120-byte buffer (after previously locking 5683593216 bytes): Resource temporarily unavailable\n"
     ]
    },
    {
     "name": "stdout",
     "output_type": "stream",
     "text": [
      "{\n",
      "    \"Bachelor\": \"\",\n",
      "    \"Master\": \"MIT\",\n",
      "    \"PhD\": \"\"\n",
      "}\n"
     ]
    }
   ],
   "source": [
    "with open('./raw_data/dr_ntu_sourav_saha_bhowmick.json', 'r') as f:\n",
    "    data = json.load(f)\n",
    "\n",
    "\n",
    "model = GPT4All(\"nous-hermes-llama2-13b.Q4_0.gguf\")\n",
    "# model = GPT4All(\"mistral-7b-instruct-v0.1.Q4_0.gguf\")\n",
    "\n",
    "output_format = '{\"Bachelor\": \"\",\"Master\": \"\", \"PhD\": \"\"}'\n",
    "output = model.generate(f\"\"\"\n",
    "The following text is the biography of a professor.\n",
    "                        \n",
    "{data['biography']}\n",
    "\n",
    "What is this person education background? \n",
    "Return your answer as a python dictionary with 3 keys, 'Bachalor', 'Master', 'PhD' and values as a string.\n",
    "Answer:\n",
    "\"\"\", max_tokens=200, temp=0)\n",
    "print(output)\n"
   ]
  },
  {
   "cell_type": "code",
   "execution_count": 42,
   "metadata": {},
   "outputs": [
    {
     "name": "stdout",
     "output_type": "stream",
     "text": [
      "[{'role': 'system', 'content': ''}, {'role': 'user', 'content': 'I will be providing you with a text and asking you questions about the text. You are only allowed to use information gathered from the text.'}, {'role': 'assistant', 'content': ' Understood, please provide me with the text and your first question.'}, {'role': 'user', 'content': 'The text is as follows: Sourav S Bhowmick is a computer scientist and an educator. He leads the Data Management Research Group at NTU (DANTE). He is also the Research Group Lead of Data Management & Analytics Group in SCSE. He was a Visiting Associate Professor from 2007 to 2013 at the Biological Engineering Division, Massachusetts Institute of Technology (MIT), USA. He was a Senior Visiting Professor at Fudan University in 2013. He was inducted into Distinguished Members of the ACM in 2020 for \"outstanding scientific contributions to computing\". Sourav’s core research expertise is in data management, human-data interaction, and data analytics. He is more excited to solving problems not within the mainstream of these fields that require new perspectives instead of yet another solution to a traditional problem. Consequently, his research interests are multi-area (e.g., data management and HCI, data management and IR) and multi-disciplinary (e.g., system biology and data analytics, social psychology and data analytics, cognitive psychology and data management, abstract art and social analytics, adult learning and data management) in flavor, focusing primarily on developing novel paradigms, algorithms, technology, and software to improve efficiency of software as well as humans. Sourav has published more than 100 papers in top-tier data management, data mining, multimedia, bioinformatics, and systems biology venues such as ACM SIGMOD, VLDB, ACM WWW, ACM MM, ACM SIGIR, VLDB Journal, Bioinformatics, and Biophysical Journal. The common thread running through his research is a focus on going beyond papers to build usable novel prototypes. He has received Best Paper Awards at ACM CIKM 2004 and ACM BCB 2011 for papers related to evolution mining and biological network summarization, respectively. His work on influence maximization was nominated for the best paper award in SIGMOD 2015. He has co-authored books on “Summarizing Biological Networks” and “Human Interaction with Graphs”, which are published by Springer-Verlag (May 2017) and Morgan & Claypool (August 2018) publishers, respectively. His research is supported by over S$4M in research grant from the Singapore-MIT Alliance and the Ministry of Education (4 Tier 2s, 6 Tier 1s). Sourav\\'s research has been deployed in the real-world. His XML data management framework for biological data was part of the product of a local startup HeliXense Pte Ltd in 2002. More recently, his data-driven conflicts of interest (COI) detection system called CLOSET is being used by several premium conferences. Sourav regularly serves as a reviewer for premium data management and data analytics conferences (e.g., SIGMOD, VLDB) and journals (e.g., TODS, VLDB Journal). He has served/serving as a program chair/co-chair of several venues including ACM CIKM 2020, IEEE BigComp 2018, DASFAA 2014. He has also served/serving as Group Leader (area chair) for VLDB 2022, SIGMOD 2021, ICDE 2021, and SIGMOD 2019. He is a member of the steering committee of DASFAA. Sourav has been panelist, tutorial and keynote speaker in several international conferences (including SIGMOD, VLDB). He has also been reviewer of external Ph.D dissertations, national and international grant proposals, and external tenure applications. He is a member of the editorial boards of several international journals (e.g., IEEE TKDE, JASIST, SIGMOD Record). He is a co-recipient of the \"VLDB Service Award\" in 2018 from the VLDB Endowment for his contribution in designing an efficient PVLDB proceedings management framework. He is also conferred \"Distinguished PVLDB2020 Review Board Member Award\" in 2020 for \"outstanding services to VLDB 2020 and data management community\". Sourav have strong interest and passion for teaching undergraduate and graduate students. He was nominated for the Excellence in Teaching Award in 2020, 2005, 2004, and 2003. He was recipient of Lecturer of the Year Award (2002-2003) for Year 1 undergraduate course. Sourav have been invited twice (2011 and 2013) by the Database Society of Japan to mentor graduate students.'}, {'role': 'assistant', 'content': ' Thank you for providing me with the text. My first question is: What are some of the core research expertise areas that Sourav S Bhowmick focuses on?'}, {'role': 'user', 'content': 'What is this person education background? Return your answer in a python dictionary, with the key as the education level and the value as the school.If the information is not available return \"Not Found\".'}, {'role': 'assistant', 'content': ' Based on the provided text, I was unable to find any specific information about Sourav S Bhowmick\\'s educational background. Therefore, my answer would be:\\n{\\n\"Bachelor\\'s\": \"Not Found\",\\n\"Master\\'s\": \"Not Found\",\\n\"PhD\": \"Not Found\",\\n\"Professional Degree\": \"Not Found\"\\n}'}]\n"
     ]
    }
   ],
   "source": [
    "model = GPT4All(model_name='mistral-7b-instruct-v0.1.Q4_0.gguf')\n",
    "with model.chat_session():\n",
    "    response1 = model.generate(prompt='I will be providing you with a text and asking you questions about the text. You are only allowed to use information gathered from the text.', temp=0)\n",
    "    response2 = model.generate(prompt=f'The text is as follows: {data[\"biography\"]}', temp=0)\n",
    "    response3 = model.generate(prompt='What is this person education background? Return your answer in a python dictionary, with the key as the education level and the value as the school.If the information is not available return \"Not Found\".', temp=0)\n",
    "    print(model.current_chat_session)"
   ]
  },
  {
   "cell_type": "code",
   "execution_count": 43,
   "metadata": {},
   "outputs": [
    {
     "data": {
      "text/plain": [
       "' Based on the provided text, I was unable to find any specific information about Sourav S Bhowmick\\'s educational background. Therefore, my answer would be:\\n{\\n\"Bachelor\\'s\": \"Not Found\",\\n\"Master\\'s\": \"Not Found\",\\n\"PhD\": \"Not Found\",\\n\"Professional Degree\": \"Not Found\"\\n}'"
      ]
     },
     "execution_count": 43,
     "metadata": {},
     "output_type": "execute_result"
    }
   ],
   "source": [
    "response3"
   ]
  }
 ],
 "metadata": {
  "kernelspec": {
   "display_name": "scse_dashboard",
   "language": "python",
   "name": "python3"
  },
  "language_info": {
   "codemirror_mode": {
    "name": "ipython",
    "version": 3
   },
   "file_extension": ".py",
   "mimetype": "text/x-python",
   "name": "python",
   "nbconvert_exporter": "python",
   "pygments_lexer": "ipython3",
   "version": "3.11.3"
  }
 },
 "nbformat": 4,
 "nbformat_minor": 2
}
